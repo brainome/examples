{
 "metadata": {
  "language_info": {
   "codemirror_mode": {
    "name": "ipython",
    "version": 3
   },
   "file_extension": ".py",
   "mimetype": "text/x-python",
   "name": "python",
   "nbconvert_exporter": "python",
   "pygments_lexer": "ipython3",
   "version": "3.7.3-final"
  },
  "orig_nbformat": 2,
  "kernelspec": {
   "name": "python3",
   "display_name": "Python 3.7.3 64-bit",
   "metadata": {
    "interpreter": {
     "hash": "31f2aee4e71d21fbe5cf8b01ff0e069b9275f58929596ceb00d14d90e3e16cd6"
    }
   }
  }
 },
 "nbformat": 4,
 "nbformat_minor": 2,
 "cells": [
  {
   "source": [
    "# Credit Card Fraud Detection Using Daimensions"
   ],
   "cell_type": "markdown",
   "metadata": {}
  },
  {
   "source": [
    "In this notebook, we will be using a dataset from Worldline and the Machine Learning Group (http://mlg.ulb.ac.be) of ULB (Université Libre de Bruxelles). This dataset has 30 attribute columns to describe a credit card transaction and one target column to determine if it is a fraudulant transaction. The dataset can be found on Kaggle: \n",
    "https://www.kaggle.com/mlg-ulb/creditcardfraud"
   ],
   "cell_type": "markdown",
   "metadata": {}
  },
  {
   "source": [
    "Below is a sample of the data. All of the features that start with \"V\" are the result of a PCA transformation on the sensitive data relevant to the transaction. We are trying to predict the \"Class\" column, and it has the labels \"1\" for fraudulent transactions and \"0\" for regular ones. Also, the dataset is highly unbalanced, with only 0.17% of the transactions being fraudulent."
   ],
   "cell_type": "markdown",
   "metadata": {}
  },
  {
   "cell_type": "code",
   "execution_count": 1,
   "metadata": {},
   "outputs": [
    {
     "output_type": "stream",
     "name": "stdout",
     "text": [
      "\"Time\",\"V1\",\"V2\",\"V3\",\"V4\",\"V5\",\"V6\",\"V7\",\"V8\",\"V9\",\"V10\",\"V11\",\"V12\",\"V13\",\"V14\",\"V15\",\"V16\",\"V17\",\"V18\",\"V19\",\"V20\",\"V21\",\"V22\",\"V23\",\"V24\",\"V25\",\"V26\",\"V27\",\"V28\",\"Amount\",\"Class\"\n0,-1.3598071336738,-0.0727811733098497,2.53634673796914,1.37815522427443,-0.338320769942518,0.462387777762292,0.239598554061257,0.0986979012610507,0.363786969611213,0.0907941719789316,-0.551599533260813,-0.617800855762348,-0.991389847235408,-0.311169353699879,1.46817697209427,-0.470400525259478,0.207971241929242,0.0257905801985591,0.403992960255733,0.251412098239705,-0.018306777944153,0.277837575558899,-0.110473910188767,0.0669280749146731,0.128539358273528,-0.189114843888824,0.133558376740387,-0.0210530534538215,149.62,\"0\"\n0,1.19185711131486,0.26615071205963,0.16648011335321,0.448154078460911,0.0600176492822243,-0.0823608088155687,-0.0788029833323113,0.0851016549148104,-0.255425128109186,-0.166974414004614,1.61272666105479,1.06523531137287,0.48909501589608,-0.143772296441519,0.635558093258208,0.463917041022171,-0.114804663102346,-0.183361270123994,-0.145783041325259,-0.0690831352230203,-0.225775248033138,-0.638671952771851,0.101288021253234,-0.339846475529127,0.167170404418143,0.125894532368176,-0.00898309914322813,0.0147241691924927,2.69,\"0\"\n1,-1.35835406159823,-1.34016307473609,1.77320934263119,0.379779593034328,-0.503198133318193,1.80049938079263,0.791460956450422,0.247675786588991,-1.51465432260583,0.207642865216696,0.624501459424895,0.066083685268831,0.717292731410831,-0.165945922763554,2.34586494901581,-2.89008319444231,1.10996937869599,-0.121359313195888,-2.26185709530414,0.524979725224404,0.247998153469754,0.771679401917229,0.909412262347719,-0.689280956490685,-0.327641833735251,-0.139096571514147,-0.0553527940384261,-0.0597518405929204,378.66,\"0\"\n1,-0.966271711572087,-0.185226008082898,1.79299333957872,-0.863291275036453,-0.0103088796030823,1.24720316752486,0.23760893977178,0.377435874652262,-1.38702406270197,-0.0549519224713749,-0.226487263835401,0.178228225877303,0.507756869957169,-0.28792374549456,-0.631418117709045,-1.0596472454325,-0.684092786345479,1.96577500349538,-1.2326219700892,-0.208037781160366,-0.108300452035545,0.00527359678253453,-0.190320518742841,-1.17557533186321,0.647376034602038,-0.221928844458407,0.0627228487293033,0.0614576285006353,123.5,\"0\"\n2,-1.15823309349523,0.877736754848451,1.548717846511,0.403033933955121,-0.407193377311653,0.0959214624684256,0.592940745385545,-0.270532677192282,0.817739308235294,0.753074431976354,-0.822842877946363,0.53819555014995,1.3458515932154,-1.11966983471731,0.175121130008994,-0.451449182813529,-0.237033239362776,-0.0381947870352842,0.803486924960175,0.408542360392758,-0.00943069713232919,0.79827849458971,-0.137458079619063,0.141266983824769,-0.206009587619756,0.502292224181569,0.219422229513348,0.215153147499206,69.99,\"0\"\n2,-0.425965884412454,0.960523044882985,1.14110934232219,-0.168252079760302,0.42098688077219,-0.0297275516639742,0.476200948720027,0.260314333074874,-0.56867137571251,-0.371407196834471,1.34126198001957,0.359893837038039,-0.358090652573631,-0.137133700217612,0.517616806555742,0.401725895589603,-0.0581328233640131,0.0686531494425432,-0.0331937877876282,0.0849676720682049,-0.208253514656728,-0.559824796253248,-0.0263976679795373,-0.371426583174346,-0.232793816737034,0.105914779097957,0.253844224739337,0.0810802569229443,3.67,\"0\"\n4,1.22965763450793,0.141003507049326,0.0453707735899449,1.20261273673594,0.191880988597645,0.272708122899098,-0.00515900288250983,0.0812129398830894,0.464959994783886,-0.0992543211289237,-1.41690724314928,-0.153825826253651,-0.75106271556262,0.16737196252175,0.0501435942254188,-0.443586797916727,0.00282051247234708,-0.61198733994012,-0.0455750446637976,-0.21963255278686,-0.167716265815783,-0.270709726172363,-0.154103786809305,-0.780055415004671,0.75013693580659,-0.257236845917139,0.0345074297438413,0.00516776890624916,4.99,\"0\"\n7,-0.644269442348146,1.41796354547385,1.0743803763556,-0.492199018495015,0.948934094764157,0.428118462833089,1.12063135838353,-3.80786423873589,0.615374730667027,1.24937617815176,-0.619467796121913,0.291474353088705,1.75796421396042,-1.32386521970526,0.686132504394383,-0.0761269994382006,-1.2221273453247,-0.358221569869078,0.324504731321494,-0.156741852488285,1.94346533978412,-1.01545470979971,0.057503529867291,-0.649709005559993,-0.415266566234811,-0.0516342969262494,-1.20692108094258,-1.08533918832377,40.8,\"0\"\n7,-0.89428608220282,0.286157196276544,-0.113192212729871,-0.271526130088604,2.6695986595986,3.72181806112751,0.370145127676916,0.851084443200905,-0.392047586798604,-0.410430432848439,-0.705116586646536,-0.110452261733098,-0.286253632470583,0.0743553603016731,-0.328783050303565,-0.210077268148783,-0.499767968800267,0.118764861004217,0.57032816746536,0.0527356691149697,-0.0734251001059225,-0.268091632235551,-0.204232669947878,1.0115918018785,0.373204680146282,-0.384157307702294,0.0117473564581996,0.14240432992147,93.2,\"0\"\n"
     ]
    }
   ],
   "source": [
    "! head creditcard.csv"
   ]
  },
  {
   "source": [
    "For this dataset, our objective is to understand which attributes are most important, and then be able to build a model that detects credit card fraud. Daimension's has an option to enable attribute ranking, which is extremely helpful in finding the features that are most correlated with the target class."
   ],
   "cell_type": "markdown",
   "metadata": {}
  },
  {
   "source": [
    "## 1. Get Measurements\n",
    "Before we build the predictor for the dataset, it would be wise to measure it. This allows us to find the most optimal model, without even having to build one. For more information about how to use Daimensions and why we want to measure our data beforehand, check out the Titanic notebook."
   ],
   "cell_type": "markdown",
   "metadata": {}
  },
  {
   "cell_type": "code",
   "execution_count": 9,
   "metadata": {},
   "outputs": [
    {
     "output_type": "stream",
     "name": "stdout",
     "text": [
      "Brainome Daimensions(tm) 0.99 Copyright (c) 2019, 2020 by Brainome, Inc. All Rights Reserved.\n",
      "Licensed to: Alexander Makhratchev\n",
      "Expiration date: 2021-04-30 (60 days left)\n",
      "Number of threads: 1\n",
      "Maximum file size: 30720MB\n",
      "Running locally.\n",
      "WARNING: Could not detect a GPU. Neural Network generation will be slow.\n",
      "\n",
      "Data:\n",
      "Number of instances: 284807\n",
      "Number of attributes: 30\n",
      "Number of classes: 2\n",
      "Class balance: 99.83% 0.17%\n",
      "\n",
      "Learnability:\n",
      "Best guess accuracy: 99.83%\n",
      "Capacity progression: [8, 9, 10, 10, 11, 11]\n",
      "Decision Tree: 938 parameters\n",
      "Estimated Memory Equivalent Capacity for Neural Networks: 321 parameters\n",
      "\n",
      "Risk that model needs to overfit for 100% accuracy...\n",
      "using Decision Tree: 95.49%\n",
      "using Neural Networks: 100.00%\n",
      "\n",
      "Expected Generalization...\n",
      "using Decision Tree: 5.57 bits/bit\n",
      "using a Neural Network: 16.28 bits/bit\n",
      "\n",
      "Recommendations:\n",
      "Note: Maybe enough data to generalize. [yellow]\n",
      "Warning: Data has high information density. Expect varying results and increase --effort.\n",
      "Time estimate for a Neural Network:\n",
      "Estimated time to architect: 0d 2h 43m 53s\n",
      "\n",
      "Estimated time to prime (subject to change after model architecting): 0d 0h 2m 13s\n",
      "\n",
      "Time estimate for Decision Tree:\n",
      "Estimated time to prime a decision tree: less than a minute\n"
     ]
    }
   ],
   "source": [
    "! ./btc creditcard.csv -measureonly"
   ]
  },
  {
   "source": [
    "## 2. Neural Network with -O \n",
    "From the daimensions measurements, we can see that the best model for this dataset would be a neural network. It has the highest generalization and lowest memory equivalent capacity. However, the neural network has a much higher risk for overfit. Because the dataset is so unbalanced, we will be using the -O command line option in order optimize the true positive rate (TPR). After the -O, we specify the label to focus on, and in our case it is the fradulent charges \"1\"."
   ],
   "cell_type": "markdown",
   "metadata": {}
  },
  {
   "cell_type": "code",
   "execution_count": 5,
   "metadata": {},
   "outputs": [
    {
     "output_type": "stream",
     "name": "stdout",
     "text": [
      "WARNING: Could not detect a GPU. Neural Network generation will be slow.\n",
      "\n",
      "Brainome Daimensions(tm) 0.99 Copyright (c) 2019 - 2021 by Brainome, Inc. All Rights Reserved.\n",
      "Licensed to:              Alexander Makhratchev  (Evaluation)\n",
      "Expiration Date:          2021-04-30   58 days left\n",
      "Number of Threads:        1\n",
      "Maximum File Size:        30 GB\n",
      "Maximum Instances:        unlimited\n",
      "Maximum Attributes:       unlimited\n",
      "Maximum Classes:          unlimited\n",
      "Connected to:             daimensions.brainome.ai  (local execution)\n",
      "\n",
      "\n",
      "\n",
      "Command:\n",
      "    btc creditcard.csv -f NN -O 1 --yes\n",
      "\n",
      "Start Time:                 03/03/2021, 04:25\n",
      "\n",
      "\n",
      "Data:\n",
      "    Input:                      creditcard.csv\n",
      "    Target Column:              Class\n",
      "    Number of instances:        284807\n",
      "    Number of attributes:       30\n",
      "    Number of classes:          2\n",
      "    Class Balance:              0: 99.83%, 1: 0.17%\n",
      "\n",
      "Learnability:\n",
      "    Best guess accuracy:          99.83%\n",
      "    Data Sufficiency:            Maybe enough data to generalize. [yellow]\n",
      "\n",
      "Capacity Progression:            at [ 5%, 10%, 20%, 40%, 80%, 100% ]\n",
      "    Optimal Machine Learner:           7,   8,   9,   9,  10,  10\n",
      "\n",
      "\n",
      "Estimated Memory Equivalent Capacity for...\n",
      "    Decision Tree:                   938 parameters\n",
      "    Neural Networks:                   1 parameters\n",
      "    Random Forest:                    65 parameters\n",
      "\n",
      "Risk that model needs to overfit for 100% accuracy using...\n",
      "    Decision Tree:                95.49%\n",
      "    Neural Networks:               9.09%\n",
      "    Random Forest:                27.20%\n",
      "\n",
      "Expected Generalization using...\n",
      "    Decision Tree:                  5.57 bits/bit\n",
      "    Neural Network:             142182.00 bits/bit\n",
      "    Random Forest:               4381.65 bits/bit\n",
      "\n",
      "\n",
      "Recommendations:\n",
      "\n",
      "    Warning: Data has high information density. Expect varying results and increase --effort.\n",
      "    Note: Machine learner type NN given by user.\n",
      "\n",
      "\n",
      "Time to Build Estimates:\n",
      "\n",
      "    Neural Network:              16 minutes\n",
      "\n",
      "\n",
      "System Meter:                          a.py\n",
      "    Classifier Type:                   Neural Network\n",
      "    System Type:                       Binary classifier\n",
      "    Training/Validation Split:           50% : 50%\n",
      "    Accuracy:\n",
      "        Best-guess accuracy:               99.82%\n",
      "        Training accuracy:                  1.44% (2064/142403 correct)\n",
      "        Validation Accuracy:                0.80% (1152/142404 correct)\n",
      "        Overall Model Accuracy:             1.12% (3216/284807 correct)\n",
      "        Improvement over best guess:      -98.70% of possible   0.18%\n",
      "\n",
      "    Model Capacity (MEC):                       1 bit\n",
      "    Generalization Ratio:                   37.46 bits/bit\n",
      "    Model Efficiency:                      -98.69 /parameter\n",
      "\n",
      "    Training Confusion Matrix (count):\n",
      "                   0 |    1821  140339 \n",
      "                   1 |       0     243 \n",
      "\n",
      "    Validation Confusion Matrix (count):\n",
      "                   0 |     903  141252 \n",
      "                   1 |       0     249 \n",
      "\n",
      "    Full Confusion Matrix (count):\n",
      "                   0 |    2724  281591 \n",
      "                   1 |       0     492 \n",
      "\n",
      "    Accuracy by Class:\n",
      "               class |      TP      FP      TN      FN     TPR      TNR      PPV      NPV       F1       TS \n",
      "                   0 |    2724  281591     492       0  100.00%  100.00%    0.96%  100.00%    1.90%    0.96%\n",
      "                   1 |     492       0    2724  281591    0.17%    0.96%  100.00%    0.96%    0.35%    0.17%\n",
      "\n",
      "End Time:                     \n",
      "Runtime Duration:             \n",
      "\n",
      "\n"
     ]
    }
   ],
   "source": [
    "! ./btc creditcard.csv -f NN -O 1 --yes"
   ]
  },
  {
   "source": [
    "The neural network had a very poor overall accuracy on the validation set. However, the true positive rate is 100%, signifying that every transaction that was fraudulent was identified. "
   ],
   "cell_type": "markdown",
   "metadata": {}
  },
  {
   "source": [
    "## 3. Decision Tree with -O\n",
    "We can also try to a decision tree for the dataset by simply replacing the NN command with DT. "
   ],
   "cell_type": "markdown",
   "metadata": {}
  },
  {
   "cell_type": "code",
   "execution_count": 4,
   "metadata": {},
   "outputs": [
    {
     "output_type": "stream",
     "name": "stdout",
     "text": [
      "Brainome Daimensions(tm) 0.99 Copyright (c) 2019, 2020 by Brainome, Inc. All Rights Reserved.\n",
      "Licensed to: Alexander Makhratchev\n",
      "Expiration date: 2021-04-30 (61 days left)\n",
      "Number of threads: 1\n",
      "Maximum file size: 30720MB\n",
      "Running locally.\n",
      "WARNING: Could not detect a GPU. Neural Network generation will be slow.\n",
      "\n",
      "Running btc will overwrite existing a.py. OK? [y/N] yes\n",
      "\n",
      "Attribute Ranking:\n",
      "Using only the important columns: V17 V14 V10 V9 V25 \n",
      "Risk of coincidental column correlation: <0.001%\n",
      "\n",
      "Data:\n",
      "Number of instances: 284807\n",
      "Number of attributes: 5\n",
      "Number of classes: 2\n",
      "Class balance: 99.83% 0.17%\n",
      "\n",
      "Learnability:\n",
      "Best guess accuracy: 99.83%\n",
      "Capacity progression: [8, 9, 10, 12, 12, 13]\n",
      "Decision Tree: 289 parameters\n",
      "Estimated Memory Equivalent Capacity for Neural Networks: 64 parameters\n",
      "\n",
      "Risk that model needs to overfit for 100% accuracy...\n",
      "using Decision Tree: 29.42%\n",
      "using Neural Networks: 90.14%\n",
      "\n",
      "Expected Generalization...\n",
      "using Decision Tree: 18.08 bits/bit\n",
      "using a Neural Network: 81.63 bits/bit\n",
      "\n",
      "Recommendations:\n",
      "Warning: Not enough data to generalize. [red]\n",
      "Warning: Data has high information density. Expect varying results and increase --effort.\n",
      "Time estimate for Decision Tree:\n",
      "Estimated time to prime a decision tree: less than a minute\n",
      "Note: Machine learner type DT given by user.\n",
      "Classifier Type:                     Decision Tree\n",
      "System Type:                         Binary classifier\n",
      "Best-guess accuracy:                 99.82%\n",
      "Overall Model accuracy:              100.00% (284807/284807 correct)\n",
      "Overall Improvement over best guess: 0.18% (of possible 0.18%)\n",
      "Model capacity (MEC):                289 bits\n",
      "Generalization ratio:                18.08 bits/bit\n",
      "Model efficiency:                    0.00%/parameter\n",
      "System behavior\n",
      "True Negatives:                      99.83% (284315/284807)\n",
      "True Positives:                      0.17% (492/284807)\n",
      "False Negatives:                     0.00% (0/284807)\n",
      "False Positives:                     0.00% (0/284807)\n",
      "True Pos. Rate/Sensitivity/Recall:   1.00\n",
      "True Neg. Rate/Specificity:          1.00\n",
      "Precision:                           1.00\n",
      "F-1 Measure:                         1.00\n",
      "False Negative Rate/Miss Rate:       0.00\n",
      "Critical Success Index:              1.00\n",
      "Confusion Matrix:\n",
      " [99.83% 0.00%]\n",
      " [0.00% 0.17%]\n",
      "Generalization efficiency:           0.01\n",
      "Overfitting:                         Yes\n",
      "Warning: The prediction model overfits the training data.\n",
      "Note: Unable to split dataset. The predictor was trained and evaluated on the same data.\n",
      "Using only the important columns: V17 V14 V10 V9 V25 \n",
      "Risk of coincidental column correlation: <0.001%\n",
      "\n",
      "\n"
     ]
    }
   ],
   "source": [
    "! ./btc creditcard.csv -rank -f DT -O 1 --yes"
   ]
  },
  {
   "source": [
    "The decion tree was able to predict all of the fraudelent charges with 100% accuracy. The use of attribute ranking significantly reduces the noise in a dataset and improves accuracy."
   ],
   "cell_type": "markdown",
   "metadata": {}
  },
  {
   "source": [
    "## 4. Neural Netork with -balance\n",
    "Now we will try the -balance command which optimizes the true positive rate for each class, instead of a specific one."
   ],
   "cell_type": "markdown",
   "metadata": {}
  },
  {
   "cell_type": "code",
   "execution_count": 7,
   "metadata": {},
   "outputs": [
    {
     "output_type": "stream",
     "name": "stdout",
     "text": [
      "Brainome Daimensions(tm) 0.99 Copyright (c) 2019, 2020 by Brainome, Inc. All Rights Reserved.\n",
      "Licensed to: Alexander Makhratchev\n",
      "Expiration date: 2021-04-30 (60 days left)\n",
      "Number of threads: 1\n",
      "Maximum file size: 30720MB\n",
      "Running locally.\n",
      "WARNING: Could not detect a GPU. Neural Network generation will be slow.\n",
      "\n",
      "Running btc will overwrite existing a.py. OK? [y/N] yes\n",
      "Data:\n",
      "Number of instances: 284807\n",
      "Number of attributes: 30\n",
      "Number of classes: 2\n",
      "Class balance: 99.83% 0.17%\n",
      "\n",
      "Learnability:\n",
      "Best guess accuracy: 99.83%\n",
      "Capacity progression: [8, 9, 10, 10, 11, 11]\n",
      "Decision Tree: 938 parameters\n",
      "Estimated Memory Equivalent Capacity for Neural Networks: 321 parameters\n",
      "\n",
      "Risk that model needs to overfit for 100% accuracy...\n",
      "using Decision Tree: 95.49%\n",
      "using Neural Networks: 100.00%\n",
      "\n",
      "Expected Generalization...\n",
      "using Decision Tree: 5.57 bits/bit\n",
      "using a Neural Network: 16.28 bits/bit\n",
      "\n",
      "Recommendations:\n",
      "Note: Maybe enough data to generalize. [yellow]\n",
      "Warning: Data has high information density. Expect varying results and increase --effort.\n",
      "Time estimate for a Neural Network:\n",
      "Estimated time to architect: 0d 0h 12m 48s\n",
      "\n",
      "Estimated time to prime (subject to change after model architecting): 0d 0h 2m 36s\n",
      "\n",
      "Note: Machine learner type NN given by user.\n",
      "Model capacity (MEC):     27 bits\n",
      "Architecture efficiency:   1.0 bits/parameter\n",
      "\n",
      "Estimated time to prime model: 0d 0h 2m 24s\n",
      "\n",
      "\n",
      "Classifier Type:                     Neural Network\n",
      "System Type:                         Binary classifier\n",
      "Training/Validation Split:           50:50%\n",
      "Best-guess accuracy:                 99.82%\n",
      "Training accuracy:                   94.49% (134561/142403 correct)\n",
      "Validation accuracy:                 96.34% (137193/142404 correct)\n",
      "Overall Model accuracy:              95.41% (271754/284807 correct)\n",
      "Overall Improvement over best guess: -4.41% (of possible 0.18%)\n",
      "Model capacity (MEC):                27 bits\n",
      "Generalization ratio:                184.63 bits/bit\n",
      "Model efficiency:                    -0.16%/parameter\n",
      "System behavior\n",
      "True Negatives:                      95.35% (271552/284807)\n",
      "True Positives:                      0.07% (202/284807)\n",
      "False Negatives:                     0.10% (290/284807)\n",
      "False Positives:                     4.48% (12763/284807)\n",
      "True Pos. Rate/Sensitivity/Recall:   0.41\n",
      "True Neg. Rate/Specificity:          0.96\n",
      "Precision:                           0.02\n",
      "F-1 Measure:                         0.03\n",
      "False Negative Rate/Miss Rate:       0.59\n",
      "Critical Success Index:              0.02\n",
      "Confusion Matrix:\n",
      " [95.35% 4.48%]\n",
      " [0.10% 0.07%]\n",
      "Generalization efficiency:           34.71\n",
      "Overfitting:                         No\n",
      "Warning: The prediction model is less accurate overall than the best guess.\n",
      "\n"
     ]
    }
   ],
   "source": [
    "! ./btc creditcard.csv -f NN -balance --yes"
   ]
  },
  {
   "source": [
    "Unfortunately, our model performs slightly worse than best guess, but these are some of the challenges with highly unbalanced datasets"
   ],
   "cell_type": "markdown",
   "metadata": {}
  },
  {
   "source": [],
   "cell_type": "markdown",
   "metadata": {}
  }
 ]
}