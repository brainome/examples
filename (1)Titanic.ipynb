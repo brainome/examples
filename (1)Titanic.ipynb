{
 "cells": [
  {
   "cell_type": "markdown",
   "metadata": {},
   "source": [
    "# Titanic Using Daimensions\n",
    "\n",
    "This notebook uses data from the Titanic competition on Kaggle (https://www.kaggle.com/c/titanic/overview).\n",
    "\n",
    "Kaggle's description of the competition:\n",
    "\"The sinking of the Titanic is one of the most infamous shipwrecks in history. On April 15, 1912, during her maiden voyage, the widely considered 'unsinkable' RMS Titanic sank after colliding with an iceberg. Unfortunately, there weren’t enough lifeboats for everyone onboard, resulting in the death of 1502 out of 2224 passengers and crew.\n",
    "While there was some element of luck involved in surviving, it seems some groups of people were more likely to survive than others. In this challenge, we ask you to build a predictive model that answers the question: 'what sorts of people were more likely to survive?' using passenger data (ie name, age, gender, socio-economic class, etc).\"\n",
    "\n",
    "Goal: Make a predictor of survival from Titanic training data. We'll do this by using Daimensions to measure, build, and validate a predictor."
   ]
  },
  {
   "cell_type": "markdown",
   "metadata": {},
   "source": [
    "## 1. Get Measurements\n",
    "\n",
    "We want to measure our data before building a predictor so we know what kind of model will work best. Daimensions tells us about learnability, the generalization ratio, noise resilience, and all the standard accuracy and confusion figures.\n",
    "For more information, you can read the Daimensions How-to Guide and Glossary.\n",
    "Below is a clip of the training data:"
   ]
  },
  {
   "cell_type": "code",
   "execution_count": 16,
   "metadata": {},
   "outputs": [
    {
     "name": "stdout",
     "output_type": "stream",
     "text": [
      "PassengerId,Survived,Pclass,Name,Sex,Age,SibSp,Parch,Ticket,Fare,Cabin,Embarked\r",
      "\r\n",
      "1,0,3,\"Braund, Mr. Owen Harris\",male,22,1,0,A/5 21171,7.25,,S\r",
      "\r\n",
      "2,1,1,\"Cumings, Mrs. John Bradley (Florence Briggs Thayer)\",female,38,1,0,PC 17599,71.2833,C85,C\r",
      "\r\n",
      "3,1,3,\"Heikkinen, Miss. Laina\",female,26,0,0,STON/O2. 3101282,7.925,,S\r",
      "\r\n",
      "4,1,1,\"Futrelle, Mrs. Jacques Heath (Lily May Peel)\",female,35,1,0,113803,53.1,C123,S\r",
      "\r\n",
      "5,0,3,\"Allen, Mr. William Henry\",male,35,0,0,373450,8.05,,S\r",
      "\r\n",
      "6,0,3,\"Moran, Mr. James\",male,,0,0,330877,8.4583,,Q\r",
      "\r\n",
      "7,0,1,\"McCarthy, Mr. Timothy J\",male,54,0,0,17463,51.8625,E46,S\r",
      "\r\n",
      "8,0,3,\"Palsson, Master. Gosta Leonard\",male,2,3,1,349909,21.075,,S\r",
      "\r\n",
      "9,1,3,\"Johnson, Mrs. Oscar W (Elisabeth Vilhelmina Berg)\",female,27,0,2,347742,11.1333,,S\r",
      "\r\n"
     ]
    }
   ],
   "source": [
    "! head train.csv"
   ]
  },
  {
   "cell_type": "markdown",
   "metadata": {},
   "source": [
    "As you can see from above, the target column (Survived) isn't the last column on the right. Because of this, we need to use -target so that Daimensions is looking at the correct column for measuring and building a predictor."
   ]
  },
  {
   "cell_type": "code",
   "execution_count": 17,
   "metadata": {},
   "outputs": [
    {
     "name": "stdout",
     "output_type": "stream",
     "text": [
      "Brainome Daimensions(tm) 0.97 Copyright (c) 2019, 2020 by Brainome, Inc. All Rights Reserved.\n",
      "Licensed to: Ariana Park\n",
      "Expiration date: 2020-11-30 (138 days left)\n",
      "Number of threads: 1\n",
      "Maximum file size: 4GB\n",
      "Connected to: https://beta.brainome.ai:8080\n",
      "\n",
      "Data:\n",
      "Number of instances: 891\n",
      "Number of attributes: 11\n",
      "Number of classes: 2\n",
      "Class balance: 61.5% 38.38%\n",
      "\n",
      "Learnability:\n",
      "Best guess accuracy: 61.50%\n",
      "Capacity progression (# of decision points): [7, 8, 9, 9, 10, 10]\n",
      "Decision Tree: 422 parameters\n",
      "Estimated Memory Equivalent Capacity for Neural Networks: 118 parameters\n",
      "\n",
      "Risk that model needs to overfit for high accuracies...\n",
      "using Decision Tree: 94.73%\n",
      "using Neural Networks: 100.00%\n",
      "\n",
      "Expected Generalization...\n",
      "using Decision Tree: 2.11 bits/bit\n",
      "using a Neural Network: 7.55 bits/bit\n",
      "\n",
      "Recommendations:\n",
      "Note: Maybe enough data to generalize. [yellow]\n",
      "Warning: Cannot find numpy. The output predictor may not run on this machine.\n",
      "\n",
      "Time estimate for a Neural Network:\n",
      "Estimated time to architect: 0d 0h 0m 1s\n",
      "Estimated time to prime (subject to change after model architecting): 0d 0h 1m 26s\n",
      "\n",
      "Time estimate for Decision Tree:\n",
      "Estimated time to prime a decision tree: a few seconds\n"
     ]
    }
   ],
   "source": [
    "! ./btc_linux -measureonly train.csv -target Survived -server beta.brainome.ai"
   ]
  },
  {
   "cell_type": "markdown",
   "metadata": {},
   "source": [
    "## 2. Build the predictor\n",
    "\n",
    "Because the learnability of the data is yellow, the how-to guide recommends to choose predictor with higher generalization and increase effort for best results. This means using a neural network with effort should work best. Here, I'm using '-f NN' to make the predictor a neural network. I'm also using '-o predict.py' to output the predictor as a python file. To increase the effort, I'm using '-e 10' for 10 times the effort. Again, we have to use '-target Survived' because the target column isn't the last one."
   ]
  },
  {
   "cell_type": "code",
   "execution_count": 20,
   "metadata": {},
   "outputs": [
    {
     "name": "stdout",
     "output_type": "stream",
     "text": [
      "Brainome Daimensions(tm) 0.96 Copyright (c) 2019, 2020 by Brainome, Inc. All Rights Reserved.\n",
      "Licensed to: Ariana Park\n",
      "Expiration date: 2020-11-30 (138 days left)\n",
      "Number of threads: 1\n",
      "Maximum file size: 4GB\n",
      "Connected to Brainome cloud.\n",
      "\n",
      "Running btc will overwrite existing predict.py. OK? [y/N] yes\n",
      "Input: train.csv\n",
      "Sampling...done.\n",
      "Preprocessing...done.\n",
      "Cleaning...done.\n",
      "Splitting into training and validation...done.\n",
      "Pre-training measurements...done.\n",
      "Data:\n",
      "Number of instances: 891\n",
      "Number of attributes: 11\n",
      "Number of classes: 2\n",
      "Class balance: 61.5% 38.38%\n",
      "\n",
      "Learnability:\n",
      "Best guess accuracy: 61.50%\n",
      "Capacity progression (# of decision points): [7, 8, 9, 9, 10, 10]\n",
      "Quick Clustering: 422 parameters\n",
      "Estimated Memory Equivalent Capacity for Neural Networks: 118 parameters\n",
      "\n",
      "Risk that model needs to overfit for high accuracies...\n",
      "using Quick clustering: 94.73%\n",
      "using Neural Networks: 100.00%\n",
      "\n",
      "Expected Generalization...\n",
      "using Quick clustering: 2.11 bits/bit\n",
      "using a Neural Network: 7.55 bits/bit\n",
      "\n",
      "Recommendations:\n",
      "Note: Maybe enough data to generalize. [yellow]\n",
      "Warning: Cannot find numpy. The output predictor may not run on this machine.\n",
      "\n",
      "Time estimate for a Neural Network:\n",
      "Estimated time to architect: 0d 0h 0m 1s\n",
      "Estimated time to prime (subject to change after model architecting): 0d 0h 3m 6s\n",
      "Note: Machine learner type NN given by user.\n",
      "Architecting model...done.\n",
      "Model capacity (MEC):     27 bits\n",
      "Architecture efficiency:   1.0 bits/parameter\n",
      "\n",
      "Estimating time to prime model...done.\n",
      "Estimated time to prime model: 0d 0h 2m 14s\n",
      "\n",
      "Priming model...done.\n",
      "Estimating training time...done.\n",
      "Estimated training time: 0d 0h 14m 49s\n",
      "\n",
      "Training...done.\n",
      "Model created:\n",
      "Sequential(\n",
      "  (0): Linear(in_features=11, out_features=2, bias=True)\n",
      "  (1): ReLU()\n",
      "  (2): Linear(in_features=2, out_features=1, bias=True)\n",
      ")\n",
      "\n",
      "Compiling predictor...done.\n",
      "Validating predictor...done.\n",
      "Classifier Type: Neural Network\n",
      "System Type:                        Binary classifier\n",
      "Best-guess accuracy:                61.61%\n",
      "Model accuracy:                     81.59% (727/891 correct)\n",
      "Improvement over best guess:        19.98% (of possible 38.39%)\n",
      "Model capacity (MEC):               27 bits\n",
      "Generalization ratio:               26.92 bits/bit\n",
      "Model efficiency:                   0.74%/parameter\n",
      "System behavior\n",
      "True Negatives:                     54.32% (484/891)\n",
      "True Positives:                     27.27% (243/891)\n",
      "False Negatives:                    11.11% (99/891)\n",
      "False Positives:                    7.30% (65/891)\n",
      "True Pos. Rate/Sensitivity/Recall:  0.71\n",
      "True Neg. Rate/Specificity:         0.88\n",
      "Precision:                          0.79\n",
      "F-1 Measure:                        0.75\n",
      "False Negative Rate/Miss Rate:      0.29\n",
      "Critical Success Index:             0.60\n",
      "\n",
      "\n",
      "Output: predict.py \n",
      "READY.\n"
     ]
    }
   ],
   "source": [
    "! ./btc_linux -v -v -f NN train.csv -o predict.py -target Survived -e 10 --yes"
   ]
  },
  {
   "cell_type": "markdown",
   "metadata": {},
   "source": [
    "## 3. Validate and Make Predictions\n",
    "\n",
    "We've built our first predictor! Now it's time to put it to use. If you have validation data, or data that has the target column but wasn't used for training, you can use it to validate the accuracy of your predictor. In the case of Titanic, we have test data instead, where it's different from the training data and doesn't include 'Survival'. We can use the model we built to make predictions for the test data and submit it to Kaggle. If you want to validate this data, you could split the training data into two files, using one to train and one to validate.\n",
    "In the following code, I'll save the model's prediction in 'prediction.csv'."
   ]
  },
  {
   "cell_type": "code",
   "execution_count": 21,
   "metadata": {},
   "outputs": [],
   "source": [
    "# to validate\n",
    "# ! python3 predict.py -validate validation_data.csv"
   ]
  },
  {
   "cell_type": "code",
   "execution_count": 22,
   "metadata": {},
   "outputs": [
    {
     "name": "stdout",
     "output_type": "stream",
     "text": [
      "P,a,s,s,e,n,g,e,r,I,d,\",\",P,c,l,a,s,s,\",\",N,a,m,e,\",\",S,e,x,\",\",A,g,e,\",\",S,i,b,S,p,\",\",P,a,r,c,h,\",\",T,i,c,k,e,t,\",\",F,a,r,e,\",\",C,a,b,i,n,\",\",E,m,b,a,r,k,e,d,\",\",P,r,e,d,i,c,t,i,o,n\r\n",
      "892,3,\"Kelly, Mr. James\",male,34.5,0,0,330911,7.8292,,Q,0\r\n",
      "893,3,\"Wilkes, Mrs. James (Ellen Needs)\",female,47,1,0,363272,7,,S,0\r\n",
      "894,2,\"Myles, Mr. Thomas Francis\",male,62,0,0,240276,9.6875,,Q,0\r\n",
      "895,3,\"Wirz, Mr. Albert\",male,27,0,0,315154,8.6625,,S,0\r\n",
      "896,3,\"Hirvonen, Mrs. Alexander (Helga E Lindqvist)\",female,22,1,1,3101298,12.2875,,S,0\r\n",
      "897,3,\"Svensson, Mr. Johan Cervin\",male,14,0,0,7538,9.225,,S,0\r\n",
      "898,3,\"Connolly, Miss. Kate\",female,30,0,0,330972,7.6292,,Q,1\r\n",
      "899,2,\"Caldwell, Mr. Albert Francis\",male,26,1,1,248738,29,,S,0\r\n",
      "900,3,\"Abrahim, Mrs. Joseph (Sophie Halaut Easu)\",female,18,0,0,2657,7.2292,,C,1\r\n"
     ]
    }
   ],
   "source": [
    "! python3 predict.py test.csv > prediction.csv\n",
    "! head prediction.csv"
   ]
  },
  {
   "cell_type": "markdown",
   "metadata": {},
   "source": [
    "As you can see, the prediction file appended the model's prediction of survival as the last column. \n",
    "When the prediction is submitted to Kaggle, it has 74.641% accuracy."
   ]
  },
  {
   "cell_type": "markdown",
   "metadata": {},
   "source": [
    "## Improving Our Model\n",
    "\n",
    "use -rank or -ignorecolumns"
   ]
  },
  {
   "cell_type": "code",
   "execution_count": null,
   "metadata": {},
   "outputs": [],
   "source": []
  },
  {
   "cell_type": "code",
   "execution_count": null,
   "metadata": {},
   "outputs": [],
   "source": []
  }
 ],
 "metadata": {
  "kernelspec": {
   "display_name": "Python 3",
   "language": "python",
   "name": "python3"
  },
  "language_info": {
   "codemirror_mode": {
    "name": "ipython",
    "version": 3
   },
   "file_extension": ".py",
   "mimetype": "text/x-python",
   "name": "python",
   "nbconvert_exporter": "python",
   "pygments_lexer": "ipython3",
   "version": "3.7.3"
  }
 },
 "nbformat": 4,
 "nbformat_minor": 2
}
