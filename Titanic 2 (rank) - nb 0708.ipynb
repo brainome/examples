{
 "cells": [
  {
   "cell_type": "markdown",
   "metadata": {},
   "source": [
    "# Titanic Data\n",
    "- no columns taken out beforehand\n",
    "- using 0.97"
   ]
  },
  {
   "cell_type": "code",
   "execution_count": 2,
   "metadata": {},
   "outputs": [
    {
     "name": "stdout",
     "output_type": "stream",
     "text": [
      "PassengerId,Survived,Pclass,Name,Sex,Age,SibSp,Parch,Ticket,Fare,Cabin,Embarked\n",
      "1,0,3,\"Braund, Mr. Owen Harris\",male,22,1,0,A/5 21171,7.25,,S\n",
      "2,1,1,\"Cumings, Mrs. John Bradley (Florence Briggs Thayer)\",female,38,1,0,PC 17599,71.2833,C85,C\n",
      "3,1,3,\"Heikkinen, Miss. Laina\",female,26,0,0,STON/O2. 3101282,7.925,,S\n",
      "4,1,1,\"Futrelle, Mrs. Jacques Heath (Lily May Peel)\",female,35,1,0,113803,53.1,C123,S\n",
      "5,0,3,\"Allen, Mr. William Henry\",male,35,0,0,373450,8.05,,S\n",
      "6,0,3,\"Moran, Mr. James\",male,,0,0,330877,8.4583,,Q\n",
      "7,0,1,\"McCarthy, Mr. Timothy J\",male,54,0,0,17463,51.8625,E46,S\n",
      "8,0,3,\"Palsson, Master. Gosta Leonard\",male,2,3,1,349909,21.075,,S\n",
      "9,1,3,\"Johnson, Mrs. Oscar W (Elisabeth Vilhelmina Berg)\",female,27,0,2,347742,11.1333,,S\n",
      "PassengerId,Pclass,Name,Sex,Age,SibSp,Parch,Ticket,Fare,Cabin,Embarked\n",
      "892,3,\"Kelly, Mr. James\",male,34.5,0,0,330911,7.8292,,Q\n",
      "893,3,\"Wilkes, Mrs. James (Ellen Needs)\",female,47,1,0,363272,7,,S\n",
      "894,2,\"Myles, Mr. Thomas Francis\",male,62,0,0,240276,9.6875,,Q\n",
      "895,3,\"Wirz, Mr. Albert\",male,27,0,0,315154,8.6625,,S\n",
      "896,3,\"Hirvonen, Mrs. Alexander (Helga E Lindqvist)\",female,22,1,1,3101298,12.2875,,S\n",
      "897,3,\"Svensson, Mr. Johan Cervin\",male,14,0,0,7538,9.225,,S\n",
      "898,3,\"Connolly, Miss. Kate\",female,30,0,0,330972,7.6292,,Q\n",
      "899,2,\"Caldwell, Mr. Albert Francis\",male,26,1,1,248738,29,,S\n",
      "900,3,\"Abrahim, Mrs. Joseph (Sophie Halaut Easu)\",female,18,0,0,2657,7.2292,,C\n"
     ]
    }
   ],
   "source": [
    "! head train.csv\n",
    "! head test.csv"
   ]
  },
  {
   "cell_type": "markdown",
   "metadata": {},
   "source": [
    "# Measure"
   ]
  },
  {
   "cell_type": "code",
   "execution_count": 1,
   "metadata": {},
   "outputs": [
    {
     "name": "stdout",
     "output_type": "stream",
     "text": [
      "Brainome Daimensions(tm) 0.97 Copyright (c) 2019, 2020 by Brainome, Inc. All Rights Reserved.\n",
      "Licensed to: Ariana Park\n",
      "Expiration date: 2020-11-30 (145 days left)\n",
      "Number of threads: 1\n",
      "Maximum file size: 4GB\n",
      "Connected to: https://beta.brainome.ai:8080\n",
      "\n",
      "Data:\n",
      "Number of instances: 891\n",
      "Number of attributes: 11\n",
      "Number of classes: 2\n",
      "Class balance: 61.5% 38.38%\n",
      "\n",
      "Learnability:\n",
      "Best guess accuracy: 61.50%\n",
      "Capacity progression (# of decision points): [7, 8, 9, 9, 10, 10]\n",
      "Decision Tree: 422 parameters\n",
      "Estimated Memory Equivalent Capacity for Neural Networks: 118 parameters\n",
      "\n",
      "Risk that model needs to overfit for high accuracies...\n",
      "using Decision Tree: 94.73%\n",
      "using Neural Networks: 100.00%\n",
      "\n",
      "Expected Generalization...\n",
      "using Decision Tree: 2.11 bits/bit\n",
      "using a Neural Network: 7.55 bits/bit\n",
      "\n",
      "Recommendations:\n",
      "Note: Maybe enough data to generalize. [yellow]\n",
      "Warning: Cannot find numpy. The output predictor may not run on this machine.\n",
      "\n",
      "Time estimate for a Neural Network:\n",
      "Estimated time to architect: 0d 0h 0m 1s\n",
      "Estimated time to prime (subject to change after model architecting): 0d 0h 3m 17s\n",
      "\n",
      "Time estimate for Decision Tree:\n",
      "Estimated time to prime a decision tree: a few seconds\n"
     ]
    }
   ],
   "source": [
    "! ./btc_linux -measureonly train.csv -target Survived  -server beta.brainome.ai"
   ]
  },
  {
   "cell_type": "markdown",
   "metadata": {},
   "source": [
    "-not looking at columns: PassengerId, Name, Ticket, Cabin, Embarked"
   ]
  },
  {
   "cell_type": "code",
   "execution_count": 3,
   "metadata": {},
   "outputs": [
    {
     "name": "stdout",
     "output_type": "stream",
     "text": [
      "Brainome Daimensions(tm) 0.97 Copyright (c) 2019, 2020 by Brainome, Inc. All Rights Reserved.\n",
      "Licensed to: Ariana Park\n",
      "Expiration date: 2020-11-30 (145 days left)\n",
      "Number of threads: 1\n",
      "Maximum file size: 4GB\n",
      "Connected to: https://beta.brainome.ai:8080\n",
      "\n",
      "Input: train.csv\n",
      "Sampling...done.\n",
      "Preprocessing...done.\n",
      "Cleaning...done.\n",
      "Splitting into training and validation...done.\n",
      "Pre-training measurements...done.\n",
      "Data:\n",
      "Number of instances: 891\n",
      "Number of attributes: 6\n",
      "Number of classes: 2\n",
      "Class balance: 61.62% 38.27%\n",
      "\n",
      "Learnability:\n",
      "Best guess accuracy: 61.62%\n",
      "Capacity progression (# of decision points): [6, 8, 9, 10, 10, 12]\n",
      "Decision Tree: 285 parameters\n",
      "Estimated Memory Equivalent Capacity for Neural Networks: 73 parameters\n",
      "\n",
      "Risk that model needs to overfit for high accuracies...\n",
      "using Decision Tree: 63.97%\n",
      "using Neural Networks: 100.00%\n",
      "\n",
      "Expected Generalization...\n",
      "using Decision Tree: 3.13 bits/bit\n",
      "using a Neural Network: 12.21 bits/bit\n",
      "\n",
      "Recommendations:\n",
      "Warning: Not enough data to generalize. [red]\n",
      "Warning: Cannot find numpy. The output predictor may not run on this machine.\n",
      "\n",
      "Time estimate for a Neural Network:\n",
      "Estimated time to architect: 0d 0h 0m 0s\n",
      "Estimated time to prime (subject to change after model architecting): 0d 0h 3m 15s\n",
      "Note: Machine learner type NN given by user.\n",
      "Architecting model...done.\n",
      "Model capacity (MEC):     17 bits\n",
      "Architecture efficiency:   1.0 bits/parameter\n",
      "\n",
      "Estimating time to prime model...done.\n",
      "Estimated time to prime model: 0d 0h 2m 25s\n",
      "\n",
      "Priming model...done.\n",
      "Model created:\n",
      "Sequential(\n",
      "  (0): Linear(in_features=6, out_features=2, bias=True)\n",
      "  (1): ReLU()\n",
      "  (2): Linear(in_features=2, out_features=1, bias=True)\n",
      ")\n",
      "\n",
      "Compiling predictor...done.\n",
      "Validating predictor...done.\n",
      "Classifier Type:                    Neural Network\n",
      "System Type:                        Binary classifier\n",
      "Best-guess accuracy:                61.61%\n",
      "Model accuracy:                     81.48% (726/891 correct)\n",
      "Improvement over best guess:        19.87% (of possible 38.39%)\n",
      "Model capacity (MEC):               17 bits\n",
      "Generalization ratio:               42.70 bits/bit\n",
      "Model efficiency:                   1.16%/parameter\n",
      "System behavior\n",
      "True Negatives:                     58.02% (517/891)\n",
      "True Positives:                     23.46% (209/891)\n",
      "False Negatives:                    14.93% (133/891)\n",
      "False Positives:                    3.59% (32/891)\n",
      "True Pos. Rate/Sensitivity/Recall:  0.61\n",
      "True Neg. Rate/Specificity:         0.94\n",
      "Precision:                          0.87\n",
      "F-1 Measure:                        0.72\n",
      "False Negative Rate/Miss Rate:      0.39\n",
      "Critical Success Index:             0.56\n",
      "\n",
      "\n",
      "Output: predict.py \n",
      "READY.\n"
     ]
    }
   ],
   "source": [
    "! ./btc_linux -v -v -f NN train.csv -o predict.py -target Survived -ignorecolumns PassengerId,Name,Ticket,Cabin,Embarked -server beta.brainome.ai"
   ]
  },
  {
   "cell_type": "markdown",
   "metadata": {},
   "source": [
    "-use rank instead of ignorecolumns"
   ]
  },
  {
   "cell_type": "code",
   "execution_count": 7,
   "metadata": {},
   "outputs": [
    {
     "name": "stdout",
     "output_type": "stream",
     "text": [
      "Brainome Daimensions(tm) 0.97 Copyright (c) 2019, 2020 by Brainome, Inc. All Rights Reserved.\n",
      "Licensed to: Ariana Park\n",
      "Expiration date: 2020-11-30 (145 days left)\n",
      "Number of threads: 1\n",
      "Maximum file size: 4GB\n",
      "Connected to: https://beta.brainome.ai:8080\n",
      "\n",
      "Input: train.csv\n",
      "Sampling...done.\n",
      "Preprocessing...done.\n",
      "Cleaning...done.\n",
      "Ranking attributes...done.\n",
      "Splitting into training and validation...done.\n",
      "Pre-training measurements...done.\n",
      "\n",
      "Attribute Ranking:\n",
      "Using only the important columns: Sex Fare Parch \n",
      "\n",
      "Data:\n",
      "Number of instances: 891\n",
      "Number of attributes: 3\n",
      "Number of classes: 2\n",
      "Class balance: 61.5% 38.38%\n",
      "\n",
      "Learnability:\n",
      "Best guess accuracy: 61.50%\n",
      "Capacity progression (# of decision points): [10, 10, 12, 12, 13, 13]\n",
      "Decision Tree: 226 parameters\n",
      "Estimated Memory Equivalent Capacity for Neural Networks: 41 parameters\n",
      "\n",
      "Risk that model needs to overfit for high accuracies...\n",
      "using Decision Tree: 50.73%\n",
      "using Neural Networks: 89.13%\n",
      "\n",
      "Expected Generalization...\n",
      "using Decision Tree: 3.94 bits/bit\n",
      "using a Neural Network: 21.73 bits/bit\n",
      "\n",
      "Recommendations:\n",
      "Note: Maybe enough data to generalize. [yellow]\n",
      "Warning: Cannot find numpy. The output predictor may not run on this machine.\n",
      "\n",
      "Time estimate for a Neural Network:\n",
      "Estimated time to architect: 0d 0h 0m 1s\n",
      "Estimated time to prime (subject to change after model architecting): 0d 0h 3m 16s\n",
      "Note: Machine learner type NN given by user.\n",
      "Architecting model...done.\n",
      "Model capacity (MEC):     21 bits\n",
      "Architecture efficiency:   1.0 bits/parameter\n",
      "\n",
      "Estimating time to prime model...done.\n",
      "Estimated time to prime model: 0d 0h 2m 23s\n",
      "\n",
      "Priming model...done.\n",
      "Model created:\n",
      "Sequential(\n",
      "  (0): Linear(in_features=3, out_features=4, bias=True)\n",
      "  (1): ReLU()\n",
      "  (2): Linear(in_features=4, out_features=1, bias=True)\n",
      ")\n",
      "\n",
      "Compiling predictor...done.\n",
      "Validating predictor...done.\n",
      "Classifier Type:                    Neural Network\n",
      "System Type:                        Binary classifier\n",
      "Best-guess accuracy:                61.61%\n",
      "Model accuracy:                     78.78% (702/891 correct)\n",
      "Improvement over best guess:        17.17% (of possible 38.39%)\n",
      "Model capacity (MEC):               21 bits\n",
      "Generalization ratio:               33.42 bits/bit\n",
      "Model efficiency:                   0.81%/parameter\n",
      "System behavior\n",
      "True Negatives:                     51.74% (461/891)\n",
      "True Positives:                     27.05% (241/891)\n",
      "False Negatives:                    11.34% (101/891)\n",
      "False Positives:                    9.88% (88/891)\n",
      "True Pos. Rate/Sensitivity/Recall:  0.70\n",
      "True Neg. Rate/Specificity:         0.84\n",
      "Precision:                          0.73\n",
      "F-1 Measure:                        0.72\n",
      "False Negative Rate/Miss Rate:      0.30\n",
      "Critical Success Index:             0.56\n",
      "\n",
      "\n",
      "Output: predict_r.py \n",
      "READY.\n"
     ]
    }
   ],
   "source": [
    "! ./btc_linux -v -v -f NN train.csv -o predict_r.py -target Survived -rank -server beta.brainome.ai"
   ]
  },
  {
   "cell_type": "code",
   "execution_count": 6,
   "metadata": {},
   "outputs": [
    {
     "name": "stdout",
     "output_type": "stream",
     "text": [
      "P,c,l,a,s,s,\",\",S,e,x,\",\",A,g,e,\",\",S,i,b,S,p,\",\",P,a,r,c,h,\",\",F,a,r,e,\",\",P,r,e,d,i,c,t,i,o,n\r\n",
      "3,male,34.5,0,0,7.8292,0\r\n",
      "3,female,47,1,0,7,0\r\n",
      "2,male,62,0,0,9.6875,0\r\n",
      "3,male,27,0,0,8.6625,0\r\n",
      "3,female,22,1,1,12.2875,0\r\n",
      "3,male,14,0,0,9.225,0\r\n",
      "3,female,30,0,0,7.6292,0\r\n",
      "2,male,26,1,1,29,0\r\n",
      "3,female,18,0,0,7.2292,1\r\n"
     ]
    }
   ],
   "source": [
    "! python3 predict.py test.csv > prediction.csv\n",
    "! head prediction.csv"
   ]
  },
  {
   "cell_type": "code",
   "execution_count": 9,
   "metadata": {},
   "outputs": [
    {
     "name": "stdout",
     "output_type": "stream",
     "text": [
      "S,e,x,\",\",P,a,r,c,h,\",\",F,a,r,e,\",\",P,r,e,d,i,c,t,i,o,n\r\n",
      "male,0,7.8292,0\r\n",
      "female,0,7,1\r\n",
      "male,0,9.6875,0\r\n",
      "male,0,8.6625,0\r\n",
      "female,1,12.2875,1\r\n",
      "male,0,9.225,0\r\n",
      "female,0,7.6292,1\r\n",
      "male,1,29,0\r\n",
      "female,0,7.2292,1\r\n"
     ]
    }
   ],
   "source": [
    "! python3 predict_r.py test.csv > prediction_r.csv\n",
    "! head prediction_r.csv"
   ]
  },
  {
   "cell_type": "markdown",
   "metadata": {},
   "source": [
    "You can see that -rank decided to only look at the columns 'Sex','Parch' (Parent/child), and 'Fare'."
   ]
  },
  {
   "cell_type": "markdown",
   "metadata": {},
   "source": [
    "I'm using the train.csv and test.csv files from the Titanic competition on Kaggle.\n",
    "Score for prediction on kaggle: \n",
    "ignorecolumns: 0.77751\n",
    "rank: 0.75358"
   ]
  }
 ],
 "metadata": {
  "kernelspec": {
   "display_name": "Python 3",
   "language": "python",
   "name": "python3"
  },
  "language_info": {
   "codemirror_mode": {
    "name": "ipython",
    "version": 3
   },
   "file_extension": ".py",
   "mimetype": "text/x-python",
   "name": "python",
   "nbconvert_exporter": "python",
   "pygments_lexer": "ipython3",
   "version": "3.7.3"
  }
 },
 "nbformat": 4,
 "nbformat_minor": 2
}
