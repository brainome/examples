{
 "metadata": {
  "language_info": {
   "codemirror_mode": {
    "name": "ipython",
    "version": 3
   },
   "file_extension": ".py",
   "mimetype": "text/x-python",
   "name": "python",
   "nbconvert_exporter": "python",
   "pygments_lexer": "ipython3",
   "version": "3.7.3-final"
  },
  "orig_nbformat": 2,
  "kernelspec": {
   "name": "python3",
   "display_name": "Python 3.7.3 64-bit",
   "metadata": {
    "interpreter": {
     "hash": "31f2aee4e71d21fbe5cf8b01ff0e069b9275f58929596ceb00d14d90e3e16cd6"
    }
   }
  }
 },
 "nbformat": 4,
 "nbformat_minor": 2,
 "cells": [
  {
   "source": [
    "# Music Preference Prediction Using Random Forest Model\n",
    "This dataset was made by our intern Alexander Makhratchev. He found about 500 songs he liked and 500 songs he disliked, and downloaded information about them through the Spotify API. There are 16 attribute columns, such as song name, danceability, and speechiness. You can see a sample of the dataset below.\n"
   ],
   "cell_type": "markdown",
   "metadata": {}
  },
  {
   "source": [],
   "cell_type": "markdown",
   "metadata": {}
  },
  {
   "source": [
    "! head spotify.csv"
   ],
   "cell_type": "code",
   "metadata": {},
   "execution_count": 8,
   "outputs": [
    {
     "output_type": "stream",
     "name": "stdout",
     "text": [
      "\n\n\n\n\n\n\n\n\n\n"
     ]
    }
   ]
  },
  {
   "source": [
    "In this notebook our goal is to simply demonstrate the Random Forest model. Using the -f RF command we can specify the exact predictor we would like to use."
   ],
   "cell_type": "markdown",
   "metadata": {}
  },
  {
   "source": [
    "! btc spotify.csv -f RF"
   ],
   "cell_type": "code",
   "metadata": {},
   "execution_count": 6,
   "outputs": [
    {
     "output_type": "stream",
     "name": "stdout",
     "text": [
      "WARNING: Could not detect a GPU. Neural Network generation will be slow.\n",
      "\n",
      "Brainome Daimensions(tm) 0.99 Copyright (c) 2019 - 2021 by Brainome, Inc. All Rights Reserved.\n",
      "Licensed to:              Alexander Makhratchev  (Evaluation)\n",
      "Expiration Date:          2021-04-30   59 days left\n",
      "Number of Threads:        1\n",
      "Maximum File Size:        30 GB\n",
      "Maximum Instances:        unlimited\n",
      "Maximum Attributes:       unlimited\n",
      "Maximum Classes:          unlimited\n",
      "Connected to:             daimensions.brainome.ai  (local execution)\n",
      "\n",
      "\n",
      "\n",
      "Command:\n",
      "    btc spotify.csv -f RF\n",
      "\n",
      "Start Time:                 03/02/2021, 18:07\n",
      "\n",
      "\n",
      "Data:\n",
      "    Input:                      spotify.csv\n",
      "    Target Column:              like\n",
      "    Number of instances:        1224\n",
      "    Number of attributes:       17\n",
      "    Number of classes:          2\n",
      "    Class Balance:              0: 43.38%, 1: 56.62%\n",
      "\n",
      "Learnability:\n",
      "    Best guess accuracy:          56.62%\n",
      "    Data Sufficiency:            Not enough data to generalize. [red]\n",
      "\n",
      "Capacity Progression:            at [ 5%, 10%, 20%, 40%, 80%, 100% ]\n",
      "    Optimal Machine Learner:           6,   7,   8,   9,   9,  10\n",
      "\n",
      "\n",
      "Estimated Memory Equivalent Capacity for...\n",
      "    Decision Tree:                   607 parameters\n",
      "    Neural Networks:                   1 parameters\n",
      "    Random Forest:                    85 parameters\n",
      "\n",
      "Risk that model needs to overfit for 100% accuracy using...\n",
      "    Decision Tree:               100.95%\n",
      "    Neural Networks:               1.60%\n",
      "    Random Forest:                29.62%\n",
      "\n",
      "Expected Generalization using...\n",
      "    Decision Tree:                  1.99 bits/bit\n",
      "    Neural Network:               318.00 bits/bit\n",
      "    Random Forest:                 14.40 bits/bit\n",
      "\n",
      "\n",
      "Recommendations:\n",
      "\n",
      "    Warning: Data has high information density. Expect varying results and increase --effort.\n",
      "    Note: Machine learner type RF given by user.\n",
      "\n",
      "\n",
      "System Meter:                          a.py\n",
      "    Classifier Type:                   Random Forest\n",
      "    System Type:                       Binary classifier\n",
      "    Training/Validation Split:           50% : 50%\n",
      "    Accuracy:\n",
      "        Best-guess accuracy:               56.61%\n",
      "        Training accuracy:                100.00% (612/612 correct)\n",
      "        Validation Accuracy:               86.60% (530/612 correct)\n",
      "        Overall Model Accuracy:            93.30% (1142/1224 correct)\n",
      "        Improvement over best guess:       36.69% of possible  43.39%\n",
      "\n",
      "    Model Capacity (MEC):                      11 bits\n",
      "    Generalization Ratio:                   55.13 bits/bit\n",
      "    Model Efficiency:                        3.33 /parameter\n",
      "    Generalization Index:                   27.43\n",
      "    Percent of Data Memorized:               3.65%\n",
      "\n",
      "    Training Confusion Matrix (count):\n",
      "                True |   272     0 \n",
      "               False |     0   340 \n",
      "\n",
      "    Validation Confusion Matrix (count):\n",
      "                True |   220    39 \n",
      "               False |    43   310 \n",
      "\n",
      "    Full Confusion Matrix (count):\n",
      "                True |   492    39 \n",
      "               False |    43   650 \n",
      "\n",
      "    Accuracy by Class:\n",
      "               class |    TP    FP    TN    FN     TPR      TNR      PPV      NPV       F1       TS \n",
      "                True |   492    39   650    43   91.96%   93.80%   92.66%   93.80%   92.31%   85.71%\n",
      "               False |   650    43   492    39   94.34%   92.66%   93.80%   92.66%   94.07%   88.80%\n",
      "\n",
      "End Time:                     \n",
      "Runtime Duration:             \n",
      "\n",
      "Messages:\n",
      "Warning: Remapped class labels to be contiguous. Use -cm if DET/ROC-based accuracy measurements are wrong.\n",
      "\n",
      "\u001b[1A\u001b[1B\u001b[0G\u001b[?25l[+] Building 0.0s (0/1)                                                         \n",
      "\u001b[?25h\u001b[1A\u001b[0G\u001b[?25l[+] Building 0.1s (1/2)                                                         \n",
      "\u001b[34m => [internal] load build definition from btc-dockerfile.27591             0.0s\n",
      "\u001b[0m\u001b[34m => => transferring dockerfile: 239B                                       0.0s\n",
      "\u001b[0m\u001b[?25h\u001b[1A\u001b[1A\u001b[1A\u001b[0G\u001b[?25l[+] Building 0.3s (2/3)                                                         \n",
      "\u001b[34m => [internal] load build definition from btc-dockerfile.27591             0.0s\n",
      "\u001b[0m\u001b[34m => => transferring dockerfile: 239B                                       0.0s\n",
      "\u001b[0m\u001b[34m => [internal] load .dockerignore                                          0.0s\n",
      "\u001b[0m\u001b[34m => => transferring context: 2B                                            0.0s\n",
      "\u001b[0m => [internal] load metadata for docker.io/brainome/btc_local_cpu:alpha    0.0s\n",
      "\u001b[?25h\u001b[1A\u001b[1A\u001b[1A\u001b[1A\u001b[1A\u001b[1A\u001b[0G\u001b[?25l[+] Building 0.4s (5/7)                                                         \n",
      "\u001b[34m => [internal] load build definition from btc-dockerfile.27591             0.0s\n",
      "\u001b[0m\u001b[34m => => transferring dockerfile: 239B                                       0.0s\n",
      "\u001b[0m\u001b[34m => [internal] load .dockerignore                                          0.0s\n",
      "\u001b[0m\u001b[34m => => transferring context: 2B                                            0.0s\n",
      "\u001b[0m\u001b[34m => [internal] load metadata for docker.io/brainome/btc_local_cpu:alpha    0.0s\n",
      "\u001b[0m\u001b[34m => [1/3] FROM docker.io/brainome/btc_local_cpu:alpha                      0.0s\n",
      "\u001b[0m\u001b[34m => [internal] load build context                                          0.1s\n",
      "\u001b[0m\u001b[34m => => transferring context: 1.37kB                                        0.0s\n",
      "\u001b[0m\u001b[?25h\u001b[1A\u001b[1A\u001b[1A\u001b[1A\u001b[1A\u001b[1A\u001b[1A\u001b[1A\u001b[1A\u001b[0G\u001b[?25l[+] Building 0.5s (7/8)                                                         \n",
      "\u001b[34m => [internal] load build definition from btc-dockerfile.27591             0.0s\n",
      "\u001b[0m\u001b[34m => => transferring dockerfile: 239B                                       0.0s\n",
      "\u001b[0m\u001b[34m => [internal] load .dockerignore                                          0.0s\n",
      "\u001b[0m\u001b[34m => => transferring context: 2B                                            0.0s\n",
      "\u001b[0m\u001b[34m => [internal] load metadata for docker.io/brainome/btc_local_cpu:alpha    0.0s\n",
      "\u001b[0m\u001b[34m => [1/3] FROM docker.io/brainome/btc_local_cpu:alpha                      0.0s\n",
      "\u001b[0m\u001b[34m => [internal] load build context                                          0.1s\n",
      "\u001b[0m\u001b[34m => => transferring context: 1.37kB                                        0.0s\n",
      "\u001b[0m\u001b[34m => CACHED [2/3] RUN adduser --disabled-password --gecos '' --uid 501 --g  0.0s\n",
      "\u001b[0m\u001b[34m => CACHED [3/3] COPY --chown=501:20 .daimensions.key /btc-alex            0.0s\n",
      "\u001b[0m => exporting to image                                                     0.1s\n",
      "\u001b[34m => => exporting layers                                                    0.0s\n",
      "\u001b[0m => => writing image sha256:43dd56f18fcffcdd02c290bfcce87c7a6cd0b9ccf4db3  0.0s\n",
      "\u001b[?25h\u001b[1A\u001b[1A\u001b[1A\u001b[1A\u001b[1A\u001b[1A\u001b[1A\u001b[1A\u001b[1A\u001b[1A\u001b[1A\u001b[1A\u001b[1A\u001b[1A\u001b[0G\u001b[?25l[+] Building 0.6s (8/8) FINISHED                                                \n",
      "\u001b[34m => [internal] load build definition from btc-dockerfile.27591             0.0s\n",
      "\u001b[0m\u001b[34m => => transferring dockerfile: 239B                                       0.0s\n",
      "\u001b[0m\u001b[34m => [internal] load .dockerignore                                          0.0s\n",
      "\u001b[0m\u001b[34m => => transferring context: 2B                                            0.0s\n",
      "\u001b[0m\u001b[34m => [internal] load metadata for docker.io/brainome/btc_local_cpu:alpha    0.0s\n",
      "\u001b[0m\u001b[34m => [1/3] FROM docker.io/brainome/btc_local_cpu:alpha                      0.0s\n",
      "\u001b[0m\u001b[34m => [internal] load build context                                          0.1s\n",
      "\u001b[0m\u001b[34m => => transferring context: 1.37kB                                        0.0s\n",
      "\u001b[0m\u001b[34m => CACHED [2/3] RUN adduser --disabled-password --gecos '' --uid 501 --g  0.0s\n",
      "\u001b[0m\u001b[34m => CACHED [3/3] COPY --chown=501:20 .daimensions.key /btc-alex            0.0s\n",
      "\u001b[0m\u001b[34m => exporting to image                                                     0.1s\n",
      "\u001b[0m\u001b[34m => => exporting layers                                                    0.0s\n",
      "\u001b[0m\u001b[34m => => writing image sha256:43dd56f18fcffcdd02c290bfcce87c7a6cd0b9ccf4db3  0.0s\n",
      "\u001b[0m\u001b[34m => => naming to docker.io/library/btc-alex:latest                         0.0s\n",
      "\u001b[0m\u001b[?25hDocker image btc-alex:latest updated successfully.\n"
     ]
    }
   ]
  },
  {
   "source": [
    "From the measurements, we can see that the random forest predictor has better generalization and memory equvalent capacity than the decision tree. However, it is still fairly far off from the neural network. The accuracy of the random forest predictor on the validation set is 86.60%, which is about a 30% improvement on best guess. "
   ],
   "cell_type": "markdown",
   "metadata": {}
  }
 ]
}