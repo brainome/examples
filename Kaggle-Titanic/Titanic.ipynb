{
 "cells": [
  {
   "cell_type": "markdown",
   "metadata": {},
   "source": [
    "# Titanic Using Daimensions\n",
    "\n",
    "This notebook uses data from the Titanic competition on Kaggle (https://www.kaggle.com/c/titanic/overview).\n",
    "\n",
    "Kaggle's description of the competition:\n",
    "\"The sinking of the Titanic is one of the most infamous shipwrecks in history. On April 15, 1912, during her maiden voyage, the widely considered 'unsinkable' RMS Titanic sank after colliding with an iceberg. Unfortunately, there weren’t enough lifeboats for everyone onboard, resulting in the death of 1502 out of 2224 passengers and crew.\n",
    "While there was some element of luck involved in surviving, it seems some groups of people were more likely to survive than others. In this challenge, we ask you to build a predictive model that answers the question: 'what sorts of people were more likely to survive?' using passenger data (ie name, age, gender, socio-economic class, etc).\"\n",
    "\n",
    "Goal: Make a predictor of survival from Titanic training data. We'll do this by using Daimensions to measure, build, and validate a predictor."
   ]
  },
  {
   "cell_type": "markdown",
   "metadata": {},
   "source": [
    "## 0. Getting Started\n",
    "\n",
    "Because this is the very first tutorial, we'll go over how to install btc and get started. You can also see how to setup btc in the Daimensions Quickstart guide.\n",
    "\n",
    "First, use the following link to download the installation script: https://download.brainome.net/btc-cli/btc-setup.sh. From the download directory, run the following bash command."
   ]
  },
  {
   "cell_type": "code",
   "execution_count": null,
   "metadata": {},
   "outputs": [],
   "source": [
    "! sh btc-setup.sh"
   ]
  },
  {
   "cell_type": "markdown",
   "metadata": {},
   "source": [
    "The script will check that your operating system is supported, download the latest btc client to your machine and install it in /usr/local/bin. You will be prompted to enter the administrator password to install the software. \n",
    "*NOTE: After installation, make sure that “/usr/local/bin” is in your search path. *\n",
    "\n",
    "Next, run the following command to wipe all cloud files. You will need your user credentials to login to DaimensionsTM. The first time you login, your license key will be downloaded automatically. Please use the default password that was provided to you. "
   ]
  },
  {
   "cell_type": "code",
   "execution_count": null,
   "metadata": {},
   "outputs": [],
   "source": [
    "! btc WIPE"
   ]
  },
  {
   "cell_type": "markdown",
   "metadata": {},
   "source": [
    "To change your password, use the following bash command."
   ]
  },
  {
   "cell_type": "code",
   "execution_count": null,
   "metadata": {},
   "outputs": [],
   "source": [
    "! btc CHPASSWD"
   ]
  },
  {
   "cell_type": "markdown",
   "metadata": {},
   "source": [
    "## 1. Get Measurements\n",
    "\n",
    "Measuring our data before building a predictor is important in order to avoid mistakes and optimize our model. If we don't measure our data, we have no way of knowing whether the predictor we build will actually do what we want it to do when it sees new data that it wasn’t trained on. We'll probably build a model that is much larger than it needs to be, meaning our training and run times will probably be much longer than they need to be. We could end up in a situation where we just don’t know whether we have the right amount or right type of training data, even after extensive training and testing. Because of these reasons, it's best to measure our data beforehand. Not to mention, Daimensions will tell us about learnability, the generalization ratio, noise resilience, and all the standard accuracy and confusion figures. \n",
    "For more information, you can read the Daimensions How-to Guide and Glossary."
   ]
  },
  {
   "cell_type": "code",
   "execution_count": 8,
   "metadata": {},
   "outputs": [
    {
     "output_type": "stream",
     "name": "stdout",
     "text": [
      "\n\n\n\n\n\n\n\n\n\n"
     ]
    }
   ],
   "source": [
    "# Below is a clip of the training data:\n",
    "! head titanic_train.csv\n",
    "# For Windows command prompt:\n",
    "# type titanic_train.csv | more"
   ]
  },
  {
   "cell_type": "markdown",
   "metadata": {},
   "source": [
    "As you can see from above, the target column (Survived) isn't the last column on the right. Because of this, we need to use '-target' so that Daimensions is looking at the correct target column for measuring and building a predictor."
   ]
  },
  {
   "cell_type": "code",
   "execution_count": 9,
   "metadata": {},
   "outputs": [
    {
     "output_type": "stream",
     "name": "stdout",
     "text": [
      "WARNING: Could not detect a GPU. Neural Network generation will be slow.\n",
      "\n",
      "Brainome Daimensions(tm) 0.99 Copyright (c) 2019 - 2021 by Brainome, Inc. All Rights Reserved.\n",
      "Licensed to:              Alexander Makhratchev  (Evaluation)\n",
      "Expiration Date:          2021-04-30   56 days left\n",
      "Number of Threads:        1\n",
      "Maximum File Size:        30 GB\n",
      "Maximum Instances:        unlimited\n",
      "Maximum Attributes:       unlimited\n",
      "Maximum Classes:          unlimited\n",
      "Connected to:             daimensions.brainome.ai  (local execution)\n",
      "\n",
      "\n",
      "\n",
      "Command:\n",
      "    btc -measureonly titanic_train.csv -target Survived\n",
      "\n",
      "Start Time:                 03/05/2021, 17:44\n",
      "\n",
      "\n",
      "Data:\n",
      "    Input:                      titanic_train.csv\n",
      "    Target Column:              Survived\n",
      "    Number of instances:        891\n",
      "    Number of attributes:       11\n",
      "    Number of classes:          2\n",
      "    Class Balance:              0: 61.62%, 1: 38.38%\n",
      "\n",
      "Learnability:\n",
      "    Best guess accuracy:          61.62%\n",
      "    Data Sufficiency:            Maybe enough data to generalize. [yellow]\n",
      "\n",
      "Capacity Progression:            at [ 5%, 10%, 20%, 40%, 80%, 100% ]\n",
      "    Optimal Machine Learner:           6,   7,   8,   8,   9,   9\n",
      "\n",
      "\n",
      "Estimated Memory Equivalent Capacity for...\n",
      "    Decision Tree:                   419 parameters\n",
      "    Neural Networks:                  39 parameters\n",
      "    Random Forest:                   106 parameters\n",
      "\n",
      "Risk that model needs to overfit for 100% accuracy using...\n",
      "    Decision Tree:                99.42%\n",
      "    Neural Networks:             100.00%\n",
      "    Random Forest:                59.89%\n",
      "\n",
      "Expected Generalization using...\n",
      "    Decision Tree:                  2.04 bits/bit\n",
      "    Neural Network:                 8.10 bits/bit\n",
      "    Random Forest:                  8.41 bits/bit\n",
      "\n",
      "\n",
      "Recommendations:\n",
      "\n",
      "    Warning: Data has high information density. Expect varying results and increase --effort.\n",
      "\n",
      "\n",
      "\n",
      "Time to Build Estimates:\n",
      "    Decision Tree:             a few seconds\n",
      "    Neural Network:              3 minutes\n",
      "\n",
      "\n",
      "\u001b[1A\u001b[1B\u001b[0G\u001b[?25l[+] Building 0.0s (0/1)                                                         \n",
      "\u001b[?25h\u001b[1A\u001b[0G\u001b[?25l[+] Building 0.1s (1/1)                                                         \n",
      "\u001b[34m => [internal] load build definition from btc-dockerfile.12070             0.0s\n",
      "\u001b[0m\u001b[34m => => transferring dockerfile: 239B                                       0.0s\n",
      "\u001b[0m\u001b[?25h\u001b[1A\u001b[1A\u001b[1A\u001b[0G\u001b[?25l[+] Building 0.3s (1/2)                                                         \n",
      "\u001b[34m => [internal] load build definition from btc-dockerfile.12070             0.0s\n",
      "\u001b[0m\u001b[34m => => transferring dockerfile: 239B                                       0.0s\n",
      "\u001b[0m\u001b[?25h\u001b[1A\u001b[1A\u001b[1A\u001b[0G\u001b[?25l[+] Building 0.4s (2/2)                                                         \n",
      "\u001b[34m => [internal] load build definition from btc-dockerfile.12070             0.0s\n",
      "\u001b[0m\u001b[34m => => transferring dockerfile: 239B                                       0.0s\n",
      "\u001b[0m\u001b[34m => [internal] load .dockerignore                                          0.1s\n",
      "\u001b[0m\u001b[34m => => transferring context: 2B                                            0.0s\n",
      "\u001b[0m\u001b[?25h\u001b[1A\u001b[1A\u001b[1A\u001b[1A\u001b[1A\u001b[0G\u001b[?25l[+] Building 0.5s (4/7)                                                         \n",
      "\u001b[34m => [internal] load build definition from btc-dockerfile.12070             0.0s\n",
      "\u001b[0m\u001b[34m => => transferring dockerfile: 239B                                       0.0s\n",
      "\u001b[0m\u001b[34m => [internal] load .dockerignore                                          0.1s\n",
      "\u001b[0m\u001b[34m => => transferring context: 2B                                            0.0s\n",
      "\u001b[0m\u001b[34m => [internal] load metadata for docker.io/brainome/btc_local_cpu:alpha    0.0s\n",
      "\u001b[0m => [internal] load build context                                          0.0s\n",
      "\u001b[34m => => transferring context: 1.37kB                                        0.0s\n",
      "\u001b[0m\u001b[34m => [1/3] FROM docker.io/brainome/btc_local_cpu:alpha                      0.0s\n",
      "\u001b[0m\u001b[?25h\u001b[1A\u001b[1A\u001b[1A\u001b[1A\u001b[1A\u001b[1A\u001b[1A\u001b[1A\u001b[1A\u001b[0G\u001b[?25l[+] Building 0.6s (7/8)                                                         \n",
      "\u001b[34m => [internal] load build definition from btc-dockerfile.12070             0.0s\n",
      "\u001b[0m\u001b[34m => => transferring dockerfile: 239B                                       0.0s\n",
      "\u001b[0m\u001b[34m => [internal] load .dockerignore                                          0.1s\n",
      "\u001b[0m\u001b[34m => => transferring context: 2B                                            0.0s\n",
      "\u001b[0m\u001b[34m => [internal] load metadata for docker.io/brainome/btc_local_cpu:alpha    0.0s\n",
      "\u001b[0m\u001b[34m => [internal] load build context                                          0.1s\n",
      "\u001b[0m\u001b[34m => => transferring context: 1.37kB                                        0.0s\n",
      "\u001b[0m\u001b[34m => [1/3] FROM docker.io/brainome/btc_local_cpu:alpha                      0.0s\n",
      "\u001b[0m\u001b[34m => CACHED [2/3] RUN adduser --disabled-password --gecos '' --uid 501 --g  0.0s\n",
      "\u001b[0m\u001b[34m => CACHED [3/3] COPY --chown=501:20 .daimensions.key /btc-alex            0.0s\n",
      "\u001b[0m => exporting to image                                                     0.1s\n",
      "\u001b[34m => => exporting layers                                                    0.0s\n",
      "\u001b[0m => => writing image sha256:43dd56f18fcffcdd02c290bfcce87c7a6cd0b9ccf4db3  0.0s\n",
      "\u001b[?25h\u001b[1A\u001b[1A\u001b[1A\u001b[1A\u001b[1A\u001b[1A\u001b[1A\u001b[1A\u001b[1A\u001b[1A\u001b[1A\u001b[1A\u001b[1A\u001b[1A\u001b[0G\u001b[?25l[+] Building 0.7s (8/8) FINISHED                                                \n",
      "\u001b[34m => [internal] load build definition from btc-dockerfile.12070             0.0s\n",
      "\u001b[0m\u001b[34m => => transferring dockerfile: 239B                                       0.0s\n",
      "\u001b[0m\u001b[34m => [internal] load .dockerignore                                          0.1s\n",
      "\u001b[0m\u001b[34m => => transferring context: 2B                                            0.0s\n",
      "\u001b[0m\u001b[34m => [internal] load metadata for docker.io/brainome/btc_local_cpu:alpha    0.0s\n",
      "\u001b[0m\u001b[34m => [internal] load build context                                          0.1s\n",
      "\u001b[0m\u001b[34m => => transferring context: 1.37kB                                        0.0s\n",
      "\u001b[0m\u001b[34m => [1/3] FROM docker.io/brainome/btc_local_cpu:alpha                      0.0s\n",
      "\u001b[0m\u001b[34m => CACHED [2/3] RUN adduser --disabled-password --gecos '' --uid 501 --g  0.0s\n",
      "\u001b[0m\u001b[34m => CACHED [3/3] COPY --chown=501:20 .daimensions.key /btc-alex            0.0s\n",
      "\u001b[0m\u001b[34m => exporting to image                                                     0.1s\n",
      "\u001b[0m\u001b[34m => => exporting layers                                                    0.0s\n",
      "\u001b[0m\u001b[34m => => writing image sha256:43dd56f18fcffcdd02c290bfcce87c7a6cd0b9ccf4db3  0.0s\n",
      "\u001b[0m\u001b[34m => => naming to docker.io/library/btc-alex:latest                         0.0s\n",
      "\u001b[0m\u001b[?25hDocker image btc-alex:latest updated successfully.\n"
     ]
    }
   ],
   "source": [
    "# Measuring the training data:\n",
    "! btc -measureonly titanic_train.csv -target Survived "
   ]
  },
  {
   "cell_type": "markdown",
   "metadata": {},
   "source": [
    "## 2. Build the Predictor\n",
    "\n",
    "Because the learnability of the data (based on capacity progression and risk) is yellow, the how-to guide recommends to choose predictor with higher generalization and increase effort for best results. This means using a neural network with effort should work best. Here, I'm using '-f NN' to make the predictor a neural network. I'm also using '-o predict.py' to output the predictor as a python file. To increase the effort, I'm using '-e 10' for 10 times the effort. Again, we have to use '-target Survived' because the target column isn't the last one."
   ]
  },
  {
   "cell_type": "code",
   "execution_count": 13,
   "metadata": {},
   "outputs": [
    {
     "output_type": "stream",
     "name": "stdout",
     "text": [
      "WARNING: Could not detect a GPU. Neural Network generation will be slow.\n",
      "\n",
      "Brainome Daimensions(tm) 0.99 Copyright (c) 2019 - 2021 by Brainome, Inc. All Rights Reserved.\n",
      "Licensed to:              Alexander Makhratchev  (Evaluation)\n",
      "Expiration Date:          2021-04-30   56 days left\n",
      "Number of Threads:        1\n",
      "Maximum File Size:        30 GB\n",
      "Maximum Instances:        unlimited\n",
      "Maximum Attributes:       unlimited\n",
      "Maximum Classes:          unlimited\n",
      "Connected to:             daimensions.brainome.ai  (local execution)\n",
      "\n",
      "\n",
      "\n",
      "Command:\n",
      "    btc -v -v -f NN titanic_train.csv -o titanic_predict.py -target Survived --yes\n",
      "\n",
      "Start Time:                 03/05/2021, 17:48\n",
      "\n",
      "\n",
      "\n",
      "\n",
      "\n",
      "\n",
      "\n",
      "Data:\n",
      "    Input:                      titanic_train.csv\n",
      "    Target Column:              Survived\n",
      "    Number of instances:        891\n",
      "    Number of attributes:       11\n",
      "    Number of classes:          2\n",
      "    Class Balance:              0: 61.62%, 1: 38.38%\n",
      "\n",
      "Learnability:\n",
      "    Best guess accuracy:          61.62%\n",
      "    Data Sufficiency:            Maybe enough data to generalize. [yellow]\n",
      "\n",
      "Capacity Progression:            at [ 5%, 10%, 20%, 40%, 80%, 100% ]\n",
      "    Optimal Machine Learner:           6,   7,   8,   8,   9,   9\n",
      "\n",
      "\n",
      "Estimated Memory Equivalent Capacity for...\n",
      "    Decision Tree:                   419 parameters\n",
      "    Neural Networks:                  39 parameters\n",
      "    Random Forest:                   106 parameters\n",
      "\n",
      "Risk that model needs to overfit for 100% accuracy using...\n",
      "    Decision Tree:                99.42%\n",
      "    Neural Networks:             100.00%\n",
      "    Random Forest:                59.89%\n",
      "\n",
      "Expected Generalization using...\n",
      "    Decision Tree:                  2.04 bits/bit\n",
      "    Neural Network:                 8.10 bits/bit\n",
      "    Random Forest:                  8.41 bits/bit\n",
      "\n",
      "\n",
      "Recommendations:\n",
      "\n",
      "    Warning: Data has high information density. Expect varying results and increase --effort.\n",
      "    Note: Machine learner type NN given by user.\n",
      "\n",
      "\n",
      "Time to Build Estimates:\n",
      "\n",
      "    Neural Network:              2 minutes\n",
      "\n",
      "\n",
      "\n",
      "\n",
      "Model created:\n",
      "Sequential(\n",
      "  (0): Linear(in_features=11, out_features=2, bias=True)\n",
      "  (1): ReLU()\n",
      "  (2): Linear(in_features=2, out_features=1, bias=True)\n",
      ")\n",
      "\n",
      "\n",
      "\n",
      "System Meter:                          titanic_predict.py\n",
      "    Classifier Type:                   Neural Network\n",
      "    System Type:                       Binary classifier\n",
      "    Training/Validation Split:           60% : 40%\n",
      "    Accuracy:\n",
      "        Best-guess accuracy:               61.61%\n",
      "        Training accuracy:                 63.67% (340/534 correct)\n",
      "        Validation Accuracy:               58.54% (209/357 correct)\n",
      "        Overall Model Accuracy:            61.61% (549/891 correct)\n",
      "        Improvement over best guess:        0.00% of possible  38.39%\n",
      "\n",
      "    Model Capacity (MEC):                      28 bits\n",
      "    Generalization Ratio:                   11.48 bits/bit\n",
      "    Model Efficiency:                        0.00 /parameter\n",
      "    Generalization Index:                    5.65\n",
      "    Percent of Data Memorized:              17.70%\n",
      "\n",
      "    Training Confusion Matrix (count):\n",
      "                   0 |  340    0 \n",
      "                   1 |  194    0 \n",
      "\n",
      "    Validation Confusion Matrix (count):\n",
      "                   0 |  209    0 \n",
      "                   1 |  148    0 \n",
      "\n",
      "    Full Confusion Matrix (count):\n",
      "                   0 |  549    0 \n",
      "                   1 |  342    0 \n",
      "\n",
      "    Accuracy by Class:\n",
      "               class |   TP   FP   TN   FN     TPR      TNR      PPV      NPV       F1       TS \n",
      "                   0 |  549    0    0  342   61.62%    0.00%  100.00%    0.00%   76.25%   61.62%\n",
      "                   1 |    0  342  549    0     nan%  100.00%    0.00%  100.00%    0.00%    0.00%\n",
      "\n",
      "End Time:                     \n",
      "Runtime Duration:             \n",
      "\n",
      "Output: titanic_predict.py \n",
      "READY.\n",
      "\n"
     ]
    }
   ],
   "source": [
    "# Building the predictor and outputting it to 'titanic_predict.py':\n",
    "! btc -v -v -f NN titanic_train.csv -o titanic_predict.py -target Survived --yes"
   ]
  },
  {
   "cell_type": "markdown",
   "metadata": {},
   "source": [
    "## 3. Validate and Make Predictions\n",
    "\n",
    "We've built our first predictor! Now it's time to put it to use. In the case of Titanic, we are given test data from Kaggle, where it's different from the training data and doesn't include 'Survival'. We can use the model we built to make predictions for the test data and submit it to Kaggle for its competition. In the following code, I'll save the model's prediction in 'titanic_prediction.csv'. You will see that the predictor appended the model's prediction of survival as the last column. "
   ]
  },
  {
   "cell_type": "code",
   "execution_count": 14,
   "metadata": {},
   "outputs": [
    {
     "output_type": "stream",
     "name": "stdout",
     "text": [
      "PassengerId,Pclass,Name,Sex,Age,SibSp,Parch,Ticket,Fare,Cabin,Embarked,Prediction\n892,3,\"Kelly, Mr. James\",male,34.5,0,0,330911,7.8292,,Q,0\n893,3,\"Wilkes, Mrs. James (Ellen Needs)\",female,47,1,0,363272,7,,S,0\n894,2,\"Myles, Mr. Thomas Francis\",male,62,0,0,240276,9.6875,,Q,0\n895,3,\"Wirz, Mr. Albert\",male,27,0,0,315154,8.6625,,S,0\n896,3,\"Hirvonen, Mrs. Alexander (Helga E Lindqvist)\",female,22,1,1,3101298,12.2875,,S,0\n897,3,\"Svensson, Mr. Johan Cervin\",male,14,0,0,7538,9.225,,S,0\n898,3,\"Connolly, Miss. Kate\",female,30,0,0,330972,7.6292,,Q,0\n899,2,\"Caldwell, Mr. Albert Francis\",male,26,1,1,248738,29,,S,0\n900,3,\"Abrahim, Mrs. Joseph (Sophie Halaut Easu)\",female,18,0,0,2657,7.2292,,C,0\n"
     ]
    }
   ],
   "source": [
    "# Using predictor on test data and saving it to 'titanic_prediction.csv':\n",
    "! python3 titanic_predict.py titanic_test.csv > titanic_prediction.csv\n",
    "! head titanic_prediction.csv"
   ]
  },
  {
   "cell_type": "markdown",
   "metadata": {},
   "source": [
    "If you have validation data, or data that has the target column but wasn't used for training, you can use it to validate the accuracy of your predictor, as we will do. For this particular instance, I found an annotated version of the Titanic test data, 'titanic_validation.csv', and used it to validate our model."
   ]
  },
  {
   "cell_type": "code",
   "execution_count": 15,
   "metadata": {},
   "outputs": [
    {
     "output_type": "stream",
     "name": "stdout",
     "text": [
      "Classifier Type:                    Neural Network\n",
      "System Type:                        Binary classifier\n",
      "Best-guess accuracy:                62.20%\n",
      "Model accuracy:                     62.20% (260/418 correct)\n",
      "Improvement over best guess:        0.00% (of possible 37.8%)\n",
      "Model capacity (MEC):               28 bits\n",
      "Generalization ratio:               8.88 bits/bit\n",
      "Model efficiency:                   0.00%/parameter\n",
      "System behavior\n",
      "True Negatives:                     62.20% (260/418)\n",
      "True Positives:                     0.00% (0/418)\n",
      "False Negatives:                    37.80% (158/418)\n",
      "False Positives:                    0.00% (0/418)\n",
      "True Pos. Rate/Sensitivity/Recall:  0.00\n",
      "True Neg. Rate/Specificity:         1.00\n",
      "F-1 Measure:                        0.00\n",
      "False Negative Rate/Miss Rate:      1.00\n",
      "Critical Success Index:             0.00\n",
      "Confusion Matrix:\n",
      " [62.20% 0.00%]\n",
      " [37.80% 0.00%]\n"
     ]
    }
   ],
   "source": [
    "# To validate:\n",
    "! python3 titanic_predict.py -validate titanic_validation.csv"
   ]
  },
  {
   "cell_type": "markdown",
   "metadata": {},
   "source": [
    "From validating the predictor, we can see that it has 74.64% accuracy, 12.44% better than best-guess accuracy (which classifies all data points as the majority class). "
   ]
  },
  {
   "cell_type": "markdown",
   "metadata": {},
   "source": [
    "## 4. Improving Our Model\n",
    "\n",
    "Our model did pretty well, but let's see if we can improve it. A column that contains a unique value in each row (for example a database key) will never contribute to generalization, so we shouldn't include database keys or other unique ID columns. We can remove these columns by using '-ignorecolumns'. We'll try ignoring columns: PassengerId, Name, Ticket, Cabin, Embarked, because they're all unique ID columns. We could also use '-rank' to rank columns by significance and only process contributing attributes.\n",
    "\n",
    "### Ignorecolumns vs Rank:\n",
    "There may be situations where domain knowledge suggests a better choice of features than -rank. If we know the data generative process, we can do better with -ignorecolumns than with -rank. Rank is also optimizing for quick clustering/decision tree. For neural networks, we may still wish to reduce input features, which can be done with pca, but at the cost of interpretability. Some applications may require the original features are used in which case pca isn't viable. Ignorecolumns can reduce features while maintaining interpretability and work better for neural networks than -rank may, but the burden of choosing the right columns to keep is now on us."
   ]
  },
  {
   "cell_type": "markdown",
   "metadata": {},
   "source": [
    "### Using -ignorecolumns:"
   ]
  },
  {
   "cell_type": "code",
   "execution_count": 17,
   "metadata": {},
   "outputs": [
    {
     "output_type": "stream",
     "name": "stdout",
     "text": [
      "WARNING: Could not detect a GPU. Neural Network generation will be slow.\n",
      "\n",
      "Brainome Daimensions(tm) 0.99 Copyright (c) 2019 - 2021 by Brainome, Inc. All Rights Reserved.\n",
      "Licensed to:              Alexander Makhratchev  (Evaluation)\n",
      "Expiration Date:          2021-04-30   56 days left\n",
      "Number of Threads:        1\n",
      "Maximum File Size:        30 GB\n",
      "Maximum Instances:        unlimited\n",
      "Maximum Attributes:       unlimited\n",
      "Maximum Classes:          unlimited\n",
      "Connected to:             daimensions.brainome.ai  (local execution)\n",
      "\n",
      "\n",
      "\n",
      "Command:\n",
      "    btc -v -v -f NN titanic_train.csv -o titanic_predict_igcol.py -target Survived -ignorecolumns PassengerId,Name,Ticket,Cabin,Embarked -e 10 --yes\n",
      "\n",
      "Start Time:                 03/05/2021, 17:56\n",
      "\n",
      "\n",
      "\n",
      "\n",
      "\n",
      "\n",
      "\n",
      "Data:\n",
      "    Input:                      titanic_train.csv\n",
      "    Target Column:              Survived\n",
      "    Number of instances:        891\n",
      "    Number of attributes:       6\n",
      "    Number of classes:          2\n",
      "    Class Balance:              0: 61.62%, 1: 38.38%\n",
      "\n",
      "Learnability:\n",
      "    Best guess accuracy:          61.62%\n",
      "    Data Sufficiency:            Not enough data to generalize. [red]\n",
      "\n",
      "Capacity Progression:            at [ 5%, 10%, 20%, 40%, 80%, 100% ]\n",
      "    Optimal Machine Learner:           6,   6,   7,   8,   8,   9\n",
      "\n",
      "\n",
      "Estimated Memory Equivalent Capacity for...\n",
      "    Decision Tree:                   224 parameters\n",
      "    Neural Networks:                   1 parameters\n",
      "    Random Forest:                   101 parameters\n",
      "\n",
      "Risk that model needs to overfit for 100% accuracy using...\n",
      "    Decision Tree:                55.32%\n",
      "    Neural Networks:               7.86%\n",
      "    Random Forest:                56.11%\n",
      "\n",
      "Expected Generalization using...\n",
      "    Decision Tree:                  3.67 bits/bit\n",
      "    Neural Network:               163.00 bits/bit\n",
      "    Random Forest:                  8.82 bits/bit\n",
      "\n",
      "\n",
      "Recommendations:\n",
      "\n",
      "\n",
      "    Note: Machine learner type NN given by user.\n",
      "\n",
      "\n",
      "Time to Build Estimates:\n",
      "\n",
      "    Neural Network:              3 minutes\n",
      "\n",
      "\n",
      "\n",
      "\n",
      "\n",
      "\n",
      "Model created:\n",
      "Sequential(\n",
      "  (0): Linear(in_features=6, out_features=2, bias=True)\n",
      "  (1): ReLU()\n",
      "  (2): Linear(in_features=2, out_features=1, bias=True)\n",
      ")\n",
      "\n",
      "\n",
      "\n",
      "System Meter:                          titanic_predict_igcol.py\n",
      "    Classifier Type:                   Neural Network\n",
      "    System Type:                       Binary classifier\n",
      "    Training/Validation Split:           50% : 50%\n",
      "    Accuracy:\n",
      "        Best-guess accuracy:               61.61%\n",
      "        Training accuracy:                 78.87% (351/445 correct)\n",
      "        Validation Accuracy:               82.06% (366/446 correct)\n",
      "        Overall Model Accuracy:            80.47% (717/891 correct)\n",
      "        Improvement over best guess:       18.86% of possible  38.39%\n",
      "\n",
      "    Model Capacity (MEC):                       1 bit\n",
      "    Generalization Ratio:                  337.31 bits/bit\n",
      "    Model Efficiency:                       18.86 /parameter\n",
      "    Generalization Index:                  166.08\n",
      "    Percent of Data Memorized:               0.60%\n",
      "\n",
      "    Training Confusion Matrix (count):\n",
      "                   0 |  244   30 \n",
      "                   1 |   64  107 \n",
      "\n",
      "    Validation Confusion Matrix (count):\n",
      "                   0 |  251   24 \n",
      "                   1 |   56  115 \n",
      "\n",
      "    Full Confusion Matrix (count):\n",
      "                   0 |  495   54 \n",
      "                   1 |  120  222 \n",
      "\n",
      "    Accuracy by Class:\n",
      "               class |   TP   FP   TN   FN     TPR      TNR      PPV      NPV       F1       TS \n",
      "                   0 |  495   54  222  120   80.49%   64.91%   90.16%   64.91%   85.05%   73.99%\n",
      "                   1 |  222  120  495   54   80.43%   90.16%   64.91%   90.16%   71.84%   56.06%\n",
      "\n",
      "End Time:                     \n",
      "Runtime Duration:             \n",
      "\n",
      "Output: titanic_predict_igcol.py \n",
      "READY.\n",
      "\n"
     ]
    }
   ],
   "source": [
    "# Using -ignorecolumns to make a better predictor:\n",
    "! btc -v -v -f NN titanic_train.csv -o titanic_predict_igcol.py -target Survived -ignorecolumns PassengerId,Name,Ticket,Cabin,Embarked -e 10 --yes"
   ]
  },
  {
   "cell_type": "code",
   "execution_count": 18,
   "metadata": {},
   "outputs": [
    {
     "output_type": "stream",
     "name": "stdout",
     "text": [
      "PassengerId,Pclass,Name,Sex,Age,SibSp,Parch,Ticket,Fare,Cabin,Embarked,Prediction\n892,3,\"Kelly, Mr. James\",male,34.5,0,0,330911,7.8292,,Q,0\n893,3,\"Wilkes, Mrs. James (Ellen Needs)\",female,47,1,0,363272,7,,S,1\n894,2,\"Myles, Mr. Thomas Francis\",male,62,0,0,240276,9.6875,,Q,0\n895,3,\"Wirz, Mr. Albert\",male,27,0,0,315154,8.6625,,S,0\n896,3,\"Hirvonen, Mrs. Alexander (Helga E Lindqvist)\",female,22,1,1,3101298,12.2875,,S,1\n897,3,\"Svensson, Mr. Johan Cervin\",male,14,0,0,7538,9.225,,S,0\n898,3,\"Connolly, Miss. Kate\",female,30,0,0,330972,7.6292,,Q,1\n899,2,\"Caldwell, Mr. Albert Francis\",male,26,1,1,248738,29,,S,0\n900,3,\"Abrahim, Mrs. Joseph (Sophie Halaut Easu)\",female,18,0,0,2657,7.2292,,C,1\n"
     ]
    }
   ],
   "source": [
    "# Using the ignorecolumns predictor on test data and saving it to 'titanic_prediction_igcol.csv':\n",
    "! python3 titanic_predict_igcol.py titanic_test.csv > titanic_prediction_igcol.csv\n",
    "! head titanic_prediction_igcol.csv"
   ]
  },
  {
   "cell_type": "markdown",
   "metadata": {},
   "source": [
    "As we wanted, -ignorecolumns removed the PassengerId, Name, Ticket, Cabin, and Embarked attributes. Next, we can use -validate to check the accuracy of our new predictor."
   ]
  },
  {
   "cell_type": "code",
   "execution_count": 19,
   "metadata": {},
   "outputs": [
    {
     "output_type": "stream",
     "name": "stdout",
     "text": [
      "Classifier Type:                    Neural Network\n",
      "System Type:                        Binary classifier\n",
      "Best-guess accuracy:                62.20%\n",
      "Model accuracy:                     77.27% (323/418 correct)\n",
      "Improvement over best guess:        15.07% (of possible 37.8%)\n",
      "Model capacity (MEC):               1 bits\n",
      "Generalization ratio:               308.99 bits/bit\n",
      "Model efficiency:                   15.06%/parameter\n",
      "System behavior\n",
      "True Negatives:                     52.87% (221/418)\n",
      "True Positives:                     24.40% (102/418)\n",
      "False Negatives:                    13.40% (56/418)\n",
      "False Positives:                    9.33% (39/418)\n",
      "True Pos. Rate/Sensitivity/Recall:  0.65\n",
      "True Neg. Rate/Specificity:         0.85\n",
      "Precision:                          0.72\n",
      "F-1 Measure:                        0.68\n",
      "False Negative Rate/Miss Rate:      0.35\n",
      "Critical Success Index:             0.52\n",
      "Confusion Matrix:\n",
      " [52.87% 9.33%]\n",
      " [13.40% 24.40%]\n"
     ]
    }
   ],
   "source": [
    "# Validating the -ignorecolumns predictor\n",
    "! python3 titanic_predict_igcol.py -validate titanic_validation.csv"
   ]
  },
  {
   "cell_type": "markdown",
   "metadata": {},
   "source": [
    "Using -ignorecolumns has improved our accuracy to 77.27% from 74.64% originally."
   ]
  },
  {
   "cell_type": "markdown",
   "metadata": {},
   "source": [
    "### Using -rank:"
   ]
  },
  {
   "cell_type": "code",
   "execution_count": 20,
   "metadata": {},
   "outputs": [
    {
     "output_type": "stream",
     "name": "stdout",
     "text": [
      "WARNING: Could not detect a GPU. Neural Network generation will be slow.\n",
      "\n",
      "Brainome Daimensions(tm) 0.99 Copyright (c) 2019 - 2021 by Brainome, Inc. All Rights Reserved.\n",
      "Licensed to:              Alexander Makhratchev  (Evaluation)\n",
      "Expiration Date:          2021-04-30   56 days left\n",
      "Number of Threads:        1\n",
      "Maximum File Size:        30 GB\n",
      "Maximum Instances:        unlimited\n",
      "Maximum Attributes:       unlimited\n",
      "Maximum Classes:          unlimited\n",
      "Connected to:             daimensions.brainome.ai  (local execution)\n",
      "\n",
      "\n",
      "\n",
      "Command:\n",
      "    btc -v -v -f NN titanic_train.csv -o titanic_predict_rank.py -target Survived -rank --yes -e 10\n",
      "\n",
      "Start Time:                 03/05/2021, 18:09\n",
      "\n",
      "\n",
      "\n",
      "\n",
      "\n",
      "Attribute Ranking:\n",
      "    Important columns:          Sex, SibSp, Parch, Pclass\n",
      "    Overfit risk:                   0.0%\n",
      "    Ignoring columns:           PassengerId, Name, Age, Ticket, Fare, Cabin, Embarked\n",
      "    Test Accuracy Progression:     Sex :   78.68%\n",
      "                                   SibSp :   79.69%  change   +1.01%\n",
      "                                   Parch :   80.36%  change   +0.67%\n",
      "                                   Pclass :   80.92%  change   +0.56%\n",
      "                                   \n",
      "\n",
      "\n",
      "\n",
      "\n",
      "\n",
      "Data:\n",
      "    Input:                      titanic_train.csv\n",
      "    Target Column:              Survived\n",
      "    Number of instances:        891\n",
      "    Number of attributes:       4\n",
      "    Number of classes:          2\n",
      "    Class Balance:              0: 61.62%, 1: 38.38%\n",
      "\n",
      "Learnability:\n",
      "    Best guess accuracy:          61.62%\n",
      "    Data Sufficiency:            Maybe enough data to generalize. [yellow]\n",
      "\n",
      "Capacity Progression:            at [ 5%, 10%, 20%, 40%, 80%, 100% ]\n",
      "    Optimal Machine Learner:           5,   6,   7,   7,   8,   8\n",
      "\n",
      "\n",
      "Estimated Memory Equivalent Capacity for...\n",
      "    Decision Tree:                     1 parameters\n",
      "    Neural Networks:                  16 parameters\n",
      "    Random Forest:                    32 parameters\n",
      "\n",
      "Risk that model needs to overfit for 100% accuracy using...\n",
      "    Decision Tree:                 0.29%\n",
      "    Neural Networks:             100.00%\n",
      "    Random Forest:                16.49%\n",
      "\n",
      "Expected Generalization using...\n",
      "    Decision Tree:                692.67 bits/bit\n",
      "    Neural Network:                17.62 bits/bit\n",
      "    Random Forest:                 27.84 bits/bit\n",
      "\n",
      "\n",
      "Recommendations:\n",
      "\n",
      "\n",
      "    Note: Machine learner type NN given by user.\n",
      "\n",
      "\n",
      "Time to Build Estimates:\n",
      "\n",
      "    Neural Network:              2 minutes\n",
      "\n",
      "\n",
      "\n",
      "\n",
      "\n",
      "\n",
      "Model created:\n",
      "Sequential(\n",
      "  (0): Linear(in_features=4, out_features=4, bias=True)\n",
      "  (1): ReLU()\n",
      "  (2): Linear(in_features=4, out_features=1, bias=True)\n",
      ")\n",
      "\n",
      "\n",
      "\n",
      "System Meter:                          titanic_predict_rank.py\n",
      "    Classifier Type:                   Neural Network\n",
      "    System Type:                       Binary classifier\n",
      "    Training/Validation Split:           50% : 50%\n",
      "    Accuracy:\n",
      "        Best-guess accuracy:               61.61%\n",
      "        Training accuracy:                 78.42% (349/445 correct)\n",
      "        Validation Accuracy:               82.28% (367/446 correct)\n",
      "        Overall Model Accuracy:            80.35% (716/891 correct)\n",
      "        Improvement over best guess:       18.74% of possible  38.39%\n",
      "\n",
      "    Model Capacity (MEC):                       1 bit\n",
      "    Generalization Ratio:                  335.39 bits/bit\n",
      "    Model Efficiency:                       18.73 /parameter\n",
      "    Generalization Index:                  165.13\n",
      "    Percent of Data Memorized:               0.61%\n",
      "\n",
      "    Training Confusion Matrix (count):\n",
      "                   0 |  254   20 \n",
      "                   1 |   76   95 \n",
      "\n",
      "    Validation Confusion Matrix (count):\n",
      "                   0 |  259   16 \n",
      "                   1 |   63  108 \n",
      "\n",
      "    Full Confusion Matrix (count):\n",
      "                   0 |  513   36 \n",
      "                   1 |  139  203 \n",
      "\n",
      "    Accuracy by Class:\n",
      "               class |   TP   FP   TN   FN     TPR      TNR      PPV      NPV       F1       TS \n",
      "                   0 |  513   36  203  139   78.68%   59.36%   93.44%   59.36%   85.43%   74.56%\n",
      "                   1 |  203  139  513   36   84.94%   93.44%   59.36%   93.44%   69.88%   53.70%\n",
      "\n",
      "End Time:                     \n",
      "Runtime Duration:             \n",
      "\n",
      "Output: titanic_predict_rank.py \n",
      "READY.\n",
      "\n"
     ]
    }
   ],
   "source": [
    "# Using -rank to make a better predictor:\n",
    "! btc -v -v -f NN titanic_train.csv -o titanic_predict_rank.py -target Survived -rank --yes -e 10"
   ]
  },
  {
   "cell_type": "code",
   "execution_count": 21,
   "metadata": {},
   "outputs": [
    {
     "output_type": "stream",
     "name": "stdout",
     "text": [
      "PassengerId,Pclass,Name,Sex,Age,SibSp,Parch,Ticket,Fare,Cabin,Embarked,Prediction\n892,3,\"Kelly, Mr. James\",male,34.5,0,0,330911,7.8292,,Q,0\n893,3,\"Wilkes, Mrs. James (Ellen Needs)\",female,47,1,0,363272,7,,S,0\n894,2,\"Myles, Mr. Thomas Francis\",male,62,0,0,240276,9.6875,,Q,0\n895,3,\"Wirz, Mr. Albert\",male,27,0,0,315154,8.6625,,S,0\n896,3,\"Hirvonen, Mrs. Alexander (Helga E Lindqvist)\",female,22,1,1,3101298,12.2875,,S,0\n897,3,\"Svensson, Mr. Johan Cervin\",male,14,0,0,7538,9.225,,S,0\n898,3,\"Connolly, Miss. Kate\",female,30,0,0,330972,7.6292,,Q,1\n899,2,\"Caldwell, Mr. Albert Francis\",male,26,1,1,248738,29,,S,0\n900,3,\"Abrahim, Mrs. Joseph (Sophie Halaut Easu)\",female,18,0,0,2657,7.2292,,C,1\n"
     ]
    }
   ],
   "source": [
    "# Using the rank predictor on test data and saving it to 'titanic_prediction_rank.csv':\n",
    "! python3 titanic_predict_rank.py titanic_test.csv > titanic_prediction_rank.csv\n",
    "! head titanic_prediction_rank.csv"
   ]
  },
  {
   "cell_type": "markdown",
   "metadata": {},
   "source": [
    "You can see that -rank decided to only look at the columns 'Sex','Parch' (Parent/child), and 'Fare'. This makes a lot of sense that the determining factors for survival on the Titanic were sex, how many parents or children they had on board, and how much their fare was. Seeing what attributes -rank chooses gives us powerful insight into understanding our data and its correlations."
   ]
  },
  {
   "cell_type": "code",
   "execution_count": 22,
   "metadata": {},
   "outputs": [
    {
     "output_type": "stream",
     "name": "stdout",
     "text": [
      "Classifier Type:                    Neural Network\n",
      "System Type:                        Binary classifier\n",
      "Best-guess accuracy:                62.20%\n",
      "Model accuracy:                     76.79% (321/418 correct)\n",
      "Improvement over best guess:        14.59% (of possible 37.8%)\n",
      "Model capacity (MEC):               1 bits\n",
      "Generalization ratio:               307.07 bits/bit\n",
      "Model efficiency:                   14.59%/parameter\n",
      "System behavior\n",
      "True Negatives:                     54.55% (228/418)\n",
      "True Positives:                     22.25% (93/418)\n",
      "False Negatives:                    15.55% (65/418)\n",
      "False Positives:                    7.66% (32/418)\n",
      "True Pos. Rate/Sensitivity/Recall:  0.59\n",
      "True Neg. Rate/Specificity:         0.88\n",
      "Precision:                          0.74\n",
      "F-1 Measure:                        0.66\n",
      "False Negative Rate/Miss Rate:      0.41\n",
      "Critical Success Index:             0.49\n",
      "Confusion Matrix:\n",
      " [54.55% 7.66%]\n",
      " [15.55% 22.25%]\n"
     ]
    }
   ],
   "source": [
    "# Validating the -rank predictor\n",
    "! python3 titanic_predict_rank.py -validate titanic_validation.csv"
   ]
  },
  {
   "cell_type": "markdown",
   "metadata": {},
   "source": [
    "With -rank, our accuracy is 76.79%, again, an improvement over our original 74.64%."
   ]
  },
  {
   "cell_type": "markdown",
   "metadata": {},
   "source": [
    "## 5. Next Steps\n",
    "\n",
    "Success! We've built our first predictor and used it to make predictions on the Titanic test data. From here, we can use our model on any new Titanic data or use other control options to try to improve our results even more.\n",
    "To check out some of the other control options, use '-h' to see the full list. You can also check out Brainome's How-to Guide and Glossary for more information."
   ]
  },
  {
   "cell_type": "code",
   "execution_count": 23,
   "metadata": {},
   "outputs": [
    {
     "output_type": "stream",
     "name": "stdout",
     "text": [
      "usage: btc [-h] [-hh] [-version] [-headerless] [-target TARGET]\n",
      "           [-ignorecolumns IGNORECOLUMNS] [-rank [ATTRIBUTERANK]]\n",
      "           [-measureonly] [-f FORCEMODEL] [-nosplit] [-nsamples NSAMPLES]\n",
      "           [-ignoreclasses IGNORELABELS] [-biasmeter]\n",
      "           [-usecolumns IMPORTANTCOLUMNS] [-o OUTPUT] [-v] [-q] [-y]\n",
      "           [-e EFFORT] [-balance] [-nopriming] [-novalidation] [-O OPTIMIZE]\n",
      "           [-nofun] [--forcemodel FORCEMODEL]\n",
      "           input [input ...]\n",
      "\n",
      "Brainome Table Compiler\n",
      "\n",
      "Required arguments:\n",
      "  input                 Table as CSV files and/or URLs.\n",
      "                        Alternatively, one of: {TERMINATE, WIPE, CHPASSWD, LOGOUT}\n",
      "                        TERMINATE: Terminate all cloud processes.\n",
      "                        WIPE: Delete all files in the cloud.\n",
      "                        CHPASSWD: Change password.\n",
      "                        LOGOUT: Force relogin.\n",
      "\n",
      "Optional arguments:\n",
      "  -h                    show this help message and exit\n",
      "  -hh                   show advanced help message\n",
      "  -version              show program's version number and exit\n",
      "\n",
      "CSV input file details:\n",
      "  -headerless           Headerless CSV input file.\n",
      "  -target TARGET        Specify target column by name or number. Default: last column of table.\n",
      "  -ignorecolumns IGNORECOLUMNS\n",
      "                        Comma-separated list of columns to ignore by name or number.\n",
      "\n",
      "Basic options:\n",
      "  -rank [ATTRIBUTERANK]\n",
      "                        Select the optimal subset of columns for accuracy on held out data\n",
      "                        If optional parameter N is given, select the optimal N columns. Works best for DT.\n",
      "  -measureonly          Only output measurements, no predictor is built.\n",
      "  -f FORCEMODEL         Force model type: DT, NN, RF  Default: RF\n",
      "  -nosplit              Use all of the data for training. Default: dataset is split between training and validation.\n",
      "\n",
      "Intermediate options:\n",
      "  -nsamples NSAMPLES    Train only on a subset of N random samples of the dataset. Default: entire dataset.\n",
      "  -ignoreclasses IGNORELABELS\n",
      "                        Comma-separated list of classes to ignore.\n",
      "  -biasmeter            Measure model bias\n",
      "  -usecolumns IMPORTANTCOLUMNS\n",
      "                        Comma-separated list of columns by name or number used to build the predictor.\n",
      "  -o OUTPUT, --output OUTPUT\n",
      "                        Predictor filename. Default: a.py\n",
      "  -v                    Verbose output\n",
      "  -q                    Quiet operation.\n",
      "  -y                    Answers yes to all overwrite questions.\n",
      "\n",
      "Advanced options:\n",
      "  -e EFFORT, --effort EFFORT\n",
      "                        Increase compute time to improve accuracy. 1=<effort<100. Default: 1\n",
      "  -balance              Treat classes as if they were balanced (only active for NN).\n",
      "  -nopriming            Do not prime the model.\n",
      "  -novalidation         Do not measure validation scores for created predictor.\n",
      "  -O OPTIMIZE, --optimize OPTIMIZE\n",
      "                        Maximize true positives towards a single class.\n",
      "  -nofun                Stop compilation if there are warnings.\n",
      "\n",
      "  --forcemodel FORCEMODEL\n",
      "                        Force model type: DT, NN, RF  Default: RF\n",
      "\n",
      "Examples:\n",
      "---------\n",
      "Measure and build a predictor for titanic\n",
      "\tbtc https://download.brainome.net/data/public/titanic_train.csv \n",
      "\n",
      "Build a better predictor by ignoring columns:\n",
      "\tbtc titanic_train.csv -ignorecolumns \"PassengerId,Name\" -target Survived \n",
      "\n",
      "Automatically select the important columns by using ranking:\n",
      "\tbtc titanic_train.csv -rank -target Survived \n",
      "\n",
      "Measure headerless dataset:\n",
      "\tbtc https://download.brainome.net/data/public/bank.csv -headerless -measureonly\n",
      "\n",
      "Full documentation can be found at https://www.brainome.ai/documentation/howto\n",
      "\n"
     ]
    }
   ],
   "source": [
    "! btc -h"
   ]
  },
  {
   "cell_type": "code",
   "execution_count": null,
   "metadata": {},
   "outputs": [],
   "source": []
  }
 ],
 "metadata": {
  "kernelspec": {
   "display_name": "Python 3",
   "language": "python",
   "name": "python3"
  },
  "language_info": {
   "codemirror_mode": {
    "name": "ipython",
    "version": 3
   },
   "file_extension": ".py",
   "mimetype": "text/x-python",
   "name": "python",
   "nbconvert_exporter": "python",
   "pygments_lexer": "ipython3",
   "version": "3.7.6-final"
  }
 },
 "nbformat": 4,
 "nbformat_minor": 2
}