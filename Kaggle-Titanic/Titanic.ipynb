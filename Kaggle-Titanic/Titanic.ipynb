{
 "cells": [
  {
   "cell_type": "markdown",
   "metadata": {},
   "source": [
    "# Titanic Using Daimensions\n",
    "\n",
    "This notebook uses data from the Titanic competition on Kaggle (https://www.kaggle.com/c/titanic/overview).\n",
    "\n",
    "Kaggle's description of the competition:\n",
    "\"The sinking of the Titanic is one of the most infamous shipwrecks in history. On April 15, 1912, during her maiden voyage, the widely considered 'unsinkable' RMS Titanic sank after colliding with an iceberg. Unfortunately, there weren’t enough lifeboats for everyone onboard, resulting in the death of 1502 out of 2224 passengers and crew.\n",
    "While there was some element of luck involved in surviving, it seems some groups of people were more likely to survive than others. In this challenge, we ask you to build a predictive model that answers the question: 'what sorts of people were more likely to survive?' using passenger data (ie name, age, gender, socio-economic class, etc).\"\n",
    "\n",
    "Goal: Make a predictor of survival from Titanic training data. We'll do this by using Daimensions to measure, build, and validate a predictor."
   ]
  },
  {
   "cell_type": "markdown",
   "metadata": {},
   "source": [
    "## 0. Getting Started\n",
    "\n",
    "Because this is the very first tutorial, we'll go over how to install btc and get started. You can also see how to setup btc in the Daimensions Quickstart guide.\n",
    "\n",
    "First, use the following link to download the installation script: https://download.brainome.net/btc-cli/btc-setup.sh. From the download directory, run the following bash command."
   ]
  },
  {
   "cell_type": "code",
   "execution_count": null,
   "metadata": {},
   "outputs": [],
   "source": [
    "! sh btc-setup.sh"
   ]
  },
  {
   "cell_type": "markdown",
   "metadata": {},
   "source": [
    "The script will check that your operating system is supported, download the latest btc client to your machine and install it in /usr/local/bin. You will be prompted to enter the administrator password to install the software. \n",
    "*NOTE: After installation, make sure that “/usr/local/bin” is in your search path. *\n",
    "\n",
    "Next, run the following command to wipe all cloud files. You will need your user credentials to login to DaimensionsTM. The first time you login, your license key will be downloaded automatically. Please use the default password that was provided to you. "
   ]
  },
  {
   "cell_type": "code",
   "execution_count": null,
   "metadata": {},
   "outputs": [],
   "source": [
    "! btc WIPE"
   ]
  },
  {
   "cell_type": "markdown",
   "metadata": {},
   "source": [
    "To change your password, use the following bash command."
   ]
  },
  {
   "cell_type": "code",
   "execution_count": null,
   "metadata": {},
   "outputs": [],
   "source": [
    "! btc CHPASSWD"
   ]
  },
  {
   "cell_type": "markdown",
   "metadata": {},
   "source": [
    "## 1. Get Measurements\n",
    "\n",
    "Measuring our data before building a predictor is important in order to avoid mistakes and optimize our model. If we don't measure our data, we have no way of knowing whether the predictor we build will actually do what we want it to do when it sees new data that it wasn’t trained on. We'll probably build a model that is much larger than it needs to be, meaning our training and run times will probably be much longer than they need to be. We could end up in a situation where we just don’t know whether we have the right amount or right type of training data, even after extensive training and testing. Because of these reasons, it's best to measure our data beforehand. Not to mention, Daimensions will tell us about learnability, the generalization ratio, noise resilience, and all the standard accuracy and confusion figures. \n",
    "For more information, you can read the Daimensions How-to Guide and Glossary."
   ]
  },
  {
   "cell_type": "code",
   "execution_count": 1,
   "metadata": {},
   "outputs": [
    {
     "name": "stdout",
     "output_type": "stream",
     "text": [
      "PassengerId,Survived,Pclass,Name,Sex,Age,SibSp,Parch,Ticket,Fare,Cabin,Embarked\r",
      "\r\n",
      "1,0,3,\"Braund, Mr. Owen Harris\",male,22,1,0,A/5 21171,7.25,,S\r",
      "\r\n",
      "2,1,1,\"Cumings, Mrs. John Bradley (Florence Briggs Thayer)\",female,38,1,0,PC 17599,71.2833,C85,C\r",
      "\r\n",
      "3,1,3,\"Heikkinen, Miss. Laina\",female,26,0,0,STON/O2. 3101282,7.925,,S\r",
      "\r\n",
      "4,1,1,\"Futrelle, Mrs. Jacques Heath (Lily May Peel)\",female,35,1,0,113803,53.1,C123,S\r",
      "\r\n",
      "5,0,3,\"Allen, Mr. William Henry\",male,35,0,0,373450,8.05,,S\r",
      "\r\n",
      "6,0,3,\"Moran, Mr. James\",male,,0,0,330877,8.4583,,Q\r",
      "\r\n",
      "7,0,1,\"McCarthy, Mr. Timothy J\",male,54,0,0,17463,51.8625,E46,S\r",
      "\r\n",
      "8,0,3,\"Palsson, Master. Gosta Leonard\",male,2,3,1,349909,21.075,,S\r",
      "\r\n",
      "9,1,3,\"Johnson, Mrs. Oscar W (Elisabeth Vilhelmina Berg)\",female,27,0,2,347742,11.1333,,S\r",
      "\r\n"
     ]
    }
   ],
   "source": [
    "# Below is a clip of the training data:\n",
    "! head titanic_train.csv\n",
    "# For Windows command prompt:\n",
    "# type titanic_train.csv | more"
   ]
  },
  {
   "cell_type": "markdown",
   "metadata": {},
   "source": [
    "As you can see from above, the target column (Survived) isn't the last column on the right. Because of this, we need to use '-target' so that Daimensions is looking at the correct target column for measuring and building a predictor."
   ]
  },
  {
   "cell_type": "code",
   "execution_count": 2,
   "metadata": {},
   "outputs": [
    {
     "name": "stdout",
     "output_type": "stream",
     "text": [
      "Brainome Daimensions(tm) 0.97 Copyright (c) 2019, 2020 by Brainome, Inc. All Rights Reserved.\n",
      "Licensed to: Ariana Park\n",
      "Expiration date: 2020-11-30 (132 days left)\n",
      "Number of threads: 1\n",
      "Maximum file size: 4GB\n",
      "Connected to: https://beta.brainome.ai:8080\n",
      "\n",
      "Data:\n",
      "Number of instances: 891\n",
      "Number of attributes: 11\n",
      "Number of classes: 2\n",
      "Class balance: 61.5% 38.5%\n",
      "\n",
      "Learnability:\n",
      "Best guess accuracy: 61.50%\n",
      "Capacity progression (# of decision points): [8, 9, 10, 10, 11, 11]\n",
      "Decision Tree: 422 parameters\n",
      "Estimated Memory Equivalent Capacity for Neural Networks: 118 parameters\n",
      "\n",
      "Risk that model needs to overfit for 100% accuracy...\n",
      "using Decision Tree: 94.73%\n",
      "using Neural Networks: 100.00%\n",
      "\n",
      "Expected Generalization...\n",
      "using Decision Tree: 2.11 bits/bit\n",
      "using a Neural Network: 7.55 bits/bit\n",
      "\n",
      "Recommendations:\n",
      "Note: Maybe enough data to generalize. [yellow]\n",
      "Warning: Cannot find numpy. The output predictor may not run on this machine.\n",
      "\n",
      "Time estimate for a Neural Network:\n",
      "Estimated time to architect: 0d 0h 0m 1s\n",
      "Estimated time to prime (subject to change after model architecting): 0d 0h 3m 58s\n",
      "\n",
      "Time estimate for Decision Tree:\n",
      "Estimated time to prime a decision tree: a few seconds\n"
     ]
    }
   ],
   "source": [
    "# Measuring the training data:\n",
    "! btc -measureonly titanic_train.csv -target Survived "
   ]
  },
  {
   "cell_type": "markdown",
   "metadata": {},
   "source": [
    "## 2. Build the Predictor\n",
    "\n",
    "Because the learnability of the data (based on capacity progression and risk) is yellow, the how-to guide recommends to choose predictor with higher generalization and increase effort for best results. This means using a neural network with effort should work best. Here, I'm using '-f NN' to make the predictor a neural network. I'm also using '-o predict.py' to output the predictor as a python file. To increase the effort, I'm using '-e 10' for 10 times the effort. Again, we have to use '-target Survived' because the target column isn't the last one."
   ]
  },
  {
   "cell_type": "code",
   "execution_count": 1,
   "metadata": {},
   "outputs": [
    {
     "name": "stdout",
     "output_type": "stream",
     "text": [
      "Brainome Daimensions(tm) 0.97 Copyright (c) 2019, 2020 by Brainome, Inc. All Rights Reserved.\n",
      "Licensed to: Ariana Park\n",
      "Expiration date: 2020-11-30 (111 days left)\n",
      "Number of threads: 1\n",
      "Maximum file size: 4GB\n",
      "Connected to Brainome cloud.\n",
      "\n",
      "Running btc will overwrite existing titanic_predict.py. OK? [y/N] yes\n",
      "Input: titanic_train.csv\n",
      "Sampling...done.\n",
      "Preprocessing...done.\n",
      "Cleaning...done.\n",
      "Splitting into training and validation...done.\n",
      "Pre-training measurements...done.\n",
      "Data:\n",
      "Number of instances: 891\n",
      "Number of attributes: 11\n",
      "Number of classes: 2\n",
      "Class balance: 61.62% 38.38%\n",
      "\n",
      "Learnability:\n",
      "Best guess accuracy: 61.62%\n",
      "Capacity progression (# of decision points): [8, 9, 10, 10, 11, 11]\n",
      "Decision Tree: 421 parameters\n",
      "Estimated Memory Equivalent Capacity for Neural Networks: 118 parameters\n",
      "\n",
      "Risk that model needs to overfit for 100% accuracy...\n",
      "using Decision Tree: 94.73%\n",
      "using Neural Networks: 100.00%\n",
      "\n",
      "Expected Generalization...\n",
      "using Decision Tree: 2.11 bits/bit\n",
      "using a Neural Network: 7.55 bits/bit\n",
      "\n",
      "Recommendations:\n",
      "Note: Maybe enough data to generalize. [yellow]\n",
      "Warning: Cannot find numpy. The output predictor may not run on this machine.\n",
      "\n",
      "Time estimate for a Neural Network:\n",
      "Estimated time to architect: 0d 0h 0m 1s\n",
      "Estimated time to prime (subject to change after model architecting): 0d 0h 3m 18s\n",
      "Note: Machine learner type NN given by user.\n",
      "Architecting model...done.\n",
      "Model capacity (MEC):     27 bits\n",
      "Architecture efficiency:   1.0 bits/parameter\n",
      "\n",
      "Estimating time to prime model...done.\n",
      "Estimated time to prime model: 0d 0h 2m 23s\n",
      "\n",
      "Priming model...done.\n",
      "Model created:\n",
      "Sequential(\n",
      "  (0): Linear(in_features=11, out_features=2, bias=True)\n",
      "  (1): ReLU()\n",
      "  (2): Linear(in_features=2, out_features=1, bias=True)\n",
      ")\n",
      "\n",
      "Compiling predictor...done.\n",
      "Validating predictor...done.\n",
      "Classifier Type:                    Neural Network\n",
      "System Type:                        Binary classifier\n",
      "Best-guess accuracy:                61.61%\n",
      "Model accuracy:                     81.03% (722/891 correct)\n",
      "Improvement over best guess:        19.42% (of possible 38.39%)\n",
      "Model capacity (MEC):               27 bits\n",
      "Generalization ratio:               26.74 bits/bit\n",
      "Model efficiency:                   0.71%/parameter\n",
      "System behavior\n",
      "True Negatives:                     54.77% (488/891)\n",
      "True Positives:                     26.26% (234/891)\n",
      "False Negatives:                    12.12% (108/891)\n",
      "False Positives:                    6.85% (61/891)\n",
      "True Pos. Rate/Sensitivity/Recall:  0.68\n",
      "True Neg. Rate/Specificity:         0.89\n",
      "Precision:                          0.79\n",
      "F-1 Measure:                        0.73\n",
      "False Negative Rate/Miss Rate:      0.32\n",
      "Critical Success Index:             0.58\n",
      "Overfitting:                        No\n",
      "\n",
      "Output: titanic_predict.py \n",
      "READY.\n"
     ]
    }
   ],
   "source": [
    "# Building the predictor and outputting it to 'titanic_predict.py':\n",
    "! btc -v -v -f NN titanic_train.csv -o titanic_predict.py -target Survived --yes"
   ]
  },
  {
   "cell_type": "markdown",
   "metadata": {},
   "source": [
    "## 3. Validate and Make Predictions\n",
    "\n",
    "We've built our first predictor! Now it's time to put it to use. In the case of Titanic, we are given test data from Kaggle, where it's different from the training data and doesn't include 'Survival'. We can use the model we built to make predictions for the test data and submit it to Kaggle for its competition. In the following code, I'll save the model's prediction in 'titanic_prediction.csv'. You will see that the predictor appended the model's prediction of survival as the last column. "
   ]
  },
  {
   "cell_type": "code",
   "execution_count": 2,
   "metadata": {},
   "outputs": [
    {
     "name": "stdout",
     "output_type": "stream",
     "text": [
      "P,a,s,s,e,n,g,e,r,I,d,\",\",P,c,l,a,s,s,\",\",N,a,m,e,\",\",S,e,x,\",\",A,g,e,\",\",S,i,b,S,p,\",\",P,a,r,c,h,\",\",T,i,c,k,e,t,\",\",F,a,r,e,\",\",C,a,b,i,n,\",\",E,m,b,a,r,k,e,d,\",\",P,r,e,d,i,c,t,i,o,n\r\n",
      "892,3,\"Kelly, Mr. James\",male,34.5,0,0,330911,7.8292,,Q,0\r\n",
      "893,3,\"Wilkes, Mrs. James (Ellen Needs)\",female,47,1,0,363272,7,,S,0\r\n",
      "894,2,\"Myles, Mr. Thomas Francis\",male,62,0,0,240276,9.6875,,Q,0\r\n",
      "895,3,\"Wirz, Mr. Albert\",male,27,0,0,315154,8.6625,,S,0\r\n",
      "896,3,\"Hirvonen, Mrs. Alexander (Helga E Lindqvist)\",female,22,1,1,3101298,12.2875,,S,0\r\n",
      "897,3,\"Svensson, Mr. Johan Cervin\",male,14,0,0,7538,9.225,,S,0\r\n",
      "898,3,\"Connolly, Miss. Kate\",female,30,0,0,330972,7.6292,,Q,0\r\n",
      "899,2,\"Caldwell, Mr. Albert Francis\",male,26,1,1,248738,29,,S,0\r\n",
      "900,3,\"Abrahim, Mrs. Joseph (Sophie Halaut Easu)\",female,18,0,0,2657,7.2292,,C,1\r\n"
     ]
    }
   ],
   "source": [
    "# Using predictor on test data and saving it to 'titanic_prediction.csv':\n",
    "! python3 titanic_predict.py titanic_test.csv > titanic_prediction.csv\n",
    "! head titanic_prediction.csv"
   ]
  },
  {
   "cell_type": "markdown",
   "metadata": {},
   "source": [
    "If you have validation data, or data that has the target column but wasn't used for training, you can use it to validate the accuracy of your predictor, as we will do. For this particular instance, I found an annotated version of the Titanic test data, 'titanic_validation.csv', and used it to validate our model."
   ]
  },
  {
   "cell_type": "code",
   "execution_count": 9,
   "metadata": {},
   "outputs": [
    {
     "name": "stdout",
     "output_type": "stream",
     "text": [
      "Classifier Type:                    Neural Network\n",
      "System Type:                        Binary classifier\n",
      "Best-guess accuracy:                62.20%\n",
      "Model accuracy:                     74.64% (312/418 correct)\n",
      "Improvement over best guess:        12.44% (of possible 37.8%)\n",
      "Model capacity (MEC):               27 bits\n",
      "Generalization ratio:               11.55 bits/bit\n",
      "Model efficiency:                   0.46%/parameter\n",
      "System behavior\n",
      "True Negatives:                     54.31% (227/418)\n",
      "True Positives:                     20.33% (85/418)\n",
      "False Negatives:                    17.46% (73/418)\n",
      "False Positives:                    7.89% (33/418)\n",
      "True Pos. Rate/Sensitivity/Recall:  0.54\n",
      "True Neg. Rate/Specificity:         0.87\n",
      "Precision:                          0.72\n",
      "F-1 Measure:                        0.62\n",
      "False Negative Rate/Miss Rate:      0.46\n",
      "Critical Success Index:             0.45\n"
     ]
    }
   ],
   "source": [
    "# To validate:\n",
    "! python3 titanic_predict.py -validate titanic_validation.csv"
   ]
  },
  {
   "cell_type": "markdown",
   "metadata": {},
   "source": [
    "From validating the predictor, we can see that it has 74.64% accuracy, 12.44% better than best-guess accuracy (which classifies all data points as the majority class). "
   ]
  },
  {
   "cell_type": "markdown",
   "metadata": {},
   "source": [
    "## 4. Improving Our Model\n",
    "\n",
    "Our model did pretty well, but let's see if we can improve it. A column that contains a unique value in each row (for example a database key) will never contribute to generalization, so we shouldn't include database keys or other unique ID columns. We can remove these columns by using '-ignorecolumns'. We'll try ignoring columns: PassengerId, Name, Ticket, Cabin, Embarked, because they're all unique ID columns. We could also use '-rank' to rank columns by significance and only process contributing attributes.\n",
    "\n",
    "### Ignorecolumns vs Rank:\n",
    "There may be situations where domain knowledge suggests a better choice of features than -rank. If we know the data generative process, we can do better with -ignorecolumns than with -rank. Rank is also optimizing for quick clustering/decision tree. For neural networks, we may still wish to reduce input features, which can be done with pca, but at the cost of interpretability. Some applications may require the original features are used in which case pca isn't viable. Ignorecolumns can reduce features while maintaining interpretability and work better for neural networks than -rank may, but the burden of choosing the right columns to keep is now on us."
   ]
  },
  {
   "cell_type": "markdown",
   "metadata": {},
   "source": [
    "### Using -ignorecolumns:"
   ]
  },
  {
   "cell_type": "code",
   "execution_count": 5,
   "metadata": {},
   "outputs": [
    {
     "name": "stdout",
     "output_type": "stream",
     "text": [
      "Brainome Daimensions(tm) 0.97 Copyright (c) 2019, 2020 by Brainome, Inc. All Rights Reserved.\n",
      "Licensed to: Ariana Park\n",
      "Expiration date: 2020-11-30 (132 days left)\n",
      "Number of threads: 1\n",
      "Maximum file size: 4GB\n",
      "Connected to: https://beta.brainome.ai:8080\n",
      "\n",
      "Input: titanic_train.csv\n",
      "Sampling...done.\n",
      "Preprocessing...done.\n",
      "Cleaning...done.\n",
      "Splitting into training and validation...done.\n",
      "Pre-training measurements...done.\n",
      "Data:\n",
      "Number of instances: 891\n",
      "Number of attributes: 6\n",
      "Number of classes: 2\n",
      "Class balance: 61.62% 38.38%\n",
      "\n",
      "Learnability:\n",
      "Best guess accuracy: 61.62%\n",
      "Capacity progression (# of decision points): [7, 9, 10, 11, 11, 13]\n",
      "Decision Tree: 285 parameters\n",
      "Estimated Memory Equivalent Capacity for Neural Networks: 73 parameters\n",
      "\n",
      "Risk that model needs to overfit for 100% accuracy...\n",
      "using Decision Tree: 63.97%\n",
      "using Neural Networks: 100.00%\n",
      "\n",
      "Expected Generalization...\n",
      "using Decision Tree: 3.13 bits/bit\n",
      "using a Neural Network: 12.21 bits/bit\n",
      "\n",
      "Recommendations:\n",
      "Warning: Not enough data to generalize. [red]\n",
      "Warning: Cannot find numpy. The output predictor may not run on this machine.\n",
      "\n",
      "Time estimate for a Neural Network:\n",
      "Estimated time to architect: 0d 0h 0m 0s\n",
      "Estimated time to prime (subject to change after model architecting): 0d 0h 3m 12s\n",
      "Note: Machine learner type NN given by user.\n",
      "Architecting model...done.\n",
      "Model capacity (MEC):     17 bits\n",
      "Architecture efficiency:   1.0 bits/parameter\n",
      "\n",
      "Estimating time to prime model...done.\n",
      "Estimated time to prime model: 0d 0h 2m 19s\n",
      "\n",
      "Priming model...done.\n",
      "Estimating training time...done.\n",
      "Estimated training time: 0d 0h 15m 31s\n",
      "\n",
      "Training...done.\n",
      "Model created:\n",
      "Sequential(\n",
      "  (0): Linear(in_features=6, out_features=2, bias=True)\n",
      "  (1): ReLU()\n",
      "  (2): Linear(in_features=2, out_features=1, bias=True)\n",
      ")\n",
      "\n",
      "Compiling predictor...done.\n",
      "Validating predictor...done.\n",
      "Classifier Type:                    Neural Network\n",
      "System Type:                        Binary classifier\n",
      "Best-guess accuracy:                61.61%\n",
      "Model accuracy:                     81.48% (726/891 correct)\n",
      "Improvement over best guess:        19.87% (of possible 38.39%)\n",
      "Model capacity (MEC):               17 bits\n",
      "Generalization ratio:               42.70 bits/bit\n",
      "Model efficiency:                   1.16%/parameter\n",
      "System behavior\n",
      "True Negatives:                     58.02% (517/891)\n",
      "True Positives:                     23.46% (209/891)\n",
      "False Negatives:                    14.93% (133/891)\n",
      "False Positives:                    3.59% (32/891)\n",
      "True Pos. Rate/Sensitivity/Recall:  0.61\n",
      "True Neg. Rate/Specificity:         0.94\n",
      "Precision:                          0.87\n",
      "F-1 Measure:                        0.72\n",
      "False Negative Rate/Miss Rate:      0.39\n",
      "Critical Success Index:             0.56\n",
      "Overfitting:                        No\n",
      "\n",
      "Output: titanic_predict_igcol.py \n",
      "READY.\n"
     ]
    }
   ],
   "source": [
    "# Using -ignorecolumns to make a better predictor:\n",
    "! btc -v -v -f NN titanic_train.csv -o titanic_predict_igcol.py -target Survived -ignorecolumns PassengerId,Name,Ticket,Cabin,Embarked -e 10"
   ]
  },
  {
   "cell_type": "code",
   "execution_count": 7,
   "metadata": {},
   "outputs": [
    {
     "name": "stdout",
     "output_type": "stream",
     "text": [
      "P,c,l,a,s,s,\",\",S,e,x,\",\",A,g,e,\",\",S,i,b,S,p,\",\",P,a,r,c,h,\",\",F,a,r,e,\",\",P,r,e,d,i,c,t,i,o,n\r\n",
      "3,male,34.5,0,0,7.8292,0\r\n",
      "3,female,47,1,0,7,0\r\n",
      "2,male,62,0,0,9.6875,0\r\n",
      "3,male,27,0,0,8.6625,0\r\n",
      "3,female,22,1,1,12.2875,0\r\n",
      "3,male,14,0,0,9.225,0\r\n",
      "3,female,30,0,0,7.6292,0\r\n",
      "2,male,26,1,1,29,0\r\n",
      "3,female,18,0,0,7.2292,1\r\n"
     ]
    }
   ],
   "source": [
    "# Using the ignorecolumns predictor on test data and saving it to 'titanic_prediction_igcol.csv':\n",
    "! python3 titanic_predict_igcol.py titanic_test.csv > titanic_prediction_igcol.csv\n",
    "! head titanic_prediction_igcol.csv"
   ]
  },
  {
   "cell_type": "markdown",
   "metadata": {},
   "source": [
    "As we wanted, -ignorecolumns removed the PassengerId, Name, Ticket, Cabin, and Embarked attributes. Next, we can use -validate to check the accuracy of our new predictor."
   ]
  },
  {
   "cell_type": "code",
   "execution_count": 2,
   "metadata": {},
   "outputs": [
    {
     "name": "stdout",
     "output_type": "stream",
     "text": [
      "Classifier Type:                    Neural Network\n",
      "System Type:                        Binary classifier\n",
      "Best-guess accuracy:                62.20%\n",
      "Model accuracy:                     77.75% (325/418 correct)\n",
      "Improvement over best guess:        15.55% (of possible 37.8%)\n",
      "Model capacity (MEC):               17 bits\n",
      "Generalization ratio:               19.11 bits/bit\n",
      "Model efficiency:                   0.91%/parameter\n",
      "System behavior\n",
      "True Negatives:                     56.22% (235/418)\n",
      "True Positives:                     21.53% (90/418)\n",
      "False Negatives:                    16.27% (68/418)\n",
      "False Positives:                    5.98% (25/418)\n",
      "True Pos. Rate/Sensitivity/Recall:  0.57\n",
      "True Neg. Rate/Specificity:         0.90\n",
      "Precision:                          0.78\n",
      "F-1 Measure:                        0.66\n",
      "False Negative Rate/Miss Rate:      0.43\n",
      "Critical Success Index:             0.49\n"
     ]
    }
   ],
   "source": [
    "# Validating the -ignorecolumns predictor\n",
    "! python3 titanic_predict_igcol.py -validate titanic_validation.csv"
   ]
  },
  {
   "cell_type": "markdown",
   "metadata": {},
   "source": [
    "Using -ignorecolumns has improved our accuracy to 77.75% from 74.64% originally."
   ]
  },
  {
   "cell_type": "markdown",
   "metadata": {},
   "source": [
    "### Using -rank:"
   ]
  },
  {
   "cell_type": "code",
   "execution_count": 6,
   "metadata": {},
   "outputs": [
    {
     "name": "stdout",
     "output_type": "stream",
     "text": [
      "Brainome Daimensions(tm) 0.97 Copyright (c) 2019, 2020 by Brainome, Inc. All Rights Reserved.\n",
      "Licensed to: Ariana Park\n",
      "Expiration date: 2020-11-30 (132 days left)\n",
      "Number of threads: 1\n",
      "Maximum file size: 4GB\n",
      "Connected to: https://beta.brainome.ai:8080\n",
      "\n",
      "Input: titanic_train.csv\n",
      "Sampling...done.\n",
      "Preprocessing...done.\n",
      "Cleaning...done.\n",
      "Ranking attributes...done.\n",
      "Splitting into training and validation...done.\n",
      "Pre-training measurements...done.\n",
      "\n",
      "Attribute Ranking:\n",
      "Using only the important columns: Sex Fare Parch \n",
      "\n",
      "Data:\n",
      "Number of instances: 891\n",
      "Number of attributes: 3\n",
      "Number of classes: 2\n",
      "Class balance: 61.5% 38.5%\n",
      "\n",
      "Learnability:\n",
      "Best guess accuracy: 61.50%\n",
      "Capacity progression (# of decision points): [11, 11, 12, 12, 14, 14]\n",
      "Decision Tree: 226 parameters\n",
      "Estimated Memory Equivalent Capacity for Neural Networks: 41 parameters\n",
      "\n",
      "Risk that model needs to overfit for 100% accuracy...\n",
      "using Decision Tree: 50.73%\n",
      "using Neural Networks: 89.13%\n",
      "\n",
      "Expected Generalization...\n",
      "using Decision Tree: 3.94 bits/bit\n",
      "using a Neural Network: 21.73 bits/bit\n",
      "\n",
      "Recommendations:\n",
      "Note: Maybe enough data to generalize. [yellow]\n",
      "Warning: Cannot find numpy. The output predictor may not run on this machine.\n",
      "\n",
      "Time estimate for a Neural Network:\n",
      "Estimated time to architect: 0d 0h 0m 1s\n",
      "Estimated time to prime (subject to change after model architecting): 0d 0h 3m 13s\n",
      "Note: Machine learner type NN given by user.\n",
      "Architecting model...done.\n",
      "Model capacity (MEC):     21 bits\n",
      "Architecture efficiency:   1.0 bits/parameter\n",
      "\n",
      "Estimating time to prime model...done.\n",
      "Estimated time to prime model: 0d 0h 2m 21s\n",
      "\n",
      "Priming model...done.\n",
      "Estimating training time...done.\n",
      "Estimated training time: 0d 0h 15m 37s\n",
      "\n",
      "Training...done.\n",
      "Model created:\n",
      "Sequential(\n",
      "  (0): Linear(in_features=3, out_features=3, bias=True)\n",
      "  (1): ReLU()\n",
      "  (2): Linear(in_features=3, out_features=1, bias=True)\n",
      ")\n",
      "\n",
      "Compiling predictor...done.\n",
      "Validating predictor...done.\n",
      "Classifier Type:                    Neural Network\n",
      "System Type:                        Binary classifier\n",
      "Best-guess accuracy:                61.61%\n",
      "Model accuracy:                     79.34% (707/891 correct)\n",
      "Improvement over best guess:        17.73% (of possible 38.39%)\n",
      "Model capacity (MEC):               16 bits\n",
      "Generalization ratio:               44.18 bits/bit\n",
      "Model efficiency:                   1.10%/parameter\n",
      "System behavior\n",
      "True Negatives:                     53.09% (473/891)\n",
      "True Positives:                     26.26% (234/891)\n",
      "False Negatives:                    12.12% (108/891)\n",
      "False Positives:                    8.53% (76/891)\n",
      "True Pos. Rate/Sensitivity/Recall:  0.68\n",
      "True Neg. Rate/Specificity:         0.86\n",
      "Precision:                          0.75\n",
      "F-1 Measure:                        0.72\n",
      "False Negative Rate/Miss Rate:      0.32\n",
      "Critical Success Index:             0.56\n",
      "Overfitting:                        No\n",
      "\n",
      "Output: titanic_predict_rank.py \n",
      "READY.\n"
     ]
    }
   ],
   "source": [
    "# Using -rank to make a better predictor:\n",
    "! btc -v -v -f NN titanic_train.csv -o titanic_predict_rank.py -target Survived -rank --yes -e 10"
   ]
  },
  {
   "cell_type": "code",
   "execution_count": 8,
   "metadata": {},
   "outputs": [
    {
     "name": "stdout",
     "output_type": "stream",
     "text": [
      "S,e,x,\",\",P,a,r,c,h,\",\",F,a,r,e,\",\",P,r,e,d,i,c,t,i,o,n\r\n",
      "male,0,7.8292,0\r\n",
      "female,0,7,1\r\n",
      "male,0,9.6875,0\r\n",
      "male,0,8.6625,0\r\n",
      "female,1,12.2875,1\r\n",
      "male,0,9.225,0\r\n",
      "female,0,7.6292,1\r\n",
      "male,1,29,0\r\n",
      "female,0,7.2292,1\r\n"
     ]
    }
   ],
   "source": [
    "# Using the rank predictor on test data and saving it to 'titanic_prediction_rank.csv':\n",
    "! python3 titanic_predict_rank.py titanic_test.csv > titanic_prediction_rank.csv\n",
    "! head titanic_prediction_rank.csv"
   ]
  },
  {
   "cell_type": "markdown",
   "metadata": {},
   "source": [
    "You can see that -rank decided to only look at the columns 'Sex','Parch' (Parent/child), and 'Fare'. This makes a lot of sense that the determining factors for survival on the Titanic were sex, how many parents or children they had on board, and how much their fare was. Seeing what attributes -rank chooses gives us powerful insight into understanding our data and its correlations."
   ]
  },
  {
   "cell_type": "code",
   "execution_count": 3,
   "metadata": {},
   "outputs": [
    {
     "name": "stdout",
     "output_type": "stream",
     "text": [
      "Classifier Type:                    Neural Network\r\n",
      "System Type:                        Binary classifier\r\n",
      "Best-guess accuracy:                62.20%\r\n",
      "Model accuracy:                     76.79% (321/418 correct)\r\n",
      "Improvement over best guess:        14.59% (of possible 37.8%)\r\n",
      "Model capacity (MEC):               16 bits\r\n",
      "Generalization ratio:               20.06 bits/bit\r\n",
      "Model efficiency:                   0.91%/parameter\r\n",
      "System behavior\r\n",
      "True Negatives:                     51.44% (215/418)\r\n",
      "True Positives:                     25.36% (106/418)\r\n",
      "False Negatives:                    12.44% (52/418)\r\n",
      "False Positives:                    10.77% (45/418)\r\n",
      "True Pos. Rate/Sensitivity/Recall:  0.67\r\n",
      "True Neg. Rate/Specificity:         0.83\r\n",
      "Precision:                          0.70\r\n",
      "F-1 Measure:                        0.69\r\n",
      "False Negative Rate/Miss Rate:      0.33\r\n",
      "Critical Success Index:             0.52\r\n"
     ]
    }
   ],
   "source": [
    "# Validating the -rank predictor\n",
    "! python3 titanic_predict_rank.py -validate titanic_validation.csv"
   ]
  },
  {
   "cell_type": "markdown",
   "metadata": {},
   "source": [
    "With -rank, our accuracy is 76.79%, again, an improvement over our original 74.64%."
   ]
  },
  {
   "cell_type": "markdown",
   "metadata": {},
   "source": [
    "## 5. Next Steps\n",
    "\n",
    "Success! We've built our first predictor and used it to make predictions on the Titanic test data. From here, we can use our model on any new Titanic data or use other control options to try to improve our results even more.\n",
    "To check out some of the other control options, use '-h' to see the full list. You can also check out Brainome's How-to Guide and Glossary for more information."
   ]
  },
  {
   "cell_type": "code",
   "execution_count": 1,
   "metadata": {},
   "outputs": [
    {
     "name": "stdout",
     "output_type": "stream",
     "text": [
      "usage: btc [-h] [-o [OUTPUT]] [-headerless] [-cm CLASSMAPPING] [-nc NCLASSES]\r\n",
      "           [-l LANGUAGE] [-target TARGET] [-nsamples NSAMPLES]\r\n",
      "           [-ignorecolumns IGNORECOLUMNS] [-ignorelabels IGNORELABELS]\r\n",
      "           [-rank [ATTRIBUTERANK]] [-v] [--quiet] [-biasmeter] [-measureonly]\r\n",
      "           [-Wall] [-pedantic] [-nofun] [-f FORCEMODEL] [-O OPTIMIZE]\r\n",
      "           [-e EFFORT] [--yes] [-stopat STOPAT] [-modelonly] [-riskoverfit]\r\n",
      "           [-nopriming] [-novalidation]\r\n",
      "           input [input ...]\r\n",
      "\r\n",
      "Brainome Daimensions(tm) Table Compiler\r\n",
      "\r\n",
      "positional arguments:\r\n",
      "  input                 Table as CSV files and/or URLs.\r\n",
      "                        Alternatively, one of: {VERSION, TERMINATE, WIPE, CHPASSWD}\r\n",
      "                        VERSION: return version and exit.\r\n",
      "                        TERMINATE: terminate all cloud processes.\r\n",
      "                        WIPE: deletes all files in the cloud.\r\n",
      "                        CHPASSWD: Change password\r\n",
      "\r\n",
      "optional arguments:\r\n",
      "  -h, --help            show this help message and exit\r\n",
      "  -o [OUTPUT], --output [OUTPUT]\r\n",
      "                        Output predictor\r\n",
      "  -headerless           Headerless inputfile\r\n",
      "  -cm CLASSMAPPING, --classmapping CLASSMAPPING\r\n",
      "                        Manually map class labels to contiguous numeric range. Python dictionary format.\r\n",
      "  -nc NCLASSES, --nclasses NCLASSES\r\n",
      "                        Specify number of classes. Stop if not matched by input.\r\n",
      "  -l LANGUAGE, --language LANGUAGE\r\n",
      "                        Predictor language: py\r\n",
      "  -target TARGET        Specify target attribute (name or number)\r\n",
      "  -nsamples NSAMPLES    Work on n random samples (0 full dataset, default: 1000000). Balancing is not performed.\r\n",
      "  -ignorecolumns IGNORECOLUMNS\r\n",
      "                        Comma-separated list of attributes to ignore (names or numbers).\r\n",
      "  -ignorelabels IGNORELABELS\r\n",
      "                        Comma-separated list of rows of classes to ignore.\r\n",
      "  -rank [ATTRIBUTERANK], --attributerank [ATTRIBUTERANK]\r\n",
      "                        Rank columns by significance, only process contributing attributes. If optional parameter n is given, force the use top n attributes.\r\n",
      "  -v, --verbosity       Verbosity (debug level)\r\n",
      "  --quiet               Quiet operation\r\n",
      "  -biasmeter            Measure bias (only NN).\r\n",
      "  -measureonly          Only output measurements, no compilation.\r\n",
      "  -Wall                 Display all warnings\r\n",
      "  -pedantic             Display all notes and warnings.\r\n",
      "  -nofun                Stop compilation if there are warnings.\r\n",
      "  -f FORCEMODEL, --forcemodel FORCEMODEL\r\n",
      "                        Force model type: DT, NN, RF, GMM\r\n",
      "  -O OPTIMIZE, --optimize OPTIMIZE\r\n",
      "                        Optimize for: accuracy, TP, F1\r\n",
      "  -e EFFORT, --effort EFFORT\r\n",
      "                        1=<effort<100. More careful model creation. Default: 1\r\n",
      "  --yes                 No interaction. Default to yes for all questions.\r\n",
      "  -stopat STOPAT        Stop when percentage goal has been reached. Default: 100\r\n",
      "  -modelonly            Output model only in ONNX file format. No predictor.\r\n",
      "  -riskoverfit          Prioritize validation accuracy over generalization. Default: Prioritize generalization over accuracy.\r\n",
      "  -nopriming            Do not prime the model\r\n",
      "  -novalidation         Do not measure validation scores for created predictor.\r\n"
     ]
    }
   ],
   "source": [
    "! btc -h"
   ]
  }
 ],
 "metadata": {
  "kernelspec": {
   "display_name": "Python 3",
   "language": "python",
   "name": "python3"
  },
  "language_info": {
   "codemirror_mode": {
    "name": "ipython",
    "version": 3
   },
   "file_extension": ".py",
   "mimetype": "text/x-python",
   "name": "python",
   "nbconvert_exporter": "python",
   "pygments_lexer": "ipython3",
   "version": "3.7.3"
  }
 },
 "nbformat": 4,
 "nbformat_minor": 2
}
