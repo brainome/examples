{
 "cells": [
  {
   "cell_type": "markdown",
   "metadata": {},
   "source": [
    "# Artificially-Created Data Prediction Using Daimensions\n",
    "\n",
    "This dataset was artificially created with a specific rule in mind. The goal of this notebook is to show how Daimensions handles data created by a specified rule. Bertrand, the cofounder of Brainome, made this dataset, so the csv's are named after him."
   ]
  },
  {
   "cell_type": "code",
   "execution_count": 5,
   "metadata": {},
   "outputs": [
    {
     "output_type": "stream",
     "name": "stdout",
     "text": [
      "1,1,0,0,0,0,0,0,0,1,1\n1,1,1,0,0,1,0,1,0,1,0\n0,1,0,1,0,1,0,0,0,1,0\n0,0,1,1,0,1,0,1,0,1,1\n0,0,1,0,0,0,1,0,1,1,1\n0,0,1,1,1,1,0,0,1,1,0\n0,0,1,1,1,1,0,0,0,0,0\n0,0,1,0,0,1,1,0,1,1,1\n1,1,1,0,1,1,1,1,0,0,1\n0,0,0,0,1,0,1,0,0,1,1\n"
     ]
    }
   ],
   "source": [
    "%%bash\n",
    "head bertrandtrain.csv"
   ]
  },
  {
   "cell_type": "markdown",
   "metadata": {},
   "source": [
    "As you can see from above, this data doesn't have column names. Because of this, we have to use -headerless when measuring our data and building our model."
   ]
  },
  {
   "cell_type": "markdown",
   "metadata": {},
   "source": [
    "## 1. Get Measurements\n",
    "\n",
    "We always want to measure our data before building our predictor in order to ensure we are building the right model. For more information about how to use Daimensions and why we want to measure our data beforehand, check out the Titanic notebook."
   ]
  },
  {
   "cell_type": "code",
   "execution_count": 6,
   "metadata": {},
   "outputs": [
    {
     "output_type": "stream",
     "name": "stdout",
     "text": [
      "WARNING: Could not detect a GPU. Neural Network generation will be slow.\n",
      "\n",
      "\u001b[01;1mBrainome Table Compiler 0.991\u001b[0m\n",
      "Copyright (c) 2019-2021 Brainome, Inc. All Rights Reserved.\n",
      "Licensed to:                 Alexander Makhratchev  (Evaluation)\n",
      "Expiration Date:             2021-04-30   45 days left\n",
      "Maximum File Size:           30 GB\n",
      "Maximum Instances:           unlimited\n",
      "Maximum Attributes:          unlimited\n",
      "Maximum Classes:             unlimited\n",
      "Connected to:                daimensions.brainome.ai  (local execution)\n",
      "\n",
      "\u001b[01;1mCommand:\u001b[0m\n",
      "    btc -measureonly bertrandtrain.csv -headerless\n",
      "\n",
      "Start Time:                 03/16/2021, 22:01 UTC\n",
      "\n",
      "\n",
      "\n",
      "\n",
      "\n",
      "\u001b[01;1mPre-training Measurements\u001b[0m\n",
      "Data:\n",
      "    Input:                      bertrandtrain.csv (headerless csv)\n",
      "    Target Column:              target\n",
      "    Number of instances:      13187\n",
      "    Number of attributes:        10\n",
      "    Number of classes:            2\n",
      "\n",
      "Class Balance:                \n",
      "                               0: 37.35%\n",
      "                               1: 62.65%\n",
      "\n",
      "Learnability:\n",
      "    Best guess accuracy:          62.65%\n",
      "    Data Sufficiency:             Not enough data to generalize. [red]\n",
      "\n",
      "Capacity Progression:             at [ 5%, 10%, 20%, 40%, 80%, 100% ]\n",
      "    Ideal Machine Learner:              9,  10,  11,  12,  12,  13\n",
      "\n",
      "\n",
      "\n",
      "Expected Generalization:\n",
      "    Decision Tree:              7952.45 bits/bit\n",
      "    Neural Network:             6593.00 bits/bit\n",
      "    Random Forest:             13187.00 bits/bit\n",
      "\n",
      "Expected Accuracy               Training            Validation\n",
      "    Decision Tree:                63.26%                63.25%\n",
      "    Neural Network:              100.00%               100.00%\n",
      "    Random Forest:               100.00%               100.00%\n",
      "\n",
      "Recommendations:\n",
      " \n",
      "\n",
      "Time to Build Estimates:\n",
      "    Decision Tree:                less than a minute    Neural Network:                 3 minutes\n",
      "\n",
      "\n",
      "End Time:           03/16/2021, 22:01 UTC\n",
      "Runtime Duration:   30s\n"
     ]
    }
   ],
   "source": [
    "! btc -measureonly bertrandtrain.csv -headerless"
   ]
  },
  {
   "cell_type": "markdown",
   "metadata": {},
   "source": [
    "## 2. Build the Predictor\n",
    "\n",
    "Based on our measurements, Daimensions recommends we use a neural network, which has 83.99 bits/bit of expected generalization for this dataset. Don't forget to use -headerless."
   ]
  },
  {
   "cell_type": "code",
   "execution_count": 7,
   "metadata": {},
   "outputs": [
    {
     "output_type": "stream",
     "name": "stdout",
     "text": [
      "WARNING: Could not detect a GPU. Neural Network generation will be slow.\n",
      "\n",
      "\u001b[01;1mBrainome Table Compiler 0.991\u001b[0m\n",
      "Copyright (c) 2019-2021 Brainome, Inc. All Rights Reserved.\n",
      "Licensed to:                 Alexander Makhratchev  (Evaluation)\n",
      "Expiration Date:             2021-04-30   45 days left\n",
      "Maximum File Size:           30 GB\n",
      "Maximum Instances:           unlimited\n",
      "Maximum Attributes:          unlimited\n",
      "Maximum Classes:             unlimited\n",
      "Connected to:                daimensions.brainome.ai  (local execution)\n",
      "\n",
      "\u001b[01;1mCommand:\u001b[0m\n",
      "    btc -f NN bertrandtrain.csv -o bertrand_predict.py -headerless -e 10 --yes\n",
      "\n",
      "Start Time:                 03/16/2021, 22:01 UTC\n",
      "\n",
      "\n",
      "\n",
      "\n",
      "\n",
      "\u001b[01;1mPre-training Measurements\u001b[0m\n",
      "Data:\n",
      "    Input:                      bertrandtrain.csv (headerless csv)\n",
      "    Target Column:              target\n",
      "    Number of instances:      13187\n",
      "    Number of attributes:        10\n",
      "    Number of classes:            2\n",
      "\n",
      "Class Balance:                \n",
      "                               0: 37.35%\n",
      "                               1: 62.65%\n",
      "\n",
      "Learnability:\n",
      "    Best guess accuracy:          62.65%\n",
      "    Data Sufficiency:             Not enough data to generalize. [red]\n",
      "\n",
      "Capacity Progression:             at [ 5%, 10%, 20%, 40%, 80%, 100% ]\n",
      "    Ideal Machine Learner:              9,  10,  11,  12,  12,  13\n",
      "\n",
      "\n",
      "\n",
      "Expected Generalization:\n",
      "    Decision Tree:              7952.45 bits/bit\n",
      "    Neural Network:             6593.00 bits/bit\n",
      "    Random Forest:             13187.00 bits/bit\n",
      "\n",
      "Expected Accuracy               Training            Validation\n",
      "    Decision Tree:                63.26%                63.25%\n",
      "    Neural Network:              100.00%               100.00%\n",
      "    Random Forest:               100.00%               100.00%\n",
      "\n",
      "Recommendations:\n",
      "    Note: Model type NN given by user. \n",
      "\n",
      "Time to Build Estimates:\n",
      "    Neural Network:                 2 minutes\n",
      "\n",
      "\n",
      "\n",
      "\n",
      "\n",
      "\n",
      "\n",
      "\u001b[01;1mPredictor:\u001b[0m                        bertrand_predict.py\n",
      "    Classifier Type:              Neural Network\n",
      "    System Type:                  Binary classifier\n",
      "    Training / Validation Split:  50% : 50%\n",
      "    Accuracy:\n",
      "      Best-guess accuracy:        62.65%\n",
      "      Training accuracy:         100.00% (6593/6593 correct)\n",
      "      Validation Accuracy:       100.00% (6594/6594 correct)\n",
      "      Combined Model Accuracy:   100.00% (13187/13187 correct)\n",
      "\n",
      "    Model Capacity (MEC):         49    bits\n",
      "    Model Capacity Utilized:       1    bits \n",
      "    Generalization Ratio:        128.06 bits/bit\n",
      "    Generalization Index:         62.87\n",
      "    Percent of Data Memorized:     1.59%\n",
      "\n",
      "    Training Confusion Matrix:\n",
      "              Actual | Predicted\n",
      "                   0 |   2449      0 \n",
      "                   1 |      0   4144 \n",
      "\n",
      "    Validation Confusion Matrix:\n",
      "              Actual | Predicted\n",
      "                   0 |   2476      0 \n",
      "                   1 |      0   4118 \n",
      "\n",
      "    Combined Confusion Matrix:\n",
      "              Actual | Predicted\n",
      "                   0 |   4925      0 \n",
      "                   1 |      0   8262 \n",
      "\n",
      "    Training Accuracy by Class:\n",
      "               class |     TP     FP     TN     FN     TPR      TNR      PPV      NPV       F1       TS \n",
      "                   0 |   2449      0   4144      0  100.00%  100.00%  100.00%  100.00%  100.00%  100.00%\n",
      "                   1 |   4144      0   2449      0  100.00%  100.00%  100.00%  100.00%  100.00%  100.00%\n",
      "\n",
      "    Validation Accuracy by Class:\n",
      "               class |     TP     FP     TN     FN     TPR      TNR      PPV      NPV       F1       TS \n",
      "                   0 |   2476      0   4118      0  100.00%  100.00%  100.00%  100.00%  100.00%  100.00%\n",
      "                   1 |   4118      0   2476      0  100.00%  100.00%  100.00%  100.00%  100.00%  100.00%\n",
      "\n",
      "    Combined Accuracy by Class:\n",
      "               class |     TP     FP     TN     FN     TPR      TNR      PPV      NPV       F1       TS \n",
      "                   0 |   4925      0   8262      0  100.00%  100.00%  100.00%  100.00%  100.00%  100.00%\n",
      "                   1 |   8262      0   4925      0  100.00%  100.00%  100.00%  100.00%  100.00%  100.00%\n",
      "\n",
      "\n",
      "\n",
      "\n",
      "End Time:           03/16/2021, 22:03 UTC\n",
      "Runtime Duration:   1m 16s\n"
     ]
    }
   ],
   "source": [
    "! btc -f NN bertrandtrain.csv -o bertrand_predict.py -headerless -e 10 --yes"
   ]
  },
  {
   "cell_type": "markdown",
   "metadata": {},
   "source": [
    "## 3. Make a Prediction\n",
    "\n",
    "Hooray! Our model has 100% accuracy. Now we can use our model to make predictions on test data, a separate set of data that wasn't used for training."
   ]
  },
  {
   "cell_type": "code",
   "execution_count": 8,
   "metadata": {},
   "outputs": [
    {
     "output_type": "stream",
     "name": "stdout",
     "text": [
      "0,0,1,1,0,1,1,0,0,0,Prediction\n1,0,0,0,1,0,0,1,1,0,0\n0,0,1,1,1,0,0,1,0,0,0\n1,0,0,0,1,1,0,0,1,1,0\n1,1,0,1,1,0,1,1,1,1,1\n0,0,0,0,0,1,1,0,0,1,0\n0,0,0,0,1,1,1,0,1,1,1\n0,1,0,0,0,0,1,0,1,0,1\n0,1,1,1,1,1,0,0,1,0,0\n0,1,0,1,0,0,0,1,0,1,0\n"
     ]
    }
   ],
   "source": [
    "! python3 bertrand_predict.py bertrandtest.csv > bertrand_prediction.csv\n",
    "! head bertrand_prediction.csv"
   ]
  }
 ],
 "metadata": {
  "kernelspec": {
   "display_name": "Python 3",
   "language": "python",
   "name": "python3"
  },
  "language_info": {
   "codemirror_mode": {
    "name": "ipython",
    "version": 3
   },
   "file_extension": ".py",
   "mimetype": "text/x-python",
   "name": "python",
   "nbconvert_exporter": "python",
   "pygments_lexer": "ipython3",
   "version": "3.7.6-final"
  }
 },
 "nbformat": 4,
 "nbformat_minor": 2
}