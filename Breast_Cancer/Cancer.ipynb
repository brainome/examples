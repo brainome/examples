{
 "cells": [
  {
   "cell_type": "markdown",
   "metadata": {},
   "source": [
    "# Breast Cancer Data Prediction Using Daimensions\n",
    "\n",
    "In this notebook, we'll be working with a dataset from the University of California Irvine's Machine Learning Repository. It has nine attribute columns to describe various aspects of cells and one classification column that classifies each cell as benign or malignant cancer. More information about the data can be found at: https://archive.ics.uci.edu/ml/datasets/Breast+Cancer+Wisconsin+(Diagnostic).\n",
    "\n",
    "We have two goals: one is to build a model predicting whether a cell is benign or malignant on future cell data and the other is to use attribute rank to learn about which attributes of the cell are most important for predicting cancer in cells. Daimensions' attribute rank option is useful for a lot of biomedical data like cancer cells because most of the time we are not only looking to predict which cells are cancerous but also what caused the cancer. Attribute rank helps us learn about this aspect of the data by telling us which attributes most closely correlate with a cell's classification. This greatly contributes to our understanding of the data and helps guide us toward probable cause.\n",
    "\n",
    "Here is a look at our training data and the attributes we're using. For the target column, 2 is benign and 4 is malignant."
   ]
  },
  {
   "cell_type": "code",
   "execution_count": 1,
   "metadata": {},
   "outputs": [
    {
     "output_type": "stream",
     "name": "stdout",
     "text": [
      "Clump_Thickness,Uniformity_of_Cell_Size,Uniformity_of_Cell_Shape,Marginal_Adhesion,Single_Epithelial_Cell_Size,Bare_Nuclei,Bland_Chromatin,Normal_Nucleoli,Mitoses,Class\n5,1,1,1,2,1,3,1,1,2\n5,4,4,5,7,10,3,2,1,2\n3,1,1,1,2,2,3,1,1,2\n6,8,8,1,3,4,3,7,1,2\n4,1,1,3,2,1,3,1,1,2\n8,10,10,8,7,10,9,7,1,4\n1,1,1,1,2,10,3,1,1,2\n2,1,2,1,2,1,3,1,1,2\n2,1,1,1,2,1,1,1,5,2\n"
     ]
    }
   ],
   "source": [
    "! head cancer_train.csv\n",
    "# For Windows command prompt:\n",
    "# type cancer_train.csv | more"
   ]
  },
  {
   "cell_type": "markdown",
   "metadata": {},
   "source": [
    "## 1. Get Measurements\n",
    "\n",
    "We always want to measure our data before building our predictor in order to ensure we are building the right model. For more information about how to use Daimensions and why we want to measure our data beforehand, check out the Titanic notebook."
   ]
  },
  {
   "cell_type": "code",
   "execution_count": 2,
   "metadata": {},
   "outputs": [
    {
     "output_type": "stream",
     "name": "stdout",
     "text": [
      "WARNING: Could not detect a GPU. Neural Network generation will be slow.\n",
      "\n",
      "Brainome Daimensions(tm) 0.99 Copyright (c) 2019 - 2021 by Brainome, Inc. All Rights Reserved.\n",
      "Licensed to:              Alexander Makhratchev  (Evaluation)\n",
      "Expiration Date:          2021-04-30   57 days left\n",
      "Number of Threads:        1\n",
      "Maximum File Size:        30 GB\n",
      "Maximum Instances:        unlimited\n",
      "Maximum Attributes:       unlimited\n",
      "Maximum Classes:          unlimited\n",
      "Connected to:             daimensions.brainome.ai  (local execution)\n",
      "\n",
      "\n",
      "\n",
      "Command:\n",
      "    btc -measureonly cancer_train.csv\n",
      "\n",
      "Start Time:                 03/04/2021, 04:17\n",
      "\n",
      "\n",
      "Data:\n",
      "    Input:                      cancer_train.csv\n",
      "    Target Column:              Class\n",
      "    Number of instances:        559\n",
      "    Number of attributes:       9\n",
      "    Number of classes:          2\n",
      "    Class Balance:              0: 63.15%, 1: 36.85%\n",
      "\n",
      "Learnability:\n",
      "    Best guess accuracy:          63.15%\n",
      "    Data Sufficiency:            Maybe enough data to generalize. [yellow]\n",
      "\n",
      "Capacity Progression:            at [ 5%, 10%, 20%, 40%, 80%, 100% ]\n",
      "    Optimal Machine Learner:           3,   4,   4,   4,   5,   5\n",
      "\n",
      "\n",
      "Estimated Memory Equivalent Capacity for...\n",
      "    Decision Tree:                    12 parameters\n",
      "    Neural Networks:                   6 parameters\n",
      "    Random Forest:                    13 parameters\n",
      "\n",
      "Risk that model needs to overfit for 100% accuracy using...\n",
      "    Decision Tree:                 4.70%\n",
      "    Neural Networks:              11.13%\n",
      "    Random Forest:                11.50%\n",
      "\n",
      "Expected Generalization using...\n",
      "    Decision Tree:                 43.36 bits/bit\n",
      "    Neural Network:                45.17 bits/bit\n",
      "    Random Forest:                 43.00 bits/bit\n",
      "\n",
      "\n",
      "Recommendations:\n",
      "\n",
      "\n",
      "\n",
      "\n",
      "\n",
      "Time to Build Estimates:\n",
      "    Decision Tree:             a few seconds\n",
      "    Neural Network:              2 minutes\n",
      "\n",
      "Messages:\n",
      "Warning: Remapped class labels to be contiguous. Use -cm if DET/ROC-based accuracy measurements are wrong.\n",
      "\n"
     ]
    }
   ],
   "source": [
    "! btc -measureonly cancer_train.csv"
   ]
  },
  {
   "cell_type": "markdown",
   "metadata": {},
   "source": [
    "## 2. Build the Predictor\n",
    "\n",
    "Based on our measurements, Daimensions recommends we use a decision tree, which has lower risk of overfit and higher generalization for this dataset. We are also using -rank to prioritize certain attributes from our data, and we'll look at which attributes Daimensions decides are important later."
   ]
  },
  {
   "cell_type": "code",
   "execution_count": 2,
   "metadata": {
    "codehighlighter": [
     [
      0,
      1
     ],
     [
      0,
      1
     ]
    ]
   },
   "outputs": [
    {
     "output_type": "stream",
     "name": "stdout",
     "text": [
      "WARNING: Could not detect a GPU. Neural Network generation will be slow.\n",
      "\n",
      "Brainome Daimensions(tm) 0.99 Copyright (c) 2019 - 2021 by Brainome, Inc. All Rights Reserved.\n",
      "Licensed to:              Alexander Makhratchev  (Evaluation)\n",
      "Expiration Date:          2021-04-30   56 days left\n",
      "Number of Threads:        1\n",
      "Maximum File Size:        30 GB\n",
      "Maximum Instances:        unlimited\n",
      "Maximum Attributes:       unlimited\n",
      "Maximum Classes:          unlimited\n",
      "Connected to:             daimensions.brainome.ai  (local execution)\n",
      "\n",
      "\n",
      "\n",
      "Command:\n",
      "    btc -v -v -f DT cancer_train.csv -o cancer_predict.py -e 10 -rank --yes\n",
      "\n",
      "Start Time:                 03/05/2021, 17:39\n",
      "\n",
      "\n",
      "\n",
      "\n",
      "Attribute Ranking:\n",
      "    Important columns:          Uniformity_of_Cell_Shape, Bare_Nuclei, Clump_Thickness, Normal_Nucleoli, Uniformity_of_Cell_Size\n",
      "    Overfit risk:                   0.0%\n",
      "    Ignoring columns:           Marginal_Adhesion, Single_Epithelial_Cell_Size, Bland_Chromatin, Mitoses\n",
      "    Test Accuracy Progression:     Uniformity_of_Cell_Shape :   91.59%\n",
      "                                   Bare_Nuclei :   95.17%  change   +3.58%\n",
      "                                   Clump_Thickness :   96.24%  change   +1.07%\n",
      "                                   Normal_Nucleoli :   97.14%  change   +0.89%\n",
      "                                   Uniformity_of_Cell_Size :   97.32%  change   +0.18%\n",
      "                                   \n",
      "\n",
      "\n",
      "\n",
      "\n",
      "\n",
      "Data:\n",
      "    Input:                      cancer_train.csv\n",
      "    Target Column:              Class\n",
      "    Number of instances:        559\n",
      "    Number of attributes:       5\n",
      "    Number of classes:          2\n",
      "    Class Balance:              0: 63.15%, 1: 36.85%\n",
      "\n",
      "Learnability:\n",
      "    Best guess accuracy:          63.15%\n",
      "    Data Sufficiency:            Not enough data to generalize. [red]\n",
      "\n",
      "Capacity Progression:            at [ 5%, 10%, 20%, 40%, 80%, 100% ]\n",
      "    Optimal Machine Learner:           2,   3,   4,   4,   4,   5\n",
      "\n",
      "\n",
      "Estimated Memory Equivalent Capacity for...\n",
      "    Decision Tree:                     5 parameters\n",
      "    Neural Networks:                   6 parameters\n",
      "    Random Forest:                    15 parameters\n",
      "\n",
      "Risk that model needs to overfit for 100% accuracy using...\n",
      "    Decision Tree:                 1.97%\n",
      "    Neural Networks:             100.00%\n",
      "    Random Forest:                13.04%\n",
      "\n",
      "Expected Generalization using...\n",
      "    Decision Tree:                103.31 bits/bit\n",
      "    Neural Network:                44.67 bits/bit\n",
      "    Random Forest:                 37.27 bits/bit\n",
      "\n",
      "\n",
      "Recommendations:\n",
      "\n",
      "\n",
      "    Note: Machine learner type DT given by user.\n",
      "\n",
      "\n",
      "Time to Build Estimates:\n",
      "    Decision Tree:             a few seconds\n",
      "\n",
      "\n",
      "\n",
      "\n",
      "\n",
      "\n",
      "System Meter:                          cancer_predict.py\n",
      "    Classifier Type:                   Decision Tree\n",
      "    System Type:                       Binary classifier\n",
      "    Training/Validation Split:           60% : 40%\n",
      "    Accuracy:\n",
      "        Best-guess accuracy:               63.14%\n",
      "        Training accuracy:                 97.01% (325/335 correct)\n",
      "        Validation Accuracy:               97.76% (219/224 correct)\n",
      "        Overall Model Accuracy:            97.31% (544/559 correct)\n",
      "        Improvement over best guess:       34.17% of possible  36.86%\n",
      "\n",
      "    Model Capacity (MEC):                       5 bits\n",
      "    Generalization Ratio:                   62.09 bits/bit\n",
      "    Model Efficiency:                        6.83 /parameter\n",
      "    Generalization Index:                   30.44\n",
      "    Percent of Data Memorized:               3.29%\n",
      "\n",
      "    Training Confusion Matrix (count):\n",
      "                   2 |  202    7 \n",
      "                   4 |    3  123 \n",
      "\n",
      "    Validation Confusion Matrix (count):\n",
      "                   2 |  139    5 \n",
      "                   4 |    0   80 \n",
      "\n",
      "    Full Confusion Matrix (count):\n",
      "                   2 |  341   12 \n",
      "                   4 |    3  203 \n",
      "\n",
      "    Accuracy by Class:\n",
      "               class |   TP   FP   TN   FN     TPR      TNR      PPV      NPV       F1       TS \n",
      "                   2 |  341   12  203    3   99.13%   98.54%   96.60%   98.54%   97.85%   95.79%\n",
      "                   4 |  203    3  341   12   94.42%   96.60%   98.54%   96.60%   96.44%   93.12%\n",
      "\n",
      "End Time:                     \n",
      "Runtime Duration:             \n",
      "\n",
      "Output: cancer_predict.py \n",
      "READY.\n",
      "Messages:\n",
      "Note: Class labels required remapping onto contiguous integers. Mapped as follows: {'2': 0, '4': 1}\n",
      "Warning: Remapped class labels to be contiguous. Use -cm if DET/ROC-based accuracy measurements are wrong.\n",
      "\n"
     ]
    }
   ],
   "source": [
    "! btc -v -v -f DT cancer_train.csv -o cancer_predict.py -e 10 -rank --yes"
   ]
  },
  {
   "cell_type": "markdown",
   "metadata": {},
   "source": [
    "## 3. Validate the Model\n",
    "\n",
    "Now we can validate our model on a separate set of data that wasn't used for training."
   ]
  },
  {
   "cell_type": "code",
   "execution_count": 4,
   "metadata": {},
   "outputs": [
    {
     "output_type": "stream",
     "name": "stdout",
     "text": [
      "Classifier Type:                    Decision Tree\n",
      "System Type:                        Binary classifier\n",
      "Best-guess accuracy:                75.00%\n",
      "Model accuracy:                     99.28% (139/140 correct)\n",
      "Improvement over best guess:        24.28% (of possible 25.0%)\n",
      "Model capacity (MEC):               5 bits\n",
      "Generalization ratio:               22.55 bits/bit\n",
      "Model efficiency:                   4.85%/parameter\n",
      "System behavior\n",
      "True Negatives:                     74.29% (104/140)\n",
      "True Positives:                     25.00% (35/140)\n",
      "False Negatives:                    0.00% (0/140)\n",
      "False Positives:                    0.71% (1/140)\n",
      "True Pos. Rate/Sensitivity/Recall:  1.00\n",
      "True Neg. Rate/Specificity:         0.99\n",
      "Precision:                          0.97\n",
      "F-1 Measure:                        0.99\n",
      "False Negative Rate/Miss Rate:      0.00\n",
      "Critical Success Index:             0.97\n",
      "Confusion Matrix:\n",
      " [74.29% 0.71%]\n",
      " [0.00% 25.00%]\n"
     ]
    }
   ],
   "source": [
    "! python3 cancer_predict.py -validate cancer_valid.csv"
   ]
  },
  {
   "cell_type": "markdown",
   "metadata": {},
   "source": [
    "## 4. Learn From Attribute Rank\n",
    "\n",
    "From validating the data, we can see that the predictor has 99.28% accuracy. This is great for making predictions on future data. However, what might be of greater interest is looking at the output from building our predictor, specifically the attributes that Daimensions decided to use. Under the section of output called \"Attribute Rank,\" Daimensions has listed the attributes used: Uniformity_of_Cell_Size, Bare_Nuclei, Clump_Thickness, Marginal_Adhesion, Mitoses, and Uniformity_of_Cell_Shape. This information about what attributes were the best predictors of malignant cancer cells is valuable to scientists looking for the causes of this cancer."
   ]
  },
  {
   "cell_type": "markdown",
   "metadata": {},
   "source": [
    "## Citation\n",
    "This breast cancer databases was obtained from the University of Wisconsin Hospitals, Madison from Dr. William H. Wolberg.\n",
    "\n",
    "Sources:\n",
    "- Dr. WIlliam H. Wolberg (physician), University of Wisconsin Hospitals, Madison, Wisconsin, USA\n",
    "- Donor: Olvi Mangasarian (mangasarian@cs.wisc.edu), received by David W. Aha (aha@cs.jhu.edu)\n",
    "- Date: 15 July 1992"
   ]
  }
 ],
 "metadata": {
  "kernelspec": {
   "display_name": "Python 3",
   "language": "python",
   "name": "python3"
  },
  "language_info": {
   "codemirror_mode": {
    "name": "ipython",
    "version": 3
   },
   "file_extension": ".py",
   "mimetype": "text/x-python",
   "name": "python",
   "nbconvert_exporter": "python",
   "pygments_lexer": "ipython3",
   "version": "3.7.6-final"
  }
 },
 "nbformat": 4,
 "nbformat_minor": 2
}