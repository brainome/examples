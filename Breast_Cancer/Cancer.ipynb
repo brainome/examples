{
 "cells": [
  {
   "cell_type": "markdown",
   "metadata": {},
   "source": [
    "# Breast Cancer Data Prediction Using Daimensions\n",
    "\n",
    "In this notebook, we'll be working with a dataset from the University of California Irvine's Machine Learning Repository. It has nine attribute columns to describe various aspects of cells and one classification column that classifies each cell as benign or malignant cancer. More information about the data can be found at: https://archive.ics.uci.edu/ml/datasets/Breast+Cancer+Wisconsin+(Diagnostic).\n",
    "\n",
    "We have two goals: one is to build a model predicting whether a cell is benign or malignant on future cell data and the other is to use attribute rank to learn about which attributes of the cell are most important for predicting cancer in cells. Daimensions' attribute rank option is useful for a lot of biomedical data like cancer cells because most of the time we are not only looking to predict which cells are cancerous but also what caused the cancer. Attribute rank helps us learn about this aspect of the data by telling us which attributes most closely correlate with a cell's classification. This greatly contributes to our understanding of the data and helps guide us toward probable cause.\n",
    "\n",
    "Here is a look at our training data and the attributes we're using. For the target column, 2 is benign and 4 is malignant."
   ]
  },
  {
   "cell_type": "code",
   "execution_count": 7,
   "metadata": {},
   "outputs": [
    {
     "name": "stdout",
     "output_type": "stream",
     "text": [
      "Clump_Thickness,Uniformity_of_Cell_Size,Uniformity_of_Cell_Shape,Marginal_Adhesion,Single_Epithelial_Cell_Size,Bare_Nuclei,Bland_Chromatin,Normal_Nucleoli,Mitoses,Class\r\n",
      "5,1,1,1,2,1,3,1,1,2\r\n",
      "5,4,4,5,7,10,3,2,1,2\r\n",
      "3,1,1,1,2,2,3,1,1,2\r\n",
      "6,8,8,1,3,4,3,7,1,2\r\n",
      "4,1,1,3,2,1,3,1,1,2\r\n",
      "8,10,10,8,7,10,9,7,1,4\r\n",
      "1,1,1,1,2,10,3,1,1,2\r\n",
      "2,1,2,1,2,1,3,1,1,2\r\n",
      "2,1,1,1,2,1,1,1,5,2\r\n"
     ]
    }
   ],
   "source": [
    "! head cancer_train.csv\n",
    "# For Windows command prompt:\n",
    "# type cancer_train.csv | more"
   ]
  },
  {
   "cell_type": "markdown",
   "metadata": {},
   "source": [
    "## 1. Get Measurements\n",
    "\n",
    "We always want to measure our data before building our predictor in order to ensure we are building the right model. For more information about how to use Daimensions and why we want to measure our data beforehand, check out the Titanic notebook."
   ]
  },
  {
   "cell_type": "code",
   "execution_count": 3,
   "metadata": {},
   "outputs": [
    {
     "name": "stdout",
     "output_type": "stream",
     "text": [
      "Brainome Daimensions(tm) 0.97 Copyright (c) 2019, 2020 by Brainome, Inc. All Rights Reserved.\n",
      "Licensed to: Ariana Park\n",
      "Expiration date: 2020-11-30 (119 days left)\n",
      "Number of threads: 1\n",
      "Maximum file size: 4GB\n",
      "Connected to: https://beta.brainome.ai:8080\n",
      "\n",
      "Data:\n",
      "Number of instances: 559\n",
      "Number of attributes: 9\n",
      "Number of classes: 2\n",
      "Class balance: 63.15% 36.85%\n",
      "\n",
      "Learnability:\n",
      "Best guess accuracy: 63.15%\n",
      "Capacity progression (# of decision points): [3, 4, 5, 5, 7, 7]\n",
      "Decision Tree: 26 parameters\n",
      "Estimated Memory Equivalent Capacity for Neural Networks: 56 parameters\n",
      "\n",
      "Risk that model needs to overfit for 100% accuracy...\n",
      "using Decision Tree: 9.66%\n",
      "using Neural Networks: 56.00%\n",
      "\n",
      "Expected Generalization...\n",
      "using Decision Tree: 20.70 bits/bit\n",
      "using a Neural Network: 9.98 bits/bit\n",
      "\n",
      "Recommendations:\n",
      "Note: Maybe enough data to generalize. [yellow]\n",
      "Note: Decision Tree clustering may outperform Neural Networks. Try with -f DT.\n",
      "Warning: Cannot find numpy. The output predictor may not run on this machine.\n",
      "Warning: Remapped class labels to be contiguous. Use -cm if DET/ROC-based accuracy measurements are wrong.\n",
      "\n",
      "Time estimate for a Neural Network:\n",
      "Estimated time to architect: 0d 0h 0m 0s\n",
      "Estimated time to prime (subject to change after model architecting): 0d 0h 3m 11s\n",
      "\n",
      "Time estimate for Decision Tree:\n",
      "Estimated time to prime a decision tree: a few seconds\n"
     ]
    }
   ],
   "source": [
    "! btc -measureonly cancer_train.csv"
   ]
  },
  {
   "cell_type": "markdown",
   "metadata": {},
   "source": [
    "## 2. Build the Predictor\n",
    "\n",
    "Based on our measurements, Daimensions recommends we use a decision tree, which has lower risk of overfit and higher generalization for this dataset. We are also using -rank to prioritize certain attributes from our data, and we'll look at which attributes Daimensions decides are important later."
   ]
  },
  {
   "cell_type": "code",
   "execution_count": 8,
   "metadata": {
    "codehighlighter": [
     [
      0,
      1
     ],
     [
      0,
      1
     ]
    ]
   },
   "outputs": [
    {
     "name": "stdout",
     "output_type": "stream",
     "text": [
      "Brainome Daimensions(tm) 0.97 Copyright (c) 2019, 2020 by Brainome, Inc. All Rights Reserved.\n",
      "Licensed to: Ariana Park\n",
      "Expiration date: 2020-11-30 (119 days left)\n",
      "Number of threads: 1\n",
      "Maximum file size: 4GB\n",
      "Connected to: https://beta.brainome.ai:8080\n",
      "\n",
      "Running btc will overwrite existing cancer_predict.py. OK? [y/N] yes\n",
      "Input: cancer_train.csv\n",
      "Sampling...done.\n",
      "Cleaning...done.\n",
      "Note: Class labels required remapping onto contiguous integers. Mapped as follows: {'2': 0, '4': 1}\n",
      "Ranking attributes...done.\n",
      "Splitting into training and validation...done.\n",
      "Pre-training measurements...done.\n",
      "\n",
      "Attribute Ranking:\n",
      "Using only the important columns: Uniformity_of_Cell_Size Bare_Nuclei Clump_Thickness Marginal_Adhesion Mitoses Uniformity_of_Cell_Shape \n",
      "\n",
      "Data:\n",
      "Number of instances: 559\n",
      "Number of attributes: 6\n",
      "Number of classes: 2\n",
      "Class balance: 63.15% 36.85%\n",
      "\n",
      "Learnability:\n",
      "Best guess accuracy: 63.15%\n",
      "Capacity progression (# of decision points): [3, 5, 6, 6, 7, 7]\n",
      "Decision Tree: 28 parameters\n",
      "Estimated Memory Equivalent Capacity for Neural Networks: 41 parameters\n",
      "\n",
      "Risk that model needs to overfit for 100% accuracy...\n",
      "using Decision Tree: 10.38%\n",
      "using Neural Networks: 56.16%\n",
      "\n",
      "Expected Generalization...\n",
      "using Decision Tree: 19.28 bits/bit\n",
      "using a Neural Network: 13.63 bits/bit\n",
      "\n",
      "Recommendations:\n",
      "Note: Maybe enough data to generalize. [yellow]\n",
      "Note: Decision Tree clustering may outperform Neural Networks. Try with -f DT.\n",
      "Warning: Cannot find numpy. The output predictor may not run on this machine.\n",
      "Warning: Remapped class labels to be contiguous. Use -cm if DET/ROC-based accuracy measurements are wrong.\n",
      "\n",
      "Time estimate for Decision Tree:\n",
      "Estimated time to prime a decision tree: a few seconds\n",
      "Note: Machine learner type DT given by user.\n",
      "Building classifier...done.\n",
      "Estimated time to train a decision tree: less than a minute\n",
      "Training...done.\n",
      "Compiling predictor...done.\n",
      "Validating predictor...done.\n",
      "Classifier Type:                    Decision Tree\n",
      "System Type:                        Binary classifier\n",
      "Best-guess accuracy:                63.14%\n",
      "Model accuracy:                     96.77% (541/559 correct)\n",
      "Improvement over best guess:        33.63% (of possible 36.86%)\n",
      "Model capacity (MEC):               18 bits\n",
      "Generalization ratio:               30.05 bits/bit\n",
      "Model efficiency:                   1.86%/parameter\n",
      "System behavior\n",
      "True Negatives:                     60.11% (336/559)\n",
      "True Positives:                     36.67% (205/559)\n",
      "False Negatives:                    0.18% (1/559)\n",
      "False Positives:                    3.04% (17/559)\n",
      "True Pos. Rate/Sensitivity/Recall:  1.00\n",
      "True Neg. Rate/Specificity:         0.95\n",
      "Precision:                          0.92\n",
      "F-1 Measure:                        0.96\n",
      "False Negative Rate/Miss Rate:      0.00\n",
      "Critical Success Index:             0.92\n",
      "Overfitting:                        No\n",
      "\n",
      "Output: cancer_predict.py \n",
      "READY.\n"
     ]
    }
   ],
   "source": [
    "! btc -v -v -f DT cancer_train.csv -o cancer_predict.py -e 10 -rank"
   ]
  },
  {
   "cell_type": "markdown",
   "metadata": {},
   "source": [
    "## 3. Validate the Model\n",
    "\n",
    "Now we can validate our model on a separate set of data that wasn't used for training."
   ]
  },
  {
   "cell_type": "code",
   "execution_count": 9,
   "metadata": {},
   "outputs": [
    {
     "name": "stdout",
     "output_type": "stream",
     "text": [
      "Classifier Type:                    Decision Tree\r\n",
      "System Type:                        Binary classifier\r\n",
      "Best-guess accuracy:                75.00%\r\n",
      "Model accuracy:                     98.57% (138/140 correct)\r\n",
      "Improvement over best guess:        23.57% (of possible 25.0%)\r\n",
      "Model capacity (MEC):               18 bits\r\n",
      "Generalization ratio:               7.66 bits/bit\r\n",
      "Model efficiency:                   1.30%/parameter\r\n",
      "System behavior\r\n",
      "True Negatives:                     73.57% (103/140)\r\n",
      "True Positives:                     25.00% (35/140)\r\n",
      "False Negatives:                    0.00% (0/140)\r\n",
      "False Positives:                    1.43% (2/140)\r\n",
      "True Pos. Rate/Sensitivity/Recall:  1.00\r\n",
      "True Neg. Rate/Specificity:         0.98\r\n",
      "Precision:                          0.95\r\n",
      "F-1 Measure:                        0.97\r\n",
      "False Negative Rate/Miss Rate:      0.00\r\n",
      "Critical Success Index:             0.95\r\n"
     ]
    }
   ],
   "source": [
    "! python3 cancer_predict.py -validate cancer_valid.csv"
   ]
  },
  {
   "cell_type": "markdown",
   "metadata": {},
   "source": [
    "## 4. Learn From Attribute Rank\n",
    "\n",
    "From validating the data, we can see that the predictor has 98.57% accuracy. This is great for making predictions on future data. However, what might be of greater interest is looking at the output from building our predictor, specifically the attributes that Daimensions decided to use. Under the section of output called \"Attribute Rank,\" Daimensions has listed the attributes used: Uniformity_of_Cell_Size, Bare_Nuclei, Clump_Thickness, Marginal_Adhesion, Mitoses, and Uniformity_of_Cell_Shape. This information about what attributes were the best predictors of malignant cancer cells is valuable to scientists looking for the causes of this cancer."
   ]
  },
  {
   "cell_type": "markdown",
   "metadata": {},
   "source": [
    "## Citation\n",
    "This breast cancer databases was obtained from the University of Wisconsin Hospitals, Madison from Dr. William H. Wolberg.\n",
    "\n",
    "Sources:\n",
    "- Dr. WIlliam H. Wolberg (physician), University of Wisconsin Hospitals, Madison, Wisconsin, USA\n",
    "- Donor: Olvi Mangasarian (mangasarian@cs.wisc.edu), received by David W. Aha (aha@cs.jhu.edu)\n",
    "- Date: 15 July 1992"
   ]
  }
 ],
 "metadata": {
  "kernelspec": {
   "display_name": "Python 3",
   "language": "python",
   "name": "python3"
  },
  "language_info": {
   "codemirror_mode": {
    "name": "ipython",
    "version": 3
   },
   "file_extension": ".py",
   "mimetype": "text/x-python",
   "name": "python",
   "nbconvert_exporter": "python",
   "pygments_lexer": "ipython3",
   "version": "3.7.3"
  }
 },
 "nbformat": 4,
 "nbformat_minor": 2
}
