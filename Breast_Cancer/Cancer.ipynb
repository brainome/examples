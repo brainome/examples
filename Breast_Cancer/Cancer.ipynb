{
 "cells": [
  {
   "cell_type": "markdown",
   "metadata": {},
   "source": [
    "# Breast Cancer Data Prediction Using Daimensions\n",
    "\n",
    "In this notebook, we'll be working with a dataset from the University of California Irvine's Machine Learning Repository. It has nine attribute columns to describe various aspects of cells and one classification column that classifies each cell as benign or malignant cancer. More information about the data can be found at: https://archive.ics.uci.edu/ml/datasets/Breast+Cancer+Wisconsin+(Diagnostic).\n",
    "\n",
    "We have two goals: one is to build a model predicting whether a cell is benign or malignant on future cell data and the other is to use attribute rank to learn about which attributes of the cell are most important for predicting cancer in cells. Daimensions' attribute rank option is useful for a lot of biomedical data like cancer cells because most of the time we are not only looking to predict which cells are cancerous but also what caused the cancer. Attribute rank helps us learn about this aspect of the data by telling us which attributes most closely correlate with a cell's classification. This greatly contributes to our understanding of the data and helps guide us toward probable cause.\n",
    "\n",
    "Here is a look at our training data and the attributes we're using. For the target column, 2 is benign and 4 is malignant."
   ]
  },
  {
   "cell_type": "code",
   "execution_count": 1,
   "metadata": {},
   "outputs": [
    {
     "output_type": "stream",
     "name": "stdout",
     "text": [
      "Clump_Thickness,Uniformity_of_Cell_Size,Uniformity_of_Cell_Shape,Marginal_Adhesion,Single_Epithelial_Cell_Size,Bare_Nuclei,Bland_Chromatin,Normal_Nucleoli,Mitoses,Class\n5,1,1,1,2,1,3,1,1,2\n5,4,4,5,7,10,3,2,1,2\n3,1,1,1,2,2,3,1,1,2\n6,8,8,1,3,4,3,7,1,2\n4,1,1,3,2,1,3,1,1,2\n8,10,10,8,7,10,9,7,1,4\n1,1,1,1,2,10,3,1,1,2\n2,1,2,1,2,1,3,1,1,2\n2,1,1,1,2,1,1,1,5,2\n"
     ]
    }
   ],
   "source": [
    "! head cancer_train.csv\n",
    "# For Windows command prompt:\n",
    "# type cancer_train.csv | more"
   ]
  },
  {
   "cell_type": "markdown",
   "metadata": {},
   "source": [
    "## 1. Get Measurements\n",
    "\n",
    "We always want to measure our data before building our predictor in order to ensure we are building the right model. For more information about how to use Daimensions and why we want to measure our data beforehand, check out the Titanic notebook."
   ]
  },
  {
   "cell_type": "code",
   "execution_count": 2,
   "metadata": {},
   "outputs": [
    {
     "output_type": "stream",
     "name": "stdout",
     "text": [
      "WARNING: Could not detect a GPU. Neural Network generation will be slow.\n",
      "\n",
      "\u001b[01;1mBrainome Table Compiler 0.991\u001b[0m\n",
      "Copyright (c) 2019-2021 Brainome, Inc. All Rights Reserved.\n",
      "Licensed to:                 Alexander Makhratchev  (Evaluation)\n",
      "Expiration Date:             2021-04-30   45 days left\n",
      "Maximum File Size:           30 GB\n",
      "Maximum Instances:           unlimited\n",
      "Maximum Attributes:          unlimited\n",
      "Maximum Classes:             unlimited\n",
      "Connected to:                daimensions.brainome.ai  (local execution)\n",
      "\n",
      "\u001b[01;1mCommand:\u001b[0m\n",
      "    btc -measureonly cancer_train.csv\n",
      "\n",
      "Start Time:                 03/16/2021, 22:14 UTC\n",
      "\n",
      "\n",
      "\n",
      "\n",
      "\n",
      "\u001b[01;1mPre-training Measurements\u001b[0m\n",
      "Data:\n",
      "    Input:                      cancer_train.csv\n",
      "    Target Column:              Class\n",
      "    Number of instances:        559\n",
      "    Number of attributes:         9\n",
      "    Number of classes:            2\n",
      "\n",
      "Class Balance:                \n",
      "                               2: 63.15%\n",
      "                               4: 36.85%\n",
      "\n",
      "Learnability:\n",
      "    Best guess accuracy:          63.15%\n",
      "    Data Sufficiency:             Maybe enough data to generalize. [yellow]\n",
      "\n",
      "Capacity Progression:             at [ 5%, 10%, 20%, 40%, 80%, 100% ]\n",
      "    Ideal Machine Learner:              3,   4,   4,   4,   5,   5\n",
      "\n",
      "\n",
      "\n",
      "Expected Generalization:\n",
      "    Decision Tree:                43.36 bits/bit\n",
      "    Neural Network:              264.00 bits/bit\n",
      "    Random Forest:                46.58 bits/bit\n",
      "\n",
      "Expected Accuracy               Training            Validation\n",
      "    Decision Tree:                98.03%                95.89%\n",
      "    Neural Network:               94.62%                96.07%\n",
      "    Random Forest:               100.00%                95.71%\n",
      "\n",
      "Recommendations:\n",
      " \n",
      "\n",
      "Time to Build Estimates:\n",
      "    Decision Tree:                a few seconds    Neural Network:                 2 minutes\n",
      "\n",
      "\n",
      "End Time:           03/16/2021, 22:14 UTC\n",
      "Runtime Duration:   12s\n"
     ]
    }
   ],
   "source": [
    "! btc -measureonly cancer_train.csv"
   ]
  },
  {
   "cell_type": "markdown",
   "metadata": {},
   "source": [
    "## 2. Build the Predictor\n",
    "\n",
    "Based on our measurements, Daimensions recommends we use a decision tree, which has lower risk of overfit and higher generalization for this dataset. We are also using -rank to prioritize certain attributes from our data, and we'll look at which attributes Daimensions decides are important later."
   ]
  },
  {
   "cell_type": "code",
   "execution_count": 3,
   "metadata": {
    "codehighlighter": [
     [
      0,
      1
     ],
     [
      0,
      1
     ]
    ]
   },
   "outputs": [
    {
     "output_type": "stream",
     "name": "stdout",
     "text": [
      "WARNING: Could not detect a GPU. Neural Network generation will be slow.\n",
      "\n",
      "\u001b[01;1mBrainome Table Compiler 0.991\u001b[0m\n",
      "Copyright (c) 2019-2021 Brainome, Inc. All Rights Reserved.\n",
      "Licensed to:                 Alexander Makhratchev  (Evaluation)\n",
      "Expiration Date:             2021-04-30   45 days left\n",
      "Maximum File Size:           30 GB\n",
      "Maximum Instances:           unlimited\n",
      "Maximum Attributes:          unlimited\n",
      "Maximum Classes:             unlimited\n",
      "Connected to:                daimensions.brainome.ai  (local execution)\n",
      "\n",
      "\u001b[01;1mCommand:\u001b[0m\n",
      "    btc -v -v -f DT cancer_train.csv -o cancer_predict.py -e 10 -rank --yes\n",
      "\n",
      "Start Time:                 03/16/2021, 22:14 UTC\n",
      "\n",
      "\n",
      "\n",
      "\n",
      "\u001b[01;1mAttribute Ranking:\u001b[0m\n",
      "    Important columns:          Uniformity_of_Cell_Shape, Bare_Nuclei, Clump_Thickness, Normal_Nucleoli, Uniformity_of_Cell_Size, \n",
      "    Risk of coincidental column correlation:    0.0%\n",
      "    Ignoring columns:           Marginal_Adhesion, Single_Epithelial_Cell_Size, Bland_Chromatin, Mitoses\n",
      "    Test Accuracy Progression:\n",
      "           Uniformity_of_Cell_Shape :   91.41%\n",
      "                        Bare_Nuclei :   94.28% change   +2.86%\n",
      "                    Clump_Thickness :   95.71% change   +1.43%\n",
      "                    Normal_Nucleoli :   96.24% change   +0.54%\n",
      "            Uniformity_of_Cell_Size :   96.42% change   +0.18%\n",
      "         \n",
      "\n",
      "\n",
      "\n",
      "\u001b[01;1mPre-training Measurements\u001b[0m\n",
      "Data:\n",
      "    Input:                      cancer_train.csv\n",
      "    Target Column:              Class\n",
      "    Number of instances:        559\n",
      "    Number of attributes:         5\n",
      "    Number of classes:            2\n",
      "\n",
      "Class Balance:                \n",
      "                               2: 63.15%\n",
      "                               4: 36.85%\n",
      "\n",
      "Learnability:\n",
      "    Best guess accuracy:          63.15%\n",
      "    Data Sufficiency:             Not enough data to generalize. [red]\n",
      "\n",
      "Capacity Progression:             at [ 5%, 10%, 20%, 40%, 80%, 100% ]\n",
      "    Ideal Machine Learner:              2,   3,   4,   4,   4,   5\n",
      "\n",
      "Estimated Memory Equivalent Capacity:\n",
      "    Decision Tree:                 5 bits\n",
      "    Neural Networks:              36 bits\n",
      "    Random Forest:                 8 bits\n",
      "\n",
      "Estimated Capacity Utilized:\n",
      "    Trained Neural Network:        1 bits \n",
      "\n",
      "Percent of data that would be memorized:\n",
      "    Decision Tree:                 1.97%\n",
      "    Neural Networks:               7.46%\n",
      "    Random Forest:                 7.02%\n",
      "\n",
      "Expected Generalization:\n",
      "    Decision Tree:               103.31 bits/bit\n",
      "    Neural Network:              262.00 bits/bit\n",
      "    Random Forest:                69.88 bits/bit\n",
      "\n",
      "Expected Accuracy               Training            Validation\n",
      "    Decision Tree:                97.32%                96.42%\n",
      "    Neural Network:               93.91%                95.71%\n",
      "    Random Forest:               100.00%                97.14%\n",
      "\n",
      "Recommendations:\n",
      "    Note: Model type DT given by user. \n",
      "\n",
      "Time to Build Estimates:\n",
      "    Decision Tree:                a few seconds\n",
      "\n",
      "\n",
      "\n",
      "\n",
      "\u001b[01;1mPredictor:\u001b[0m                        cancer_predict.py\n",
      "    Classifier Type:              Decision Tree\n",
      "    System Type:                  Binary classifier\n",
      "    Training / Validation Split:  60% : 40%\n",
      "    Accuracy:\n",
      "      Best-guess accuracy:        63.14%\n",
      "      Training accuracy:          97.01% (325/335 correct)\n",
      "      Validation Accuracy:        97.76% (219/224 correct)\n",
      "      Combined Model Accuracy:    97.31% (544/559 correct)\n",
      "\n",
      "    Model Capacity (MEC):          5    bits\n",
      "\n",
      "    Generalization Ratio:         62.09 bits/bit\n",
      "    Generalization Index:         30.44\n",
      "    Percent of Data Memorized:     3.29%\n",
      "\n",
      "    Training Confusion Matrix:\n",
      "              Actual | Predicted\n",
      "                   2 |  202    7 \n",
      "                   4 |    3  123 \n",
      "\n",
      "    Validation Confusion Matrix:\n",
      "              Actual | Predicted\n",
      "                   2 |  139    5 \n",
      "                   4 |    0   80 \n",
      "\n",
      "    Combined Confusion Matrix:\n",
      "              Actual | Predicted\n",
      "                   2 |  341   12 \n",
      "                   4 |    3  203 \n",
      "\n",
      "    Training Accuracy by Class:\n",
      "               class |   TP   FP   TN   FN     TPR      TNR      PPV      NPV       F1       TS \n",
      "                   2 |  202    3  123    7   96.65%   94.62%   98.54%   94.62%   97.58%   95.28%\n",
      "                   4 |  123    7  202    3   97.62%   98.54%   94.62%   98.54%   96.09%   92.48%\n",
      "\n",
      "    Validation Accuracy by Class:\n",
      "               class |   TP   FP   TN   FN     TPR      TNR      PPV      NPV       F1       TS \n",
      "                   2 |  139    0   80    5   96.53%   94.12%  100.00%   94.12%   98.23%   96.53%\n",
      "                   4 |   80    5  139    0  100.00%  100.00%   94.12%  100.00%   96.97%   94.12%\n",
      "\n",
      "    Combined Accuracy by Class:\n",
      "               class |   TP   FP   TN   FN     TPR      TNR      PPV      NPV       F1       TS \n",
      "                   2 |  341    3  203   12   96.60%   94.42%   99.13%   94.42%   97.85%   95.79%\n",
      "                   4 |  203   12  341    3   98.54%   99.13%   94.42%   99.13%   96.44%   93.12%\n",
      "\n",
      "\n",
      "\n",
      "\n",
      "End Time:           03/16/2021, 22:14 UTC\n",
      "Runtime Duration:   18s\n"
     ]
    }
   ],
   "source": [
    "! btc -v -v -f DT cancer_train.csv -o cancer_predict.py -e 10 -rank --yes"
   ]
  },
  {
   "cell_type": "markdown",
   "metadata": {},
   "source": [
    "## 3. Validate the Model\n",
    "\n",
    "Now we can validate our model on a separate set of data that wasn't used for training."
   ]
  },
  {
   "cell_type": "code",
   "execution_count": 4,
   "metadata": {},
   "outputs": [
    {
     "output_type": "stream",
     "name": "stdout",
     "text": [
      "Classifier Type:                    Decision Tree\n",
      "System Type:                        Binary classifier\n",
      "Best-guess accuracy:                75.00%\n",
      "Model accuracy:                     99.28% (139/140 correct)\n",
      "Improvement over best guess:        24.28% (of possible 25.0%)\n",
      "Model capacity (MEC):               5 bits\n",
      "Generalization ratio:               22.55 bits/bit\n",
      "Model efficiency:                   4.85%/parameter\n",
      "System behavior\n",
      "True Negatives:                     74.29% (104/140)\n",
      "True Positives:                     25.00% (35/140)\n",
      "False Negatives:                    0.00% (0/140)\n",
      "False Positives:                    0.71% (1/140)\n",
      "True Pos. Rate/Sensitivity/Recall:  1.00\n",
      "True Neg. Rate/Specificity:         0.99\n",
      "Precision:                          0.97\n",
      "F-1 Measure:                        0.99\n",
      "False Negative Rate/Miss Rate:      0.00\n",
      "Critical Success Index:             0.97\n",
      "Confusion Matrix:\n",
      " [74.29% 0.71%]\n",
      " [0.00% 25.00%]\n"
     ]
    }
   ],
   "source": [
    "! python3 cancer_predict.py -validate cancer_valid.csv"
   ]
  },
  {
   "cell_type": "markdown",
   "metadata": {},
   "source": [
    "## 4. Learn From Attribute Rank\n",
    "\n",
    "From validating the data, we can see that the predictor has 99.28% accuracy. This is great for making predictions on future data. However, what might be of greater interest is looking at the output from building our predictor, specifically the attributes that Daimensions decided to use. Under the section of output called \"Attribute Rank,\" Daimensions has listed the attributes used: Uniformity_of_Cell_Size, Bare_Nuclei, Clump_Thickness, Marginal_Adhesion, Mitoses, and Uniformity_of_Cell_Shape. This information about what attributes were the best predictors of malignant cancer cells is valuable to scientists looking for the causes of this cancer."
   ]
  },
  {
   "cell_type": "markdown",
   "metadata": {},
   "source": [
    "## Citation\n",
    "This breast cancer databases was obtained from the University of Wisconsin Hospitals, Madison from Dr. William H. Wolberg.\n",
    "\n",
    "Sources:\n",
    "- Dr. WIlliam H. Wolberg (physician), University of Wisconsin Hospitals, Madison, Wisconsin, USA\n",
    "- Donor: Olvi Mangasarian (mangasarian@cs.wisc.edu), received by David W. Aha (aha@cs.jhu.edu)\n",
    "- Date: 15 July 1992"
   ]
  }
 ],
 "metadata": {
  "kernelspec": {
   "display_name": "Python 3",
   "language": "python",
   "name": "python3"
  },
  "language_info": {
   "codemirror_mode": {
    "name": "ipython",
    "version": 3
   },
   "file_extension": ".py",
   "mimetype": "text/x-python",
   "name": "python",
   "nbconvert_exporter": "python",
   "pygments_lexer": "ipython3",
   "version": "3.7.6-final"
  }
 },
 "nbformat": 4,
 "nbformat_minor": 2
}