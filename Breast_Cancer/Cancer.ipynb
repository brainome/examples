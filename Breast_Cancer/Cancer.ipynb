{
 "cells": [
  {
   "cell_type": "markdown",
   "metadata": {},
   "source": [
    "# Breast Cancer Data Prediction Using Daimensions\n",
    "\n",
    "In this notebook, we'll be working with a dataset from the University of California Irvine's Machine Learning Repository. It has nine attribute columns to describe various aspects of cells and one classification column that classifies each cell as benign or malignant cancer. More information about the data can be found at: https://archive.ics.uci.edu/ml/datasets/Breast+Cancer+Wisconsin+(Diagnostic).\n",
    "\n",
    "We have two goals: one is to build a model predicting whether a cell is benign or malignant on future cell data and the other is to use attribute rank to learn about which attributes of the cell are most important for predicting cancer in cells. Daimensions' attribute rank option is useful for a lot of biomedical data like cancer cells because most of the time we are not only looking to predict which cells are cancerous but also what caused the cancer. Attribute rank helps us learn about this aspect of the data by telling us which attributes most closely correlate with a cell's classification. This greatly contributes to our understanding of the data and helps guide us toward probable cause.\n",
    "\n",
    "Here is a look at our training data and the attributes we're using. For the target column, 2 is benign and 4 is malignant."
   ]
  },
  {
   "cell_type": "code",
   "execution_count": 1,
   "metadata": {},
   "outputs": [
    {
     "output_type": "stream",
     "name": "stdout",
     "text": [
      "Clump_Thickness,Uniformity_of_Cell_Size,Uniformity_of_Cell_Shape,Marginal_Adhesion,Single_Epithelial_Cell_Size,Bare_Nuclei,Bland_Chromatin,Normal_Nucleoli,Mitoses,Class\n5,1,1,1,2,1,3,1,1,2\n5,4,4,5,7,10,3,2,1,2\n3,1,1,1,2,2,3,1,1,2\n6,8,8,1,3,4,3,7,1,2\n4,1,1,3,2,1,3,1,1,2\n8,10,10,8,7,10,9,7,1,4\n1,1,1,1,2,10,3,1,1,2\n2,1,2,1,2,1,3,1,1,2\n2,1,1,1,2,1,1,1,5,2\n"
     ]
    }
   ],
   "source": [
    "! head cancer_train.csv\n",
    "# For Windows command prompt:\n",
    "# type cancer_train.csv | more"
   ]
  },
  {
   "cell_type": "markdown",
   "metadata": {},
   "source": [
    "## 1. Get Measurements\n",
    "\n",
    "We always want to measure our data before building our predictor in order to ensure we are building the right model. For more information about how to use Daimensions and why we want to measure our data beforehand, check out the Titanic notebook."
   ]
  },
  {
   "cell_type": "code",
   "execution_count": 2,
   "metadata": {},
   "outputs": [
    {
     "output_type": "stream",
     "name": "stdout",
     "text": [
      "Brainome Daimensions(tm) 0.99 Copyright (c) 2019, 2020 by Brainome, Inc. All Rights Reserved.\n",
      "Licensed to: Alexander Makhratchev\n",
      "Expiration date: 2021-04-30 (65 days left)\n",
      "Number of threads: 1\n",
      "Maximum file size: 30720MB\n",
      "Running locally.\n",
      "WARNING: Could not detect a GPU. Neural Network generation will be slow.\n",
      "\n",
      "Data:\n",
      "Number of instances: 559\n",
      "Number of attributes: 9\n",
      "Number of classes: 2\n",
      "Class balance: 63.15% 36.85%\n",
      "\n",
      "Learnability:\n",
      "Best guess accuracy: 63.15%\n",
      "Capacity progression: [4, 5, 5, 5, 7, 7]\n",
      "Decision Tree: 12 parameters\n",
      "Estimated Memory Equivalent Capacity for Neural Networks: 56 parameters\n",
      "\n",
      "Risk that model needs to overfit for 100% accuracy...\n",
      "using Decision Tree: 4.70%\n",
      "using Neural Networks: 56.00%\n",
      "\n",
      "Expected Generalization...\n",
      "using Decision Tree: 43.36 bits/bit\n",
      "using a Neural Network: 9.48 bits/bit\n",
      "\n",
      "Recommendations:\n",
      "Note: Maybe enough data to generalize. [yellow]\n",
      "Note: Decision Tree clustering may outperform Neural Networks. Try with -f DT.\n",
      "Warning: Remapped class labels to be contiguous. Use -cm if DET/ROC-based accuracy measurements are wrong.\n",
      "Time estimate for a Neural Network:\n",
      "Estimated time to architect: 0d 0h 0m 0s\n",
      "\n",
      "Estimated time to prime (subject to change after model architecting): 0d 0h 2m 9s\n",
      "\n",
      "Time estimate for Decision Tree:\n",
      "Estimated time to prime a decision tree: a few seconds\n"
     ]
    }
   ],
   "source": [
    "! ./btc -measureonly cancer_train.csv"
   ]
  },
  {
   "cell_type": "markdown",
   "metadata": {},
   "source": [
    "## 2. Build the Predictor\n",
    "\n",
    "Based on our measurements, Daimensions recommends we use a decision tree, which has lower risk of overfit and higher generalization for this dataset. We are also using -rank to prioritize certain attributes from our data, and we'll look at which attributes Daimensions decides are important later."
   ]
  },
  {
   "cell_type": "code",
   "execution_count": 3,
   "metadata": {
    "codehighlighter": [
     [
      0,
      1
     ],
     [
      0,
      1
     ]
    ]
   },
   "outputs": [
    {
     "output_type": "stream",
     "name": "stdout",
     "text": [
      "Brainome Daimensions(tm) 0.99 Copyright (c) 2019, 2020 by Brainome, Inc. All Rights Reserved.\n",
      "Licensed to: Alexander Makhratchev\n",
      "Expiration date: 2021-04-30 (65 days left)\n",
      "Number of threads: 1\n",
      "Maximum file size: 30720MB\n",
      "Running locally.\n",
      "WARNING: Could not detect a GPU. Neural Network generation will be slow.\n",
      "\n",
      "Input: cancer_train.csv\n",
      "\n",
      "\n",
      "Note: Class labels required remapping onto contiguous integers. Mapped as follows: {'2': 0, '4': 1}\n",
      "\n",
      "\n",
      "\n",
      "\n",
      "Attribute Ranking:\n",
      "Using only the important columns: Uniformity_of_Cell_Shape Bare_Nuclei Clump_Thickness Normal_Nucleoli Uniformity_of_Cell_Size \n",
      "Risk of coincidental column correlation: <0.001%\n",
      "\n",
      "Data:\n",
      "Number of instances: 559\n",
      "Number of attributes: 5\n",
      "Number of classes: 2\n",
      "Class balance: 63.15% 36.85%\n",
      "\n",
      "Learnability:\n",
      "Best guess accuracy: 63.15%\n",
      "Capacity progression: [3, 5, 6, 6, 6, 8]\n",
      "Decision Tree: 5 parameters\n",
      "Estimated Memory Equivalent Capacity for Neural Networks: 36 parameters\n",
      "\n",
      "Risk that model needs to overfit for 100% accuracy...\n",
      "using Decision Tree: 1.97%\n",
      "using Neural Networks: 56.25%\n",
      "\n",
      "Expected Generalization...\n",
      "using Decision Tree: 103.31 bits/bit\n",
      "using a Neural Network: 14.74 bits/bit\n",
      "\n",
      "Recommendations:\n",
      "Warning: Not enough data to generalize. [red]\n",
      "Note: Decision Tree clustering may outperform Neural Networks. Try with -f DT.\n",
      "Warning: Remapped class labels to be contiguous. Use -cm if DET/ROC-based accuracy measurements are wrong.\n",
      "Time estimate for Decision Tree:\n",
      "Estimated time to prime a decision tree: a few seconds\n",
      "Note: Machine learner type DT given by user.\n",
      "\n",
      "Estimated time to train a decision tree: less than a minute\n",
      "\n",
      "\n",
      "\n",
      "Classifier Type:                     Decision Tree\n",
      "System Type:                         Binary classifier\n",
      "Best-guess accuracy:                 63.14%\n",
      "Overall Model accuracy:              97.31% (544/559 correct)\n",
      "Overall Improvement over best guess: 34.17% (of possible 36.86%)\n",
      "Model capacity (MEC):                5 bits\n",
      "Generalization ratio:                103.31 bits/bit\n",
      "Model efficiency:                    6.83%/parameter\n",
      "System behavior\n",
      "True Negatives:                      61.00% (341/559)\n",
      "True Positives:                      36.31% (203/559)\n",
      "False Negatives:                     0.54% (3/559)\n",
      "False Positives:                     2.15% (12/559)\n",
      "True Pos. Rate/Sensitivity/Recall:   0.99\n",
      "True Neg. Rate/Specificity:          0.97\n",
      "Precision:                           0.94\n",
      "F-1 Measure:                         0.96\n",
      "False Negative Rate/Miss Rate:       0.01\n",
      "Critical Success Index:              0.93\n",
      "Confusion Matrix:\n",
      " [61.00% 2.15%]\n",
      " [0.54% 36.31%]\n",
      "Generalization efficiency:           50.64\n",
      "Overfitting:                         No\n",
      "Note: Unable to split dataset. The predictor was trained and evaluated on the same data.\n",
      "Note: Labels have been remapped to '2'=0, '4'=1.\n",
      "Using only the important columns: Uniformity_of_Cell_Shape Bare_Nuclei Clump_Thickness Normal_Nucleoli Uniformity_of_Cell_Size \n",
      "Risk of coincidental column correlation: <0.001%\n",
      "\n",
      "\n",
      "Output: cancer_predict.py \n",
      "READY.\n"
     ]
    }
   ],
   "source": [
    "! ./btc -v -v -f DT cancer_train.csv -o cancer_predict.py -e 10 -rank"
   ]
  },
  {
   "cell_type": "markdown",
   "metadata": {},
   "source": [
    "## 3. Validate the Model\n",
    "\n",
    "Now we can validate our model on a separate set of data that wasn't used for training."
   ]
  },
  {
   "cell_type": "code",
   "execution_count": 4,
   "metadata": {},
   "outputs": [
    {
     "output_type": "stream",
     "name": "stdout",
     "text": [
      "Classifier Type:                    Decision Tree\n",
      "System Type:                        Binary classifier\n",
      "Best-guess accuracy:                75.00%\n",
      "Model accuracy:                     99.28% (139/140 correct)\n",
      "Improvement over best guess:        24.28% (of possible 25.0%)\n",
      "Model capacity (MEC):               5 bits\n",
      "Generalization ratio:               22.55 bits/bit\n",
      "Model efficiency:                   4.85%/parameter\n",
      "System behavior\n",
      "True Negatives:                     74.29% (104/140)\n",
      "True Positives:                     25.00% (35/140)\n",
      "False Negatives:                    0.00% (0/140)\n",
      "False Positives:                    0.71% (1/140)\n",
      "True Pos. Rate/Sensitivity/Recall:  1.00\n",
      "True Neg. Rate/Specificity:         0.99\n",
      "Precision:                          0.97\n",
      "F-1 Measure:                        0.99\n",
      "False Negative Rate/Miss Rate:      0.00\n",
      "Critical Success Index:             0.97\n",
      "Confusion Matrix:\n",
      " [74.29% 0.71%]\n",
      " [0.00% 25.00%]\n"
     ]
    }
   ],
   "source": [
    "! python3 cancer_predict.py -validate cancer_valid.csv"
   ]
  },
  {
   "cell_type": "markdown",
   "metadata": {},
   "source": [
    "## 4. Learn From Attribute Rank\n",
    "\n",
    "From validating the data, we can see that the predictor has 98.57% accuracy. This is great for making predictions on future data. However, what might be of greater interest is looking at the output from building our predictor, specifically the attributes that Daimensions decided to use. Under the section of output called \"Attribute Rank,\" Daimensions has listed the attributes used: Uniformity_of_Cell_Size, Bare_Nuclei, Clump_Thickness, Marginal_Adhesion, Mitoses, and Uniformity_of_Cell_Shape. This information about what attributes were the best predictors of malignant cancer cells is valuable to scientists looking for the causes of this cancer."
   ]
  },
  {
   "cell_type": "markdown",
   "metadata": {},
   "source": [
    "## Citation\n",
    "This breast cancer databases was obtained from the University of Wisconsin Hospitals, Madison from Dr. William H. Wolberg.\n",
    "\n",
    "Sources:\n",
    "- Dr. WIlliam H. Wolberg (physician), University of Wisconsin Hospitals, Madison, Wisconsin, USA\n",
    "- Donor: Olvi Mangasarian (mangasarian@cs.wisc.edu), received by David W. Aha (aha@cs.jhu.edu)\n",
    "- Date: 15 July 1992"
   ]
  }
 ],
 "metadata": {
  "kernelspec": {
   "display_name": "Python 3",
   "language": "python",
   "name": "python3"
  },
  "language_info": {
   "codemirror_mode": {
    "name": "ipython",
    "version": 3
   },
   "file_extension": ".py",
   "mimetype": "text/x-python",
   "name": "python",
   "nbconvert_exporter": "python",
   "pygments_lexer": "ipython3",
   "version": "3.7.6-final"
  }
 },
 "nbformat": 4,
 "nbformat_minor": 2
}